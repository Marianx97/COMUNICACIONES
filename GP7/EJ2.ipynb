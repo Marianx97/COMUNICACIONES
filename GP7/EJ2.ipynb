{
 "cells": [
  {
   "cell_type": "markdown",
   "metadata": {},
   "source": [
    "# Ejercicio 2\n",
    "\n",
    "![consigna](img/ej2_consigna.JPG)\n"
   ]
  },
  {
   "cell_type": "markdown",
   "metadata": {},
   "source": [
    "## a)\n",
    "\n",
    "$\\displaystyle SNR_o = 40dB$\n",
    "\n",
    "$\\displaystyle \\#{\\:}secciones = 8$\n",
    "\n",
    "$\\displaystyle l=2\\frac{db}{Km}$\n",
    "\n",
    "$\\displaystyle d_{seccion} = 10Km$\n",
    "\n",
    "$\\displaystyle F_1 = L_{seccion} = l.d_{seccion} = 2\\frac{db}{Km} . 10Km = 20dB = 100{\\:}veces$\n",
    "\n",
    "$\\displaystyle F_2 = F_{amp} = 8dB = 6,3{\\:}veces$\n",
    "\n",
    "$\\displaystyle F_{seccion} = F_1 + \\frac{F_2-1}{G1} = 100 + \\frac{6,3-1}{0,01} = 630$\n",
    "\n",
    "$\\displaystyle F_{total} = \\#{\\:}secciones.F_{seccion}-(\\#{\\:}secciones-1) = 8.630-(8-1) = 5033=37dB$\n",
    "\n",
    "$\\displaystyle SNR_o = \\frac{SNR_i}{F}|_{T_i=T_0}$\n",
    "\n",
    "$\\displaystyle SNR_i[dB] = SNR_o[dB]+F[dB] = 40dB+37dB=77dB$\n"
   ]
  },
  {
   "cell_type": "markdown",
   "metadata": {},
   "source": [
    "## b)\n",
    "\n",
    "Para mantener las mismas SNR's, se debe mantener el mismo factor de ruido total.\n",
    "\n",
    "$\\displaystyle F_{seccion} = F_1 + \\frac{F_2-1}{G1} = F_1 + (F_2-1).F_1 = l_1 + (F_2-1).l_1 = l_1.(1+F_2-1) = l_1.F_2$\n",
    "\n",
    "$\\displaystyle F_2 = 2dB = 1,58{\\:}veces$\n",
    "\n",
    "$\\displaystyle l_1 = \\frac{F_{seccion}}{F_2} = \\frac{630}{1,58} = 398,7 = 26dB$\n",
    "\n",
    "Como cada tramo atenua $26dB$ y el factor de atenuación es $2dB/Km$ entonces cada tramo tiene una distancia de $13Km$\n",
    "\n",
    "$\\displaystyle \\#{\\:}secciones = \\frac{80Km}{13Km} = 6,15 \\to 7{\\:}secciones$\n"
   ]
  },
  {
   "cell_type": "markdown",
   "metadata": {},
   "source": [
    "## c)\n",
    "\n",
    "Considerando que se utilizan $14$ secciones:\n",
    "\n",
    "$\\displaystyle d_{seccion} = \\frac{80Km}{14} = 5,71Km$\n",
    "\n",
    "$\\displaystyle l_{seccion} = l.d_{seccion} = 2\\frac{db}{Km}.5,71Km=11,42dB=13,86dB$\n",
    "\n",
    "$\\displaystyle F_{seccion} = l_1+\\frac{F_{amp}-1}{\\frac{1}{l_1}} = 13,86+(1,58-1).13,86 = 21,8$\n",
    "\n",
    "$\\displaystyle F_{total} = \\#{\\:}secciones.F_{seccion} - (\\#{\\:}secciones-1) = 14.21,8-(14-1) = 292,56 = 24,65dB$\n",
    "\n",
    "$\\displaystyle SNR_o[dB] = SNR_i[dB]-F_{total}[dB] = 77dB-24,65dB = 52,35dB$\n",
    "\n",
    "El valor de $SNR_o$ paso de $40dB$ a $52,35dB$, es decir, hubo una mejoría de $12,45dB$\n"
   ]
  },
  {
   "cell_type": "markdown",
   "metadata": {},
   "source": [
    "## d)\n",
    "\n",
    "$\\displaystyle SNR_o = \\frac{SNR_i}{F_{seccion}}$\n",
    "\n",
    "$\\displaystyle 0,1.SNR_i = \\frac{SNR_i}{F_{seccion}} \\to F_{seccion} =\\frac{1}{0,1} = 10 = 10dB$\n",
    "\n",
    "$\\displaystyle F_{seccion} = l_1+(6,3-1).l_1 = l_1.6,3 \\to l_1 = \\frac{F_{seccion}}{6,3} = \\frac{10}{6,3} = 1,58 = 2dB$\n",
    "\n",
    "Como $l_1 = 2dB$ y la atenuación es de $2dB/Km$, entonces cada sección debe medir $1Km$\n"
   ]
  },
  {
   "cell_type": "markdown",
   "metadata": {},
   "source": [
    "## e)\n",
    "\n",
    "Si se puede invertir el orden del amplificador y el coaxil. En ese caso, el factor de ruido de cada sección sería:\n",
    "\n",
    "$\\displaystyle F_{seccion} = F_{amp} + \\frac{f_coax-1}{G_{amp}} = 6,3 + \\frac{100-1}{100} \\approx 6,3$\n",
    "\n",
    "Resulta en un sistema con mejor factor de ruido por sección.\n"
   ]
  }
 ],
 "metadata": {
  "language_info": {
   "name": "python"
  }
 },
 "nbformat": 4,
 "nbformat_minor": 2
}
