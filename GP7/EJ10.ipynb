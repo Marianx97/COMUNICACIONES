{
 "cells": [
  {
   "cell_type": "markdown",
   "metadata": {},
   "source": [
    "# Ejercicio 10\n",
    "\n",
    "![consigna](img/ej10_consigna.JPG)\n"
   ]
  },
  {
   "cell_type": "markdown",
   "metadata": {},
   "source": [
    "$\\displaystyle B_{eq} = 1,25.B_{tx}$\n",
    "\n",
    "$\\displaystyle T_e = 100ºK$\n",
    "\n",
    "$\\displaystyle \\eta = 10^{-20} \\to T_i = \\frac{\\eta}{k} = 724,29ºK$\n",
    "\n",
    "$\\displaystyle P_{ao} = \\eta.B_{eq} = \\eta.1,25.B_{tx}$\n",
    "\n",
    "$\\displaystyle T_e = \\frac{P_{ao} - k.T_i.G_a.B_{eq}}{k.G_a.B_{eq}} \\to G_a = \\frac{P_{ao}}{k.B_{eq}.(T_e+T_i)} = \\frac{P_{ao}}{k.1,25.B_{tx}.(T_e+T_i)}$\n"
   ]
  },
  {
   "cell_type": "markdown",
   "metadata": {},
   "source": [
    "Diagrama del sistema:\n",
    "\n",
    "![diagrama](img/ej10_diagrama.JPG)"
   ]
  },
  {
   "cell_type": "markdown",
   "metadata": {},
   "source": [
    "## SSB\n",
    "\n",
    "$\\displaystyle B_{tx} = 3,5KHz$\n",
    "\n",
    "$\\displaystyle {SNR}_d = \\frac{A_c^2. \\langle m^2_{(t)}\\rangle }{N_0.B}$\n",
    "\n",
    "$\\displaystyle {SNR}_s = \\frac{A_c^2. \\langle m^2_{(t)}\\rangle }{N_0.B}$\n",
    "\n",
    "$\\displaystyle \\frac{{SNR}_s}{{SNR}_d} = 1 \\to {SNR}_d = {SNR}_s = 30dB$\n",
    "\n",
    "$\\displaystyle P_{ao} = 1,25.3500Hz.10^{-20}\\frac{W}{Hz} = 4,375x10^{-17} \\to G_a = 0,8786=-0,5616dB$\n",
    "\n",
    "$\\displaystyle {SNR}_s = 30dB \\to S_s = 10^3.N_s = 10^3.P_{ao} = 4,375x10^{-14}$\n",
    "\n",
    "$\\displaystyle S_i = \\frac{S_s}{G_a} =4,979x10^{-14} = -133,03dB$\n",
    "\n",
    "$\\displaystyle S_{tx} = S_i[dB]+Att = \\left\\{\\begin{array}{cc} -133,03dB+140dB=6,97dB \\\\ -133,03dB+134dB=0,97dB \\end{array} \\right\\}$\n",
    "\n",
    "## FM sin preénfasis\n",
    "\n",
    "$\\displaystyle B_{tx} = 2.f_m+2.{\\Delta}f = 2.3500Hz+2.25000Hz = 57000Hz$\n",
    "\n",
    "$\\displaystyle \\beta = \\frac{{\\Delta}f}{f_m} = \\frac{25000Hz}{35000Hz} = \\frac{50}{7}$\n",
    "\n",
    "$\\displaystyle \\beta_f = \\frac{B_{eq}}{2.f_m} - 1 = \\frac{1,25.57000Hz}{2.3500Hz}-1 = 9,1785$\n",
    "\n",
    "$\\displaystyle {SNR}_d = \\frac{B.A_c^2.\\beta_f^2.\\frac{1}{(FC)^2}}{2.N_0.B}$\n",
    "\n",
    "$\\displaystyle {SNR}_s = \\frac{A_c^2}{4.N_0.(\\beta_f+1).B_{eq}}$\n",
    "\n",
    "$\\displaystyle \\frac{{SNR}_d}{{SNR}_s} = 6.\\beta_f.(\\beta_f+1).\\frac{1}{(FC)^2} = 35,3695$\n",
    "\n",
    "$\\displaystyle {SNR}_s = \\frac{{SNR}_d}{35,3695} = \\frac{10^3}{35,3695} = 28,2729$\n",
    "\n",
    "$\\displaystyle N_s = P_{ao} = 1,25.57000Hz.10^{-20}\\frac{W}{Hz} = 7,125x10^{-16}W$\n",
    "\n",
    "$\\displaystyle G_a = 0,8786 = 0,5616dB$\n",
    "\n",
    "$\\displaystyle S_s = 28,2729.7,125x10^{-16}W = 2,014x10^{-14}W$\n",
    "\n",
    "$\\displaystyle S_i = \\frac{S_s}{G_a} = 2,2927x10^{-14} = -136,3963dB$\n",
    "\n",
    "$\\displaystyle S_{tx} = S_i[dB] + Att = \\left\\{ \\begin{array}{cc} -136,3963dB+140db=3,6dB=2,2928W \\\\ -136,3963dB+134db=-2,39dBdB=0,5759W\\end{array} \\right\\}$\n",
    "\n",
    "## BPSK\n",
    "\n",
    "$\\displaystyle n = 8{\\:}bits \\to M=2^8=256{\\:}niveles$\n",
    "\n",
    "$\\displaystyle r=0,25$\n",
    "\n",
    "$\\displaystyle l=2$\n",
    "\n",
    "$\\displaystyle f=3500Hz \\to f \\geq 7000Hz$\n",
    "\n",
    "$\\displaystyle R = n.f_s=56000bps$\n",
    "\n",
    "$\\displaystyle D = \\frac{2.B}{1+r} \\to B = \\frac{D.(1+r)}{2} = 35000Hz$\n",
    "\n",
    "$\\displaystyle C = B.1,25.\\log_2{(1+SNR)} = 43750Hz.\\log_2{(1+10^3)} = 436066$\n",
    "\n",
    "Considerando que:\n",
    "\n",
    "$\\displaystyle SNR = \\frac{M^2.\\frac{1}{(FC)^2}}{1+4.P_e.(M^2-1)}$\n",
    "\n",
    "Entonces:\n",
    "\n",
    "$\\displaystyle P_e = \\frac{M^2-(FC)^2.SNR}{4.(M^2-1).(FC)^2.SNR} = \\frac{(256)^2-3,981.10^3}{4.((256)^2-1).3,981.10^3} = 11,96x10^{-6}$\n",
    "\n",
    "$\\displaystyle K \\approx 4,5 = \\sqrt{\\frac{A^2}{N_0.B_{eq}}}$\n",
    "\n",
    "$\\displaystyle S_s = A^2 = K^2.N_0.B_{eq} = 4,5^2.10^{-20}.1,25.35000Hz = 8,859x10^{-15}W$\n",
    "\n",
    "$\\displaystyle S_i = S_s.G_a = 7,78x10^{-15} = -141,08dB$\n",
    "\n",
    "$\\displaystyle S_{tx} = S_i[dB] + Att = \\left\\{\\begin{array}{cc} -141,08dB + 140dB = -1,88dB = 0,778W \\\\ -141,08dB + 136dB = -5,088dB = 0,309W \\end{array}\\right\\}$\n",
    "\n",
    "Con QPSK:\n",
    "\n",
    "$\\displaystyle l=4 \\to D = \\frac{56000}{4} = 14000{\\:}bauds \\to \\left\\{\\begin{array}{cc} D < 100KHz \\\\ D < 65KHz \\\\ D < 40KHz \\\\ D < 20KHz \\end{array}\\right\\}$\n"
   ]
  },
  {
   "cell_type": "markdown",
   "metadata": {},
   "source": [
    "## Resultados\n",
    "\n",
    "![tabla](img/ej10_resultados.JPG)"
   ]
  }
 ],
 "metadata": {
  "language_info": {
   "name": "python"
  }
 },
 "nbformat": 4,
 "nbformat_minor": 2
}
