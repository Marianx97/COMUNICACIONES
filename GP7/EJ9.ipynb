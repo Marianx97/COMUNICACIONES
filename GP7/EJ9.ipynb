{
 "cells": [
  {
   "cell_type": "markdown",
   "metadata": {},
   "source": [
    "# Ejercicio 9\n",
    "\n",
    "![consigna](img/ej9_consigna.JPG)"
   ]
  },
  {
   "cell_type": "markdown",
   "metadata": {},
   "source": [
    "## a)\n",
    "\n",
    "El ancho de banda de nulo a nulo para una señal QPSK se calcula como:\n",
    "\n",
    "$\\displaystyle B_{n-n} = \\frac{2.R}{l}$\n",
    "\n",
    "$M = 2^l$\n",
    "\n",
    "Para QPSK $M=4$, entonces $l=2$.\n",
    "\n",
    "Finalmente:\n",
    "\n",
    "$\\displaystyle B_{n-n} = \\frac{2.R}{2} = R$\n",
    "\n",
    "$B_{n-n} = 45MHz$"
   ]
  },
  {
   "cell_type": "markdown",
   "metadata": {},
   "source": [
    "## b)\n",
    "\n",
    "El ancho de banda mínimo para una señal QPSK se calcula como:\n",
    "\n",
    "$\\displaystyle B_{min} = \\frac{R}{2} = 22,5MHz$"
   ]
  },
  {
   "cell_type": "markdown",
   "metadata": {},
   "source": [
    "## c)\n",
    "\n",
    "Considerando que:\n",
    "\n",
    "* La potencia transmitida es: $S_t = 1,185 W$\n",
    "* La atenuación en el trayecto es: $L = 120dB = 10^{12}$\n",
    "* El tiempo de bit es: $\\displaystyle T_b = \\frac{1}{R}$\n",
    "* La cifra de ruido es: $\\displaystyle F_r = 3,5dB = 2,24$\n",
    "\n",
    "La tasa de error de bits (BER) se calcula como:\n",
    "\n",
    "$\\displaystyle S_r = \\frac{S_t}{L} = \\frac{1,185W}{10^{12}} = 1,185pW$\n",
    "\n",
    "$\\displaystyle E_b = S_r . T_b = \\frac{S_r}{R} = \\frac{1,185pW}{45MHz} = 2,63x10^{-20} \\left[\\frac{W}{Hz}\\right]$\n",
    "\n",
    "$\\displaystyle \\eta = k.(T_i + T_e) = k.[T_i+T_0.(F_r-1)] = 5,72x10^{-21} \\left[\\frac{W}{Hz}\\right]$\n",
    "\n",
    "$\\displaystyle P_e = Q_{\\left(\\sqrt{2.\\frac{E_b}{\\eta}}\\right)} = Q_{\\left(\\sqrt{2.\\frac{2,63x10^{-20}}{5,72x10^{-21}}}\\right)} = Q_{(3,032)}$\n",
    "\n",
    "Por tabla:\n",
    "\n",
    "$P_e = Q_{(3,032)} = 1,35x10^{-3}$"
   ]
  },
  {
   "cell_type": "markdown",
   "metadata": {},
   "source": [
    "## d)\n",
    "\n",
    "Para obtener una tasa de error inferior a $10^{-6}$ se debe calcular la potencia de la siguiente forma:\n",
    "\n",
    "$\\displaystyle P_e = Q_{\\left(\\sqrt{2.\\frac{E_b}{\\eta}}\\right)} = 10^{-6}$\n",
    "\n",
    "Por tabla:\n",
    "\n",
    "$\\displaystyle \\left(\\sqrt{2.\\frac{E_b}{\\eta}}\\right) = 4,75$\n",
    "\n",
    "Por lo tanto, la energía de bit se calcula como:\n",
    "\n",
    "$\\displaystyle E_b = \\frac{4,75^2.\\eta}{2} = 6,45x10^{-20} \\left[\\frac{W}{Hz}\\right]$\n",
    "\n",
    "$\\displaystyle E_b = \\frac{S_r}{R}$\n",
    "\n",
    "$\\displaystyle S_r = E_b . R = 6,45x10^{-20} \\left[\\frac{W}{Hz}\\right] . 45x10^6Hz = 2,9pW$\n",
    "\n",
    "Finalmente:\n",
    "\n",
    "$\\displaystyle S_t = S_r . L = 2,9pW . 10^{12} = 2,9W$"
   ]
  }
 ],
 "metadata": {
  "language_info": {
   "name": "python"
  }
 },
 "nbformat": 4,
 "nbformat_minor": 2
}
