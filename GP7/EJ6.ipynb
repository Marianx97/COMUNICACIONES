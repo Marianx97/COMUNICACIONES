{
 "cells": [
  {
   "cell_type": "markdown",
   "metadata": {},
   "source": [
    "# Ejercicio 6\n",
    "\n",
    "![consigna](img/ej6_consigna.JPG)\n"
   ]
  },
  {
   "cell_type": "markdown",
   "metadata": {},
   "source": [
    "![diagrama](img/ej6_diagrama.JPG)\n",
    "\n",
    "$\\displaystyle T_i = T_0 = 290ºK$\n",
    "\n",
    "$\\displaystyle F = F_{RF} + \\frac{F_{FI-1}}{G_{RF}} = 1,5849 + \\frac{5,0119-1}{31,6228} = 1,458 = 1,6377dB$\n",
    "\n",
    "$\\displaystyle \\beta = \\frac{{\\Delta}F}{B} = \\frac{75KHz}{15KHz} = 5$\n",
    "\n",
    "$\\displaystyle \\hat{V} = 2.A_c$\n",
    "\n",
    "$\\displaystyle V_{rms} = \\frac{\\hat{V}}{\\sqrt{2}}$\n",
    "\n",
    "$\\displaystyle FC = \\frac{\\hat{V}}{V_{rms}} = \\frac{\\hat{V}}{\\frac{\\hat{V}}{\\sqrt{2}}} = \\sqrt{2} \\to (FC)^2 = 2$\n",
    "\n",
    "Entonces:\n",
    "\n",
    "$\\displaystyle \\frac{{SNR}_R}{{SNR}_{RF}} = 6.\\beta^2.(\\beta + 1).\\frac{1}{(FC)^2} = 6.5^2.(5+1).\\frac{1}{2} = 450 = 26,53dB$\n"
   ]
  },
  {
   "cell_type": "markdown",
   "metadata": {},
   "source": [
    "## a) y c)\n",
    "\n",
    "$\\displaystyle \\frac{{SNR}_{RF}}{{SNR}_D} = \\frac{3}{\\sqrt{2}}.\\beta^2 = \\frac{3}{\\sqrt{2}}.5^2 = 53,033 = 17,25dB $\n",
    "\n",
    "**c)**:\n",
    "\n",
    "$\\displaystyle {SNR}_{RF} = {SNR}_D . 53,033 = {SNR}_D[dB] + 17,25dB = 60dB + 17,25dB = 77,25dB$\n",
    "\n",
    "**a)**:\n",
    "\n",
    "$\\displaystyle {SNR}_R = {SNR}_{RF} . 450 = {SNR}_{RF}[dB] + 26,53dB = 103,78dB$\n"
   ]
  },
  {
   "cell_type": "markdown",
   "metadata": {},
   "source": [
    "## b)\n",
    "\n",
    "\n",
    "$\\displaystyle \\frac{{SNR}_S}{{SNR}_R} = F$\n",
    "\n",
    "$\\displaystyle {SNR}_S = F . {SNR}_R = 1,6377dB + 103,78dB = 105,42dB$\n"
   ]
  },
  {
   "cell_type": "markdown",
   "metadata": {},
   "source": [
    "## d)\n",
    "\n",
    "Desde el punto de vista del ruido, no habría inconvenientes en aumentar el ancho de banda del filtro de RF ya que es el factor de ruido quien impone la SNR y el ancho de banda no interviene.\n"
   ]
  },
  {
   "cell_type": "markdown",
   "metadata": {},
   "source": [
    "## e)\n",
    "\n",
    "Para determinar la máxima distancia, se debe considerar el efecto umbral, es decir que ${SNR}_R = 10dB$:\n",
    "\n",
    "$\\displaystyle {SNR}_R = 10dB \\to {SNR}_S = 1,6377dB + 10dB = 11,6377dB$\n",
    "\n",
    "$\\displaystyle P_t = 30dBm + 2.(2,14dB) - Att(d) = 11,6377dB$\n",
    "\n",
    "$\\displaystyle Att(d) = 34,28dBm - 11,6377dB = 22,6423dBm$\n",
    "\n",
    "$\\displaystyle Att(d) = 20.\\log{\\left(\\frac{4\\pi.d.f}{C}\\right)} = 20.\\log{\\left(\\frac{4}{3}.\\pi.d\\right)}$\n",
    "\n",
    "$\\displaystyle \\frac{4}{3}.\\pi.d = 13,55x10^{-3}$\n",
    "\n",
    "$\\displaystyle d = \\frac{3}{4\\pi}.13,55x10^{-3} = 3,2348 mm$\n"
   ]
  },
  {
   "cell_type": "markdown",
   "metadata": {},
   "source": [
    "## f)\n",
    "\n",
    "Para mejorar la relación señal-ruido se debería achicar el valor de $\\beta$, limitando al transmisor el ancho de banda en el que puede transmitir.\n"
   ]
  }
 ],
 "metadata": {
  "language_info": {
   "name": "python"
  }
 },
 "nbformat": 4,
 "nbformat_minor": 2
}
