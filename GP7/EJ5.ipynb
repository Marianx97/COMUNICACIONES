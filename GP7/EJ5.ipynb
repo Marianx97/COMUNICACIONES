{
 "cells": [
  {
   "cell_type": "markdown",
   "metadata": {},
   "source": [
    "# Ejercicio 5\n",
    "\n",
    "![consigna](img/ej5_consigna.JPG)\n",
    "\n",
    "![diagrama](img/ej5_diagrama.JPG)"
   ]
  },
  {
   "cell_type": "markdown",
   "metadata": {},
   "source": [
    "## a)\n",
    "\n",
    "$\\displaystyle {{SNR}_i}_{SSB} = \\frac{S_i}{N_B} = \\frac{5x10^{-6}W}{5x10^{-12}\\frac{W}{Hz}.15x10^3Hz} = \\frac{200}{3} = 66,66 = 18,24dB$\n",
    "\n",
    "$\\displaystyle {{SNR}_i}_{DSB-SC} = \\frac{S_i}{2.N_B} = \\frac{5x10^{-6}W}{2.5x10^{-12}\\frac{W}{Hz}.15x10^3Hz} = \\frac{200}{6} = 33,33 = 15,24dB$\n",
    "\n",
    "$\\displaystyle {{SNR}_d}_{SSB} = {{SNR}_i}_{SSB} = 66,66 = 18,24dB$\n",
    "\n",
    "$\\displaystyle {{SNR}_d}_{DSB-SC} = 2.{{SNR}_i}_{DSB-SC} = 66,66 = 18,24dB$\n"
   ]
  },
  {
   "cell_type": "markdown",
   "metadata": {},
   "source": [
    "## b)\n",
    "\n",
    "$\\displaystyle P_s = \\frac{A_c^2}{2}  \\langle m^2_{(t)} \\rangle \\neq A_c.{\\langle m^2_{(t)} \\rangle}_{SSB}$\n",
    "\n",
    "Entonces:\n",
    "\n",
    "$\\displaystyle {SNR}_d = \\frac{{{SNR}_i}_{SSB}}{2} = 33,33 = 15,24dB$\n",
    "\n",
    "Como ${SNR}_d$ es mayor a 10, es decir supera el efecto umbral, la señal puede ser recibida y recuperada.\n"
   ]
  },
  {
   "cell_type": "markdown",
   "metadata": {},
   "source": [
    "## c)\n",
    "\n",
    "$\\displaystyle {SNR}_i = \\frac{\\frac{A_c^2}{2} \\langle m^2_{(t)} \\rangle  }{2.N_0.B}$\n",
    "\n",
    "$\\displaystyle {SNR}_d = \\frac{\\frac{A_c^2}{2} \\langle m^2_{(t)} \\rangle  }{2.N_0.B}$\n",
    "\n",
    "Por lo tanto:\n",
    "\n",
    "$\\displaystyle \\frac{{SNR}_i}{{SNR}_d} = 1$\n",
    "\n",
    "Entonces:\n",
    "\n",
    "$\\displaystyle {SNR}_i = \\frac{S}{2.N_0.B} = 33,33 = 15,24dB = {SNR}_d$\n",
    "\n",
    "El mensaje puede recuperarse, más allá de tener un detector sincrónico.\n"
   ]
  },
  {
   "cell_type": "markdown",
   "metadata": {},
   "source": [
    "## d)\n",
    "\n",
    "Utilizando el detector de PLL de Costas no hay forma de recibir una señal simétrica aunque se tenga una SNR adecuada o aceptable."
   ]
  }
 ],
 "metadata": {
  "language_info": {
   "name": "python"
  }
 },
 "nbformat": 4,
 "nbformat_minor": 2
}
