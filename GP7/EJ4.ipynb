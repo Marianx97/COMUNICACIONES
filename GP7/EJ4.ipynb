{
 "cells": [
  {
   "cell_type": "markdown",
   "metadata": {},
   "source": [
    "# Ejercicio 4\n",
    "\n",
    "![consigna](img/ej4_consigna.JPG)"
   ]
  },
  {
   "cell_type": "markdown",
   "metadata": {},
   "source": [
    "## Tabla\n",
    "\n",
    "![tabla](img/ej9_tabla.JPG)"
   ]
  },
  {
   "cell_type": "markdown",
   "metadata": {},
   "source": [
    "## Banda base / SSB\n",
    "\n",
    "$\\displaystyle {SNR}_D = \\frac{P_S}{P_N} = \\frac{P_S}{N_0.1,1.B_T}$\n",
    "\n",
    "$\\displaystyle P_S = {SNR}_D.N_0.1,1.B_T$\n",
    "\n",
    "Para $B_T = 5KHz$:\n",
    "\n",
    "$\\displaystyle P_S = 1,4x10^{-10}W = -98,5dB$\n",
    "\n",
    "$\\displaystyle {P_S}_T = P_S + 100dB = 1,5dB$\n",
    "\n",
    "Para $B_T = 10KHz$: \n",
    "\n",
    "$\\displaystyle P_S = 2,8x10^{-10}W = -95,5dB$\n",
    "\n",
    "$\\displaystyle {P_S}_T = P_S + 100dB = 4,5dB$"
   ]
  },
  {
   "cell_type": "markdown",
   "metadata": {},
   "source": [
    "## DSB-SC / AM\n",
    "\n",
    "$\\displaystyle {SNR}_D = \\frac{P_S}{P_N} = \\frac{P_S}{N_0.1,1.2.B_T}$\n",
    "\n",
    "$\\displaystyle P_S = {SNR}_D.N_0.1,1.2.B_T$\n",
    "\n",
    "Para $B_T = 5KHz$:\n",
    "\n",
    "$\\displaystyle P_S = 2,8x10^{-10}W = -95,5dB$\n",
    "\n",
    "$\\displaystyle {P_S}_T = P_S + 100dB = 4,5dB$\n",
    "\n",
    "Para $B_T = 10KHz$:\n",
    "\n",
    "$\\displaystyle P_S = 5,6x10^{-10}W = -92,5dB$\n",
    "\n",
    "$\\displaystyle {P_S}_T = P_S + 100dB = 7,5dB$\n"
   ]
  },
  {
   "cell_type": "markdown",
   "metadata": {},
   "source": [
    "## PM\n",
    "\n",
    "$\\displaystyle \\beta_p=\\pi$\n",
    "\n",
    "$\\displaystyle \\left\\langle\\frac{m^2_{(t)}}{V_p^2}\\right\\rangle = \\frac{1}{2.(FC)^2} = \\frac{1}{16}$\n",
    "\n",
    "$\\displaystyle \\frac{{SNR}_D}{{SNR}_R} = 2.\\beta_p^2.(\\beta_p+1).\\left\\langle\\frac{m^2_{(t)}}{V_p^2}\\right\\rangle$\n",
    "\n",
    "$\\displaystyle {SNR}_R = \\frac{{SNR}_D}{2.\\beta_p^2.(\\beta_p+1).\\left\\langle\\frac{m^2_{(t)}}{V_p^2}\\right\\rangle} = 1957,14 = 32,9dB$\n",
    "\n",
    "$\\displaystyle {SNR}_R = \\frac{P_S}{P_N} = \\frac{P_S}{N_0.1,1.B_T}$\n",
    "\n",
    "$\\displaystyle P_S = {SNR}_R.N_0.1,1.B_T$\n",
    "\n",
    "Para $B_T = 5KHz$:\n",
    "\n",
    "$\\displaystyle P_S = 2,73x10^{-11} = -105,63dB$\n",
    "\n",
    "$\\displaystyle {P_S}_T = P_S + 100dB = -5,63dB$\n",
    "\n",
    "Para $B_T = 10KHz$:\n",
    "\n",
    "$\\displaystyle P_S = 5,46x10^{-11} = -102,63dB$\n",
    "\n",
    "$\\displaystyle {P_S}_T = P_S + 100dB = -2,63dB$"
   ]
  },
  {
   "cell_type": "markdown",
   "metadata": {},
   "source": [
    "## FM\n",
    "\n",
    "$\\displaystyle {\\Delta}_f = 75KHz$\n",
    "\n",
    "$\\displaystyle {\\beta_f}_{B_T=5KHz}=\\frac{75KHz}{5KHz} = 15$\n",
    "\n",
    "$\\displaystyle {\\beta_f}_{B_T=10KHz}=\\frac{75KHz}{10KHz} = 7.5$\n",
    "\n",
    "$\\displaystyle \\left\\langle\\frac{m^2_{(t)}}{V_p^2}\\right\\rangle = \\frac{1}{2.(FC)^2} = \\frac{1}{16}$\n",
    "\n",
    "$\\displaystyle \\frac{{SNR}_D}{{SNR}_R} = 6.\\beta_f^2.(\\beta_f+1).\\left\\langle\\frac{m^2_{(t)}}{V_p^2}\\right\\rangle$\n",
    "\n",
    "$\\displaystyle {SNR}_R = \\frac{P_S}{N_0.1,1.B_T}$\n",
    "\n",
    "$\\displaystyle P_S = N_0.1,1.B_T.{SNR}_R$\n",
    "\n",
    "Para $B_T = 5KHz$\n",
    "\n",
    "$\\displaystyle {SNR}_R = 7,4 = 8,7dB$\n",
    "\n",
    "$\\displaystyle P_S = 1,03x10^{-13} = -129,87dB$\n",
    "\n",
    "$\\displaystyle {P_S}_T = P_S + 100dB = -29,87dB$\n",
    "\n",
    "Para $B_T = 10KHz$\n",
    "\n",
    "$\\displaystyle {SNR}_R = 55,77 = 17,46dB$\n",
    "\n",
    "$\\displaystyle P_S = 1,56x10^{-12} = -118,06dB$\n",
    "\n",
    "$\\displaystyle {P_S}_T = P_S + 100dB = -18,06dB$"
   ]
  },
  {
   "cell_type": "markdown",
   "metadata": {},
   "source": [
    "## FM\n",
    "\n",
    "$\\displaystyle {\\Delta}_f = 75KHz$\n",
    "\n",
    "$\\displaystyle {\\beta_f}_{B_T=5KHz}=\\frac{75KHz}{5KHz} = 15$\n",
    "\n",
    "$\\displaystyle {\\beta_f}_{B_T=10KHz}=\\frac{75KHz}{10KHz} = 7.5$\n",
    "\n",
    "$\\displaystyle \\left\\langle\\frac{m^2_{(t)}}{V_p^2}\\right\\rangle = \\frac{1}{2.(FC)^2} = \\frac{1}{16}$\n",
    "\n",
    "$\\displaystyle f_1 = \\frac{1}{R.C} = 13,33KHz$\n",
    "\n",
    "$\\displaystyle \\frac{{SNR}_D}{{SNR}_R} = 2.\\beta_f^2.(\\beta_f+1).\\left(\\frac{B}{f_1}\\right).\\left\\langle\\frac{m^2_{(t)}}{V_p^2}\\right\\rangle$\n",
    "\n",
    "$\\displaystyle {SNR}_R = \\frac{P_S}{N_0.1,1.B_T}$\n",
    "\n",
    "$\\displaystyle P_S = N_0.1,1.B_T.{SNR}_R$\n",
    "\n",
    "Para $B_T = 5KHz$\n",
    "\n",
    "$\\displaystyle {SNR}_R = 157,94 = 21,98dB$\n",
    "\n",
    "$\\displaystyle P_S = 2,2x10^{-12} = -116,57dB$\n",
    "\n",
    "$\\displaystyle {P_S}_T = P_S + 100dB = -16,57dB$\n",
    "\n",
    "Para $B_T = 10KHz$\n",
    "\n",
    "$\\displaystyle {SNR}_R = 297,31 = 24,73dB$\n",
    "\n",
    "$\\displaystyle P_S = 8,3x10^{-12} = -110,8dB$\n",
    "\n",
    "$\\displaystyle {P_S}_T = P_S + 100dB = -10,8dB$"
   ]
  }
 ],
 "metadata": {
  "language_info": {
   "name": "python"
  }
 },
 "nbformat": 4,
 "nbformat_minor": 2
}
