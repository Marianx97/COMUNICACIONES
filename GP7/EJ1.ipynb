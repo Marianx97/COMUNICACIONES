{
 "cells": [
  {
   "cell_type": "markdown",
   "metadata": {},
   "source": [
    "# Ejercicio 1\n",
    "\n",
    "![consigna](img/ej1_consigna.JPG)\n"
   ]
  },
  {
   "cell_type": "markdown",
   "metadata": {},
   "source": [
    "## a)\n",
    "\n",
    "$\\displaystyle SNR_o = \\frac{SNR_i}{1+(F-1).\\frac{T_0}{T_i}}$\n",
    "\n",
    "Como el amplificador es ideal: $F=1$\n",
    "\n",
    "Entonces: $SNR_o=SNR_i$\n",
    "\n",
    "$\\displaystyle SNR_o=SNR_i=\\frac{G.S_i}{G.N_i}$\n",
    "\n",
    "$\\displaystyle N_i = k.T.B_N = 1,38x10^{-23}\\frac{J}{ºK}.290ºK.20KHz = 8x10^{-17}W$\n",
    "\n",
    "Dado que:\n",
    "\n",
    "$\\displaystyle SNR_i=20dB=100$\n",
    "\n",
    "Entonces:\n",
    "\n",
    "$\\displaystyle S_i = 100.N_i = 100.8x10^{-17}W = 8x10^{-15}W=-110,9dBm$\n"
   ]
  },
  {
   "cell_type": "markdown",
   "metadata": {},
   "source": [
    "## b)\n",
    "\n",
    "$\\displaystyle N_o=72x10^{-12}W$\n",
    "\n",
    "$\\displaystyle N_i = 8x10^{-17}W$\n",
    "\n",
    "$\\displaystyle SNR_o = \\frac{S_i.G}{N_o} = \\frac{8x10^{-15}.10^5W}{72x10^{-12}W} = 11,1$\n",
    "\n",
    "$\\displaystyle SNR_o = \\frac{SNR_i}{1+\\frac{T_e}{T_i}}$\n",
    "\n",
    "Cuando $T_i=T_0$:\n",
    "\n",
    "$\\displaystyle F|_{T_i=T_0}=1+\\frac{T_e}{T_i}$\n",
    "\n",
    "Entonces:\n",
    "\n",
    "$\\displaystyle SNR_o = \\frac{SNR_i}{F} \\to F = \\frac{SNR_i}{SNR_o} = \\frac{110}{11,1} = 9$\n",
    "\n",
    "$\\displaystyle F = 1+\\frac{T_e}{T_0} \\to T_e = (F-1).T_0 = (9-1).290ºK = 2320ºK$\n"
   ]
  },
  {
   "cell_type": "markdown",
   "metadata": {},
   "source": [
    "## c)\n",
    "\n",
    "$\\displaystyle SNR_i = \\frac{S_i}{N_i} = \\frac{S_i}{k.T.B_N} = \\frac{8x10^{-15}W}{8x10^{-17}W} = 100$\n",
    "\n",
    "$\\displaystyle SNR_o = \\frac{SNR_i}{F} = \\frac{100}{9} = 11,1$\n"
   ]
  },
  {
   "cell_type": "markdown",
   "metadata": {},
   "source": [
    "## d)\n",
    "\n",
    "$\\displaystyle SNR_o = \\frac{SNR_i}{1+(F-1).\\frac{T_0}{T_i}} = \\frac{100}{1+(9-1).\\frac{290ºK}{580ºK}} = 20 = 13dB$\n"
   ]
  }
 ],
 "metadata": {
  "language_info": {
   "name": "python"
  }
 },
 "nbformat": 4,
 "nbformat_minor": 2
}
