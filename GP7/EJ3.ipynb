{
 "cells": [
  {
   "cell_type": "markdown",
   "metadata": {},
   "source": [
    "# Ejercicio 3\n",
    "\n",
    "![consigna](img/ej3_consigna.JPG)\n",
    "\n",
    "\n",
    "|      | G[dB] | G[veces] | F[dB] | F[veces] | $T_e$[ºK] |\n",
    "|------|-------|----------|-------|----------|-----------|\n",
    "|Linea |    -1 |      0,8 |     1 |     1,26 |      75,4 |\n",
    "|LNA   |    30 |     1000 |  0,63 |    1,155 |        45 |\n",
    "|AMP   |    10 |       10 |     4 |     2,51 |       438 |\n",
    "|FI    |    50 |   100000 |     9 |        8 |      2030 |\n"
   ]
  },
  {
   "cell_type": "markdown",
   "metadata": {},
   "source": [
    "## a)\n",
    "\n",
    "$\\displaystyle T_e = (F-1).T_0 \\to F = \\frac{T_e}{T_0}+1$\n",
    "\n",
    "$\\displaystyle F_T = F_{linea}+\\frac{F_{LNA}-1}{G_{linea}}+\\frac{F_{AMP}-1}{G_{LNA}.G_{linea}}+\\frac{F_{FI}-1}{G_{AMP}.G_{LNA}.G_{linea}}$\n",
    "\n",
    "$\\displaystyle F_T = 1,26+\\frac{1,155-1}{0,8}+\\frac{2,51-1}{1000.0,8}+\\frac{8-1}{10.1000.0,8} = 1,46$"
   ]
  },
  {
   "cell_type": "markdown",
   "metadata": {},
   "source": [
    "## b)\n",
    "\n",
    "En la antena receptora\n",
    "\n",
    "$\\displaystyle A_t = (\\frac{4\\pi.d.f}{C})^2 = (\\frac{4\\pi.40x10^3.2,5x10^9}{3x10^8})^2 = 1,75x10^{13} = 132,44dB$\n",
    "\n",
    "$\\displaystyle S_R|_{dBm} = P_{S_t} + G_{ATx} + G_{ARx} -A_t = 30dBm+5dB+5dB-132,44dB=-92,4dBm = 5,75x10^{-13}W$\n",
    "\n",
    "$\\displaystyle N_R = k.T,B=1,38x10^{-23}\\frac{J}{ºK}.290ºK.4x10^6Hz = 1,6x10^{-14}W$\n",
    "\n",
    "$\\displaystyle SNR_r = \\frac{S_R}{N_r} = \\frac{5,75x10^{-13}W}{1,6x10^{-14}W} = 35,687 = 15,52dB$\n",
    "\n",
    "A la salida de la etapa FI:\n",
    "\n",
    "$\\displaystyle T_e=(F-1).T_0 = (1,46-1).290ºK = 133,4ºK$\n",
    "\n",
    "$\\displaystyle N_{o_{FI}} = k.(T_i+T_e).B_N.G = 1,38x10^{-23}\\frac{J}{ºK}.(133,4ºK+290ºK).4x10^6Hz.80x10^6 = 1,86x10^{-6}W$\n",
    "\n",
    "$\\displaystyle S_o = S_i .G = 5,75x10^{-13}W.80x10^6=45,68x10^{-6}W$\n"
   ]
  },
  {
   "cell_type": "markdown",
   "metadata": {},
   "source": [
    "## c)\n",
    "\n",
    "$\\displaystyle F = F_{linea} + \\frac{F_{AMP}-1}{G_{linea}} + \\frac{F_{LNA}-1}{G_{linea}.G_{AMP}} + \\frac{F_{FI}-1}{G_{linea}.G_{AMP}.G_{LNA}}$\n",
    "\n",
    "$\\displaystyle F = 1,26 + \\frac{2,51-1}{0,8} + \\frac{1,155-1}{0,8.10} + \\frac{8-1}{0,8.10.100000} = 3,15$\n",
    "\n",
    "$\\displaystyle T_e = (F-1).T_0 = (3,15-1).290ºK = 623,5ºK$\n",
    "\n",
    "$\\displaystyle N_r = k.T.B = 1,38x10^{-23}\\frac{J}{ºK}.290ºK.4x10^6Hz = 1,6x10^{-14}W$\n",
    "\n",
    "$\\displaystyle S_r = -102,4dBm$\n",
    "\n",
    "$\\displaystyle N_o = k.(T_i+T_e).B_N.G = 1,38x10^{-23}\\frac{J}{ºK}.(290ºK+623,5ºK).4x10^6Hz.80x10^6=4x10^{-6}W$\n",
    "\n",
    "$\\displaystyle S_o = S_r.G = 5,75x10^{-13}W.80x10^6=46x10^{-6}W$\n"
   ]
  },
  {
   "cell_type": "markdown",
   "metadata": {},
   "source": [
    "## d)\n",
    "\n",
    "$\\displaystyle B_N'= B_N.1,2$\n",
    "\n",
    "$\\displaystyle N_o' = k(T_i+T_e).B_N'.G = N_o.1,2 = 4,8x10^{-6}W$\n",
    "\n",
    "$\\displaystyle S_o' = S_o = 46x10^{-6} W$"
   ]
  },
  {
   "cell_type": "markdown",
   "metadata": {},
   "source": [
    "## e)\n",
    "\n",
    "$\\displaystyle N_o''=k.(T_i+T_e).B_N'.G = (k.T_i+k.T_e).B_N'.G = (N_0+k.T_e).B_N'.G$\n",
    "\n",
    "$\\displaystyle N_o''= \\left(10^{-21}\\frac{W}{Hz}+1,38x10^{-23}\\frac{J}{ºK}.623,15ºK\\right).4x10^6.1,2.80x10^6 = 3,7{\\mu}W$\n",
    " \n",
    "Los valores de $S_r$ y $S_o$ no se modifican."
   ]
  }
 ],
 "metadata": {
  "language_info": {
   "name": "python"
  }
 },
 "nbformat": 4,
 "nbformat_minor": 2
}
