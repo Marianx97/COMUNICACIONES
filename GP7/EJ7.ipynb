{
 "cells": [
  {
   "cell_type": "markdown",
   "metadata": {},
   "source": [
    "# Ejercicio 7\n",
    "\n",
    "![consigna](img/ej7_consigna.JPG)\n"
   ]
  },
  {
   "cell_type": "markdown",
   "metadata": {},
   "source": [
    "## a)\n",
    "\n",
    "$\\displaystyle f_s = {f_s}_{min} . 1,3 = 1,3.2.3000Hz = 7800Hz = 7800\\left[\\frac{muestras}{s}\\right]$\n",
    "\n",
    "$\\displaystyle R = 7800\\left[\\frac{muestras}{s}\\right].8\\left[\\frac{bits}{muestra}\\right] = 62400bps$\n",
    "\n",
    "$\\displaystyle R = D \\to B_{min} = \\frac{D}{2} = \\frac{R}{2} = 31,2KHz$ \n"
   ]
  },
  {
   "cell_type": "markdown",
   "metadata": {},
   "source": [
    "## b)\n",
    "\n",
    "$\\displaystyle P_e = Q_{\\left(\\sqrt{2.\\frac{E_b}{N_0}}\\right)}$\n",
    "\n",
    "$\\displaystyle {SNR}_s = 16,28dB = 42,4619$\n",
    "\n",
    "$\\displaystyle {SNR}_d = \\frac{M^2.\\frac{1}{FC}}{1+4.P_e.(M^2-1)}$\n",
    "\n",
    "$\\displaystyle {SNR}_s = \\frac{\\frac{A^2}{2}}{N_0.B_{eq}} \\to A^2 = {SNR}_s.2.N_0.B_{eq}$\n",
    "\n",
    "$\\displaystyle T_b = \\frac{1}{R}$\n",
    "\n",
    "$\\displaystyle B_{eq} = B_{min} = \\frac{R}{2}$\n",
    "\n",
    "$\\displaystyle E_b = \\frac{A^2.T_b}{2} = \\frac{{SNR}_s.2.N_0.B_{eq}}{2.R} = \\frac{{SNR}_s.2.N_0}{2.R}.\\frac{R}{2} = \\frac{N_0.{SNR}_s}{2}$\n",
    "\n",
    "$\\displaystyle sqrt{2.\\frac{E_b}{N_0}} = sqrt{2.\\frac{\\frac{N_0.{SNR}_s}{2}}{N_0}} = \\sqrt{{SNR}_s} = \\sqrt{42,4619} = 6,5162$\n",
    "\n",
    "Por tabla de la función $Q$:\n",
    "\n",
    "$\\displaystyle P_e = Q_{(6,5162)} \\approx = 3,5x10^{-11}$\n",
    "\n",
    "$\\displaystyle {SNR}_d = \\frac{256^2.\\frac{1}{3}}{1+4.3,5x10^{-11}.(256^2-1)} = 7281,711 = 38,62dB$\n"
   ]
  },
  {
   "cell_type": "markdown",
   "metadata": {},
   "source": [
    "## c)\n",
    "\n",
    "Para el filtro acoplado:\n",
    "\n",
    "$\\displaystyle P_e = Q_{\\left(\\sqrt{\\frac{E_d}{2.N_0}}\\right)}$\n",
    "\n",
    "$\\displaystyle E_d = \\int_0^{T_b}(s_1-s_0)^2.dt = \\int_0^{\\frac{T_b}{2}} (A-(-A))^2.dt = 4.A^2.\\frac{T_b}{2} = 2.T_b.{SNR}_s.2.N_0.B_{eq} = 2.\\frac{1}{R}.{SNR}_s.2.N_0.\\frac{R}{2} = 2.{SNR_s}.N_0$\n",
    "\n",
    "$\\displaystyle \\sqrt{\\frac{E_d}{2.N_0}} = \\sqrt{\\frac{2.{SNR_s}.N_0}{2.N_0}} = \\sqrt{{SNR}_s} = 6,5162$\n",
    "\n",
    "$\\displaystyle P_e = 3,5x10^{-11}$\n",
    "\n",
    "$\\displaystyle {SNR}_d = 7281,711 = 38,62dB$\n"
   ]
  },
  {
   "cell_type": "markdown",
   "metadata": {},
   "source": [
    "## d)\n",
    "\n",
    "Si se toma el término que incluye la probabilidad de error de la siguiente ecuación:\n",
    "\n",
    "$\\displaystyle {SNR}_d = \\frac{M^2.\\frac{1}{FC}}{1+4.P_e.(M^2-1)}$\n",
    "\n",
    "$\\displaystyle 4.P_e.(M^2-1) = 4.3,5x10^{-11}.(256^2-1) = 9,1749x10^{-6} \\ll 1$\n",
    "\n",
    "Dado que este término es mucho menor a 1, si se desea aumentar la SNR conviene aumentar la cantidad de bits de las muestras."
   ]
  }
 ],
 "metadata": {
  "language_info": {
   "name": "python"
  }
 },
 "nbformat": 4,
 "nbformat_minor": 2
}
