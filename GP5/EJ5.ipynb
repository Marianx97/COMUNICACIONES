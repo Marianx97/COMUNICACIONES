{
 "cells": [
  {
   "cell_type": "markdown",
   "metadata": {},
   "source": [
    "# Ejercicio 5\n",
    "\n",
    "![ej5_consigna](img/ej5_consigna.JPG)"
   ]
  },
  {
   "cell_type": "markdown",
   "metadata": {},
   "source": [
    "## a)\n",
    "\n",
    "Para determinar la potencia en una señal 64-QAM es necesario determinar primero el valor de $A_c$.\n",
    "\n",
    "$\\displaystyle P_{16QAM|50\\Omega} = \\frac{1}{R}.\\sum{P_i . \\frac{1}{N}} = 250{\\mu}W$\n",
    "\n",
    "$\\displaystyle P_{16QAM|50\\Omega} = \\frac{1}{50\\Omega} . \\frac{1}{16} . \\left(4.\\frac{(\\sqrt{2}.A_c)^2}{2}+4.\\frac{(\\sqrt{18}.A_c)^2}{2}+8.\\frac{(\\sqrt{10}.A_c)^2}{2}\\right)$\n",
    "\n",
    "$\\displaystyle P_{16QAM|50\\Omega} = \\frac{1}{800\\Omega} . \\left(4.\\frac{2}{2}+4.\\frac{18}{2}+8.\\frac{10}{2}\\right).A_c^2$\n",
    "\n",
    "$\\displaystyle P_{16QAM|50\\Omega} = \\frac{1}{800\\Omega} . \\left(4+36+40\\right).A_c^2$\n",
    "\n",
    "$\\displaystyle P_{16QAM|50\\Omega} = \\frac{1}{800\\Omega} . 80 . A_c^2$\n",
    "\n",
    "$\\displaystyle P_{16QAM|50\\Omega} = \\frac{1}{10\\Omega} . A_c^2 = 250{\\mu}W$\n",
    "\n",
    "$\\displaystyle A_c^2 = 250{\\mu}W . 10\\Omega$\n",
    "\n",
    "$\\displaystyle A_c = \\sqrt{250{\\mu}W . 10\\Omega}$\n",
    "\n",
    "$\\displaystyle A_c = 50mV$\n",
    "\n",
    "Ahora, la potencia en una señal 64-QAM con la misma separación entre símbolos, suponiendolos equiprobables y normalizado sobre $50\\Omega$:\n",
    "\n",
    "$\\displaystyle P_{64QAM|50\\Omega} = \\frac{1}{R}.\\sum{P_i . \\frac{1}{N}}$\n",
    "\n",
    "$\\begin{aligned} P_{64QAM|50\\Omega} &= \\frac{1}{50\\Omega}.\\frac{1}{64}.( \\\\\n",
    "  & 4.\\frac{(\\sqrt{2}.A_c)^2}{2} + 8.\\frac{(\\sqrt{10}.A_c)^2}{2} + 8.\\frac{(\\sqrt{26}.A_c)^2}{2} + \\\\\n",
    "  & 12.\\frac{(\\sqrt{50}.A_c)^2}{2} + 4.\\frac{(\\sqrt{18}.A_c)^2}{2} + 8.\\frac{(\\sqrt{34}.A_c)^2}{2} + \\\\\n",
    "  & 8.\\frac{(\\sqrt{58}.A_c)^2}{2} + 8.\\frac{(\\sqrt{74}.A_c)^2}{2} + 4.\\frac{(\\sqrt{98}.A_c)^2}{2}\n",
    ") \\end{aligned}$\n",
    "\n",
    "$\\displaystyle P_{64QAM|50\\Omega} = \\frac{1}{3200\\Omega} . \\left(4.\\frac{2}{2}+8.\\frac{10}{2}+8.\\frac{26}{2}+12.\\frac{50}{2}+4.\\frac{18}{2}+8.\\frac{34}{2}+8.\\frac{58}{2}+8.\\frac{74}{2}+4.\\frac{98}{2}\\right).A_c^2$\n",
    "\n",
    "$\\displaystyle P_{64QAM|50\\Omega} = \\frac{1}{3200\\Omega} . 1344 . A_c^2$\n",
    "\n",
    "$\\displaystyle P_{64QAM|50\\Omega} = \\frac{1}{3200\\Omega} . 1344 . (50mV)^2 = 1,05mW$"
   ]
  },
  {
   "cell_type": "markdown",
   "metadata": {},
   "source": [
    "## b)\n",
    "\n",
    "Se puede calcular el factor de cresta considerando la amplitud máxima y la amplitud media de la señal.\n",
    "\n",
    "Para 16-QAM:\n",
    "\n",
    "$\\displaystyle A_{max} = \\sqrt{18}.A_c = 0,2121V$\n",
    "\n",
    "$\\displaystyle A_{rms} = \\sqrt{P_{16QAM|50\\Omega}} = \\sqrt{250{\\mu}W} = 15,81mV$\n",
    "\n",
    "$\\displaystyle FC = \\frac{A_{max}}{A_{rms}} = 13,41$\n",
    "\n",
    "Para 64-QAM:\n",
    "\n",
    "$\\displaystyle A_{max} = \\sqrt{98}.A_c = 0,4949V$\n",
    "\n",
    "$\\displaystyle A_{rms} = \\sqrt{P_{54QAM|50\\Omega}} = \\sqrt{1,05mW} = 32,4mV$\n",
    "\n",
    "$\\displaystyle FC = \\frac{A_{max}}{A_{rms}} = 15,27$"
   ]
  }
 ],
 "metadata": {
  "language_info": {
   "name": "python"
  }
 },
 "nbformat": 4,
 "nbformat_minor": 2
}
