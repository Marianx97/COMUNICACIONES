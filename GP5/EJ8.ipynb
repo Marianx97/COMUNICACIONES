{
 "cells": [
  {
   "cell_type": "markdown",
   "metadata": {},
   "source": [
    "# Ejercicio 8\n",
    "\n",
    "![consigna](img/ej8_consigna.jpg)\n"
   ]
  },
  {
   "cell_type": "markdown",
   "metadata": {},
   "source": [
    "## a)\n",
    "\n",
    "El tiempo de símbolo de OFDM ($T_s$) se calcula como:\n",
    "\n",
    "$\\displaystyle T_s = \\frac{N{\\:}portadoras{\\:}.{\\:}n{\\:}(bits/port)}{R_b{\\:}bps} = \\frac{2048.4{\\:}bits}{8{\\:}Mbps} = 1024{\\mu}s$\n",
    "\n",
    "$\\displaystyle $"
   ]
  },
  {
   "cell_type": "markdown",
   "metadata": {},
   "source": [
    "## b)\n",
    "\n",
    "El ancho de banda mínimo ideal de la señal OFDM ($B_T$) se calcula como:\n",
    "\n",
    "$\\displaystyle B_T = \\frac{N+1}{T_s} = \\frac{2048+1}{1024{\\mu}s} = 2MHz$"
   ]
  },
  {
   "cell_type": "markdown",
   "metadata": {},
   "source": [
    "## c)\n",
    "\n",
    "Cada portadora tiene una determinada tasa de bits:\n",
    "\n",
    "$\\displaystyle R_{1{\\:}port} = \\frac{R_b}{N} = \\frac{8{\\:}Mbps}{2048} = 3906,25 bps$\n",
    "\n",
    "La tasa de símbolos de una portadora es:\n",
    "\n",
    "$\\displaystyle D_{1{\\:}port} = \\frac{R_{1{\\:}port}}{n{\\:}(bits/sym)} = \\frac{3906,25 bps}{4{\\:}bits/sym} = 976,56 bauds$\n",
    "\n",
    "Entonces:\n",
    "\n",
    "$\\displaystyle {B_{T_{min}}}_{1{\\:}port} = 976,56Hz$\n",
    "\n",
    "Las dos frecuencias inferiores:\n",
    "- $f_c - (1023,5).B_{1{\\:}port}$\n",
    "- $f_c - (1022,5).B_{1{\\:}port}$\n",
    "\n",
    "Las dos frecuencias centrales:\n",
    "- $f_c + \\frac{B_{1{\\:}port}}{2}$\n",
    "- $f_c - \\frac{B_{1{\\:}port}}{2}$\n",
    "\n",
    "Las dos frecuencias superiores:\n",
    "- $f_c + (1023,5).B_{1{\\:}port}$\n",
    "- $f_c + (1022,5).B_{1{\\:}port}$\n",
    "\n",
    "![ej8_c](img/ej8_c.JPG)"
   ]
  },
  {
   "cell_type": "markdown",
   "metadata": {},
   "source": [
    "## d)\n",
    "\n",
    "Espectro de potencia de salida:\n",
    "\n",
    "![ej8_d](img/ej8_d.JPG)\n",
    "\n",
    "Todas las portadoras están separadas a $976,56Hz$"
   ]
  },
  {
   "cell_type": "markdown",
   "metadata": {},
   "source": [
    "## e)\n",
    "\n",
    "El oscilador debería estar sintonizado a $\\displaystyle 3,9GHz + \\frac{D}{2}$\n",
    "\n",
    "![ej8_e](img/ej8_e.JPG)"
   ]
  }
 ],
 "metadata": {
  "language_info": {
   "name": "python"
  }
 },
 "nbformat": 4,
 "nbformat_minor": 2
}
