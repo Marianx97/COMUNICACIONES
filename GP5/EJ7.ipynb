{
 "cells": [
  {
   "cell_type": "markdown",
   "metadata": {},
   "source": [
    "# Ejercicio 7\n",
    "\n",
    "![consigna](img/ej7_consigna.JPG)"
   ]
  },
  {
   "cell_type": "markdown",
   "metadata": {},
   "source": [
    "## a)\n",
    "\n",
    "Se puede calcular la tasa de información de una portadora como:\n",
    "\n",
    "$\\displaystyle R_{1-port} = \\frac{R}{n} = \\frac{256KHz}{64} = 4000bps$\n",
    "\n",
    "$\\displaystyle B_T = \\frac{R_{1-port}}{\\log_2{M}}$\n",
    "\n",
    "$\\displaystyle M = 2^{\\frac{R_{1-port}}{B_T}} = 2^{\\frac{4000}{2000}} = 2^2 = 4$\n",
    "\n",
    "Como $M=4$ el tipo de modulación será QPSK."
   ]
  },
  {
   "cell_type": "markdown",
   "metadata": {},
   "source": [
    "## b)\n",
    "\n",
    "Para determinar la duración del tiempo de símbolo OFDM en QPSK:\n",
    "\n",
    "$\\displaystyle D = \\frac{R}{2} = 128[Kbauds]$\n",
    "\n",
    "$\\displaystyle T_s = \\frac{1}{D} = 7,81{\\mu}S$\n",
    "\n",
    "Finalmente:\n",
    "\n",
    "$T_{OFDM} = n . T_s = 64 . 7,81{\\mu}S = 0,5mS$"
   ]
  },
  {
   "cell_type": "markdown",
   "metadata": {},
   "source": [
    "## c)\n",
    "\n",
    "Para calcular el ancho de banda mínimo:\n",
    "\n",
    "$\\displaystyle {B_T}_{min} = \\frac{n+1}{T_{OFDM}} = \\frac{64+1}{0,5mS} = 130KHz$"
   ]
  },
  {
   "cell_type": "markdown",
   "metadata": {},
   "source": [
    "Considerando que, en lugar de usar OFDM, se emplea una sola portadora para transportar la misma cantidad de información y con el tipo de modulación calculado en a). "
   ]
  },
  {
   "cell_type": "markdown",
   "metadata": {},
   "source": [
    "## d)\n",
    "\n",
    "Se calcula el tiempo de símbolo para una sola portadora QPSK como:\n",
    "\n",
    "$\\displaystyle D = \\frac{R_b}{2} = \\frac{256KHz}{2} = 128[Kbauds]$\n",
    "\n",
    "$\\displaystyle T_s = \\frac{1}{D} = \\frac{1}{128[Kbauds]} = 7,81{\\mu}S$"
   ]
  },
  {
   "cell_type": "markdown",
   "metadata": {},
   "source": [
    "## e)\n",
    "\n",
    "El ancho de banda mínimo será:\n",
    "\n",
    "$\\displaystyle {B_T}_{min} = 128KHz$"
   ]
  },
  {
   "cell_type": "markdown",
   "metadata": {},
   "source": [
    "## f)\n",
    "\n",
    "No hay desventaja en relacion a la eficiencia espectral.\n",
    "\n",
    "El tiempo de símbolo total aumenta 64 veces:\n",
    "\n",
    "$\\displaystyle {T_s}_{OFDM} = N.{T_s}_{1p}$\n",
    "\n",
    "Como **desventajas**:\n",
    "\n",
    "- Aumenta el ancho de banda en un factor $\\frac{N+1}{N}$ con respecto al de una portadora:\n",
    "\n",
    "$\\displaystyle {B_T}_{OFDM} = \\frac{N+1}{{T_s}_{OFDM}} = \\frac{N+1}{N.{T_s}_{1p}}$\n",
    "\n",
    "- La complejidad que añade al sistema.\n",
    "- La dificultad para mantener la ortogonalidad y el sincronismo de las subportadoras.\n",
    "\n",
    "Como **ventaja**: Brinda protección contra trayectos múltiples."
   ]
  }
 ],
 "metadata": {
  "language_info": {
   "name": "python"
  }
 },
 "nbformat": 4,
 "nbformat_minor": 2
}
