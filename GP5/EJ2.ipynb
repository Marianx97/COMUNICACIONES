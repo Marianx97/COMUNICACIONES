{
 "cells": [
  {
   "cell_type": "markdown",
   "metadata": {},
   "source": [
    "# Ejercicio 2\n",
    "\n",
    "![consigna](img/ej2_consigna.JPG)"
   ]
  },
  {
   "cell_type": "markdown",
   "metadata": {},
   "source": [
    "## a)\n",
    "\n",
    "El tipo de modulación representada con los gráficos de las señales es **modulación por corrimiento de frecuencia (FSK)**.\n",
    "\n",
    "Puede ser generada de dos formas distintas:\n",
    "\n",
    "### FSK de fase discontinua\n",
    "\n",
    "![modulador_fsk_discontinua](img/ej2_fsk_discontinua.JPG)\n",
    "\n",
    "### FSK de fase continua\n",
    "\n",
    "![modulador_fsk_continua](img/ej2_fsk_continua.JPG)\n",
    "\n",
    "En la modulación por corrimiento de fase (FSK) la información digital se transmite al variar la frecuencia de una señal portadora. En este caso se utilizan las frecuencias $8MHz$ y $10MHz$ para representar los valores de los bits."
   ]
  },
  {
   "cell_type": "markdown",
   "metadata": {},
   "source": [
    "## b)\n",
    "\n",
    "Para este caso, FSK binaria, la relación es 1 bit = 1 símbolo. Por lo tanto:\n",
    "\n",
    "$T_b = T_s = 1ms$\n",
    "\n",
    "La tasa de símbolos será:\n",
    "\n",
    "$\\displaystyle D = \\frac{1}{T_s} = 1000$ bauds"
   ]
  },
  {
   "cell_type": "markdown",
   "metadata": {},
   "source": [
    "## c)\n",
    "\n",
    "Para calcular el ancho de banda mínimo requerido, se puede aplicar Carson:\n",
    "\n",
    "$\\displaystyle B_{min} = 2.{\\Delta}f+2.\\frac{D}{2}$\n",
    "\n",
    "Para obtener ${\\Delta}f$ se debe resolver el siguiente sistema de ecuaciones:\n",
    "\n",
    "$\\displaystyle f_c + {\\Delta}f = f_2$\n",
    "\n",
    "$\\displaystyle f_c - {\\Delta}f = f_1$\n",
    "\n",
    "$\\displaystyle {\\Delta}f = \\frac{f_2-f_1}{2} = \\frac{10MHz-8MHz}{2} = 1MHz$\n",
    "\n",
    "Reemplazando ahora en la ecuación del ancho de banda:\n",
    "\n",
    "$\\displaystyle B_{min} = 2.{\\Delta}f+2.\\frac{D}{2} = 2.1MHz+1KHz = 2001KHz$"
   ]
  },
  {
   "cell_type": "markdown",
   "metadata": {},
   "source": [
    "## d)\n",
    "\n",
    "La señal pasabanda se ve originalmente así:\n",
    "\n",
    "![grafico_1](img/ej2_d_grafico1.jpg)\n",
    "\n",
    "Para que el ancho de banda de la señal pasabanda sea mínimo, deben \"acercarse\" los lóbulos centrales de las sinc de forma tal que su primer nulo, hacia izquierda o derecha dependiendo de la sinc, sea sobre la frecuencia central, de forma que el gráfico quede de la siguiente manera:\n",
    "\n",
    "![grafico_2](img/ej2_d_grafico2.jpg)\n",
    "\n",
    "Por lo tanto:\n",
    "\n",
    "$\\displaystyle f'_1=f_c-\\frac{D}{2} = 8999,5KHz$\n",
    "\n",
    "$\\displaystyle f'_2=f_c+\\frac{D}{2} = 9000,5KHz$"
   ]
  },
  {
   "cell_type": "markdown",
   "metadata": {},
   "source": [
    "## e)\n",
    "\n",
    "Para el caso de MSK:\n",
    "\n",
    "$\\displaystyle {\\Delta}f = \\frac{R}{4} = 250Hz$\n",
    "\n",
    "Por lo tanto:\n",
    "\n",
    "$\\displaystyle f''_1 = 8999,75KHz$\n",
    "\n",
    "$\\displaystyle f''_2 = 9000,25KHz$\n"
   ]
  },
  {
   "cell_type": "markdown",
   "metadata": {},
   "source": [
    "## f)\n",
    "\n",
    "La relación de desviación de frecuencias se calcula como:\n",
    "\n",
    "$\\displaystyle h = \\frac{{\\Delta}f}{\\frac{R}{2}}$\n",
    "\n",
    "Para el caso del enunciado:\n",
    "\n",
    "$\\displaystyle h = \\frac{1MHz}{\\frac{1000Hz}{2}} = 2000$\n",
    "\n",
    "Para el caso del ítem **d)**:\n",
    "\n",
    "$\\displaystyle h = \\frac{500Hz}{\\frac{1000Hz}{2}} = 1$\n",
    "\n",
    "Para el caso del ítem **d)**:\n",
    "\n",
    "$\\displaystyle h = \\frac{250Hz}{\\frac{1000Hz}{2}} = 0,5$\n"
   ]
  }
 ],
 "metadata": {
  "kernelspec": {
   "display_name": "Python 3",
   "language": "python",
   "name": "python3"
  },
  "language_info": {
   "codemirror_mode": {
    "name": "ipython",
    "version": 3
   },
   "file_extension": ".py",
   "mimetype": "text/x-python",
   "name": "python",
   "nbconvert_exporter": "python",
   "pygments_lexer": "ipython3",
   "version": "3.10.6"
  },
  "orig_nbformat": 4
 },
 "nbformat": 4,
 "nbformat_minor": 2
}
