{
 "cells": [
  {
   "cell_type": "markdown",
   "metadata": {},
   "source": [
    "# Ejercicio 9\n",
    "\n",
    "![consigna](img/ej9_consigna.JPG)\n",
    "\n",
    "$\\displaystyle T=532,81x10^{-6}s$\n",
    "\n",
    "$\\displaystyle l=2^n-1=2^{10}-1=1023{\\:}chips$"
   ]
  },
  {
   "cell_type": "markdown",
   "metadata": {},
   "source": [
    "## a)\n",
    "\n",
    "La tasa de chips se calcula como:\n",
    "\n",
    "$\\displaystyle R_c = \\frac{l}{T} = \\frac{1023{\\:}chips}{532,81x10^{-6}s} = 1,92{\\:}\\frac{Mchips}{s}$\n"
   ]
  },
  {
   "cell_type": "markdown",
   "metadata": {},
   "source": [
    "## b)\n",
    "\n",
    "El ancho de banda de la señal transmitida será:\n",
    "\n",
    "$B_T = 2.R_c = 3,84MHz$"
   ]
  },
  {
   "cell_type": "markdown",
   "metadata": {},
   "source": [
    "## c)\n",
    "\n",
    "La ganancia de procesamiento se calcula como\n",
    "\n",
    "$\\displaystyle G = \\frac{R_c}{R_d} = \\frac{1,92x10^6cps}{19200bps} = 100 = 20dB$\n"
   ]
  },
  {
   "cell_type": "markdown",
   "metadata": {},
   "source": [
    "## d)\n",
    "\n",
    "Manteniendo la tasa de datos ($R_d$), se quiere obtener una ganancia de $30dB$:\n",
    "\n",
    "$\\displaystyle G = \\frac{R_c'}{R_d} = 30dB$\n",
    "\n",
    "$\\displaystyle R_c' = 1000.R_d = 19,2x10^6{\\:}cps$\n",
    "\n",
    "Las modificaciones serían:\n",
    "\n",
    "$\\displaystyle T = 58,28x10^{-6}s$ ^ $\\displaystyle N = 10$\n",
    "\n",
    "V\n",
    "\n",
    "$\\displaystyle T = 532,81x10^{-6}s$ ^ $\\displaystyle l\\approx1023,952 \\to N = 14$\n",
    "\n"
   ]
  },
  {
   "cell_type": "markdown",
   "metadata": {},
   "source": [
    "## e)\n",
    "\n",
    "El ancho de banda para el sistema con las modificaciones del ítem anterior sería:\n",
    "\n",
    "$\\displaystyle B_T' = 2.R_c' = 38,4MHz$"
   ]
  }
 ],
 "metadata": {
  "language_info": {
   "name": "python"
  }
 },
 "nbformat": 4,
 "nbformat_minor": 2
}
