{
 "cells": [
  {
   "cell_type": "markdown",
   "metadata": {},
   "source": [
    "# Ejercicio 4\n",
    "\n",
    "![consigna](img/ej4_consigna.JPG)"
   ]
  },
  {
   "cell_type": "markdown",
   "metadata": {},
   "source": [
    "## a)\n",
    "\n",
    "Se trata de modulación digital 16QAM.\n",
    "\n",
    "Diagrama en bloques del modulador:\n",
    "\n",
    "![diagrama](img/ej4_a_diagrama.JPG)\n",
    "\n",
    "La señal modulada $s(t)$ está conformada por la resta:\n",
    "\n",
    "$\\displaystyle s(t) = x(t).\\cos{(\\omega_c.t)} - y(t).\\sin{(\\omega_c.t)}$\n",
    "\n",
    "Donde las señales $x(t)$ e $y(t)$ son señales multinivel (pulsos rectangulares, si no hay filtro de premodulación).\n",
    "\n",
    "Se definen las señales como:\n",
    "\n",
    "$\\displaystyle x(t) = \\sum_{i=0}^n x_n.h_{\\left(t-\\frac{n}{D}\\right)}$\n",
    "\n",
    "$\\displaystyle y(t) = \\sum_{i=0}^n y_n.h_{\\left(t-\\frac{n}{D}\\right)}$\n",
    "\n",
    "Donde:\n",
    "* $D = \\frac{R}{l}$.\n",
    "* Los valores de $x_n$ e $y_n$ quedan determinados por los valores permitidos de $x_i$ e $y_i$.\n",
    "* $h(t)$ será el pulso utilizado para cada símbolo, rectangular en el caso de que no se utilice LPF.\n",
    "* La duración del símbolo será $T_s$ y el instante de ocurrencia se centra en $n.T_s=\\frac{n}{D}$.\n"
   ]
  },
  {
   "cell_type": "markdown",
   "metadata": {},
   "source": [
    "## b)\n",
    "\n",
    "$\\displaystyle P_{s(t)|50\\Omega} = \\frac{1}{16.50}\\left[4.\\frac{\\left(\\sqrt{A_c^2+A_c^2}\\right)^2}{2}+4.\\frac{\\left(\\sqrt{(3.A_c)^2+(3.A_c)^2}\\right)^2}{2}+8.\\frac{\\left(\\sqrt{A_c^2+(3.A_c)^2}\\right)^2}{2}\\right]$\n",
    "\n",
    "$\\displaystyle P_{s(t)|50\\Omega} = \\frac{1}{800}\\left[2.\\left(\\sqrt{A_c^2+A_c^2}\\right)^2+2.\\left(\\sqrt{9.A_c^2+9.A_c^2}\\right)^2+4.\\left(\\sqrt{A_c^2+9.A_c^2}\\right)^2\\right]$\n",
    "\n",
    "$\\displaystyle P_{s(t)|50\\Omega} = \\frac{1}{800}\\left[2.\\left(\\sqrt{2.A_c^2}\\right)^2+2.\\left(\\sqrt{18.A_c^2}\\right)^2+4.\\left(\\sqrt{10.A_c^2}\\right)^2\\right]$\n",
    "\n",
    "$\\displaystyle P_{s(t)|50\\Omega} = \\frac{1}{800}\\left[2.2.A_c^2+2.18.A_c^2+4.10.A_c^2\\right]$\n",
    "\n",
    "$\\displaystyle P_{s(t)|50\\Omega} = \\frac{1}{800}\\left[80.A_c^2\\right]$\n",
    "\n",
    "$\\displaystyle P_{s(t)|50\\Omega} = \\frac{A_c^2}{10} = 0,1W = 20dBm$\n"
   ]
  },
  {
   "cell_type": "markdown",
   "metadata": {},
   "source": [
    "## c)\n",
    "\n",
    "Duración de símbolo:\n",
    "\n",
    "$\\displaystyle T_s = 4{\\mu}S$\n",
    "\n",
    "Tasa de señalización:\n",
    "\n",
    "$\\displaystyle D = \\frac{1}{T_s} = \\frac{1}{4{\\mu}S} = 250Kbauds$\n",
    "\n",
    "Tasa de transmisión de información:\n",
    "\n",
    "$\\displaystyle R = l.D = 4.250x10^3 = 1Mbps$"
   ]
  },
  {
   "cell_type": "markdown",
   "metadata": {},
   "source": [
    "## d)\n",
    "\n",
    "El ancho de banda mínimo de transmisión es:\n",
    "\n",
    "$\\displaystyle {B_T}_{min} = \\frac{R}{l} = D = 250KHz$"
   ]
  },
  {
   "cell_type": "markdown",
   "metadata": {},
   "source": [
    "## e)\n",
    "\n",
    "- Una señal 16PSK necesita una mayorpotencia de portadora para obtener la misma potencia media.\n",
    "- Para la señal 16PSK, al tener todos los datos sobre una misma circunferencia de radio $A_c$, la constelación estará más agrupada, obteniendo una menor SNR.\n",
    "- Desde el punto de vista de eficiencia espectral, el comportamiento es el mismo."
   ]
  }
 ],
 "metadata": {
  "language_info": {
   "name": "python"
  }
 },
 "nbformat": 4,
 "nbformat_minor": 2
}
