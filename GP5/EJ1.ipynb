{
 "cells": [
  {
   "cell_type": "markdown",
   "metadata": {},
   "source": [
    "# Ejercicio 1\n",
    "\n",
    "![consigna](img/ej1_consigna.JPG)"
   ]
  },
  {
   "cell_type": "markdown",
   "metadata": {},
   "source": [
    "## a)\n",
    "\n",
    "La frecuencia máxima se da cuando se envía una secuencia de datos alternando unos y ceros. Por lo tanto:\n",
    "\n",
    "$\\displaystyle f_{max} = \\frac{tasa\\ de\\ símbolos}{2} = \\frac{19200}{2} [Hz]$\n",
    "\n",
    "El ancho de banda mínimo para transmitir la señal en banda base y en BPSK se calcula como $2$ veces la frecuencia máxima para cumplir con Nyquist. Entonces, el ancho de banda queda:\n",
    "\n",
    "$\\displaystyle B_{min} = 2.f_{max} = 2.\\frac{19200}{2} = 19200 [Hz]$"
   ]
  },
  {
   "cell_type": "markdown",
   "metadata": {},
   "source": [
    "## b)\n",
    "\n",
    "Si se quisiera utilizar un canal de $8KHz$ de ancho de banda, BPSK no será suficiente, ya que $B_{min} = 19,2KHz$.\n",
    "\n",
    "$\\displaystyle B_{min} = \\frac{R}{l}$\n",
    "\n",
    "Donde:\n",
    "- $R$ es la tasa de bits\n",
    "- $l$ es la cantidad de dígitos binarios transmitidos por cada símbolo.\n",
    "\n",
    "No alcanza con QPSK ya que, para este tipo de modulación, $l=2$, entonces quedaría:\n",
    "\n",
    "$\\displaystyle B_{min} = \\frac{19200}{2} = 9600Hz$\n",
    "\n",
    "Suponiendo que se utilizará una modulación de tipo MQAM, donde $M$ es la cantidad de niveles, se puede plantear la expresión del ancho de banda para este tipo de modulación y definir $M$ a partir de allí.\n",
    "\n",
    "$\\displaystyle l = \\frac{R}{B_{min}} = \\frac{19200}{8000} = 2,4$\n",
    "\n",
    "Redondeando el resultado, $l=3$\n",
    "\n",
    "La cantidad de niveles es se calcula como:\n",
    "\n",
    "$\\displaystyle M = 2^l = 2^3 = 8$\n",
    "\n",
    "Por lo tanto, se puede utilizar modulación 8QAM para utilizar un canal de $8KHz$ de ancho de banda."
   ]
  },
  {
   "cell_type": "markdown",
   "metadata": {},
   "source": [
    "## c)\n",
    "\n",
    "En 8QAM, cada símbolo representa 3 bits. Por lo tanto, la relación entre la tasa de bits y la tasa de baudios es de 3 bits por símbolo."
   ]
  }
 ],
 "metadata": {
  "language_info": {
   "name": "python"
  },
  "orig_nbformat": 4
 },
 "nbformat": 4,
 "nbformat_minor": 2
}
