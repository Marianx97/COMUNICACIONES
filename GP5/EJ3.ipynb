{
 "cells": [
  {
   "cell_type": "markdown",
   "metadata": {},
   "source": [
    "# Ejercicio 3\n",
    "\n",
    "![consigna](img/ej3_consigna.JPG)"
   ]
  },
  {
   "cell_type": "markdown",
   "metadata": {},
   "source": [
    "## a)\n",
    "\n",
    "El tipo de modulación que corresponde a este diagrama de constelación es 8PSK.\n",
    "\n",
    "El diagrama en bloques del modulador es el siguiente:\n",
    "\n",
    "![diagrama_modulador](img/ej3_a_diagrama.JPG)\n",
    "\n",
    "Los datos de entrada se convierten en una salida paralela de tres canales, el canal I, el canal Q y el canal C (o de control). Los bits en los canales I y C entran al convertidor de niveles de 2 a 4 del canal I, y los bits en los canales Q y C’ (C negado) entran el convertidor de niveles de 2 a 4, del canal Q. En esencia, los convertidores de los niveles 2 a 4 son convertidores digital a analógico (DAC) de entrada paralela. Con 2 bits de entrada, son posibles cuatro voltajes de salida. El algoritmo para los DAC es bastante sencillo. El bit I o Q determina la polaridad de la señal analógica de salida (1 lógico = +V y 0 lógico = –V), mientras que el bit C o el bit C’ determina la magnitud (1 lógico = 1.307V y 0 lógico = 0.541V). En consecuencia, con dos magnitudes y dos polaridades, son posibles cuatro condiciones de salida diferentes para cada canal.\n",
    "\n",
    "Los valores proporcionados (1 lógico = 1.307V y 0 lógico = 0.541V) implican un vector de fase cuya amplitud es $\\sqrt{2}V$."
   ]
  },
  {
   "cell_type": "markdown",
   "metadata": {},
   "source": [
    "## b)\n",
    "\n",
    "Tabla de verdad:\n",
    "\n",
    "![tabla](img/ej3_b_tabla.JPG)\n",
    "\n",
    "Diagrama:\n",
    "\n",
    "![diagrama](img/ej3_b_diagrama.JPG)"
   ]
  },
  {
   "cell_type": "markdown",
   "metadata": {},
   "source": [
    "## c)\n",
    "\n",
    "Para determinar el ancho de banda de nulo a nulo se utiliza la expresión:\n",
    "\n",
    "$\\displaystyle B_T = \\frac{2.R}{l} = \\frac{2.6Mbps}{3} = 4MHz$\n",
    "\n",
    "Siendo $R=6Mbps$ la tasa de bits y obteniendo $l$ de la expresión:\n",
    "\n",
    "$M=2^l$\n",
    "\n",
    "Sabiendo que $M=8$ es la cantidad de niveles."
   ]
  },
  {
   "cell_type": "markdown",
   "metadata": {},
   "source": [
    "## d)\n",
    "\n",
    "Espectro de salida\n",
    "\n",
    "![espectro_de_salida](img/ej3_d.JPG)\n"
   ]
  },
  {
   "cell_type": "markdown",
   "metadata": {},
   "source": [
    "## e)\n",
    "\n",
    "La eficiencia espectral del sistema, considerando un filtro de coseno realzado con coeficiente de roll-off $r=0,25$ se puede calcular como:\n",
    "\n",
    "$\\displaystyle \\eta=\\frac{l}{1+r}=\\frac{3}{1+0,25}=2,4$"
   ]
  }
 ],
 "metadata": {
  "kernelspec": {
   "display_name": "Python 3",
   "language": "python",
   "name": "python3"
  },
  "language_info": {
   "codemirror_mode": {
    "name": "ipython",
    "version": 3
   },
   "file_extension": ".py",
   "mimetype": "text/x-python",
   "name": "python",
   "nbconvert_exporter": "python",
   "pygments_lexer": "ipython3",
   "version": "3.10.6"
  },
  "orig_nbformat": 4
 },
 "nbformat": 4,
 "nbformat_minor": 2
}
