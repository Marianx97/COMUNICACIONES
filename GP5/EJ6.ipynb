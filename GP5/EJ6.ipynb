{
 "cells": [
  {
   "cell_type": "markdown",
   "metadata": {},
   "source": [
    "# Ejercicio 6\n",
    "\n",
    "![ej6_consigna](img/ej6_consigna.jpg)\n",
    "\n"
   ]
  },
  {
   "cell_type": "markdown",
   "metadata": {},
   "source": [
    "## a)\n",
    "\n",
    "El valor de la frecuencia de portadora ($f_c$) se obtiene como el punto intermedio entre $f_1$ y $f_0$.\n",
    "\n",
    "$\\displaystyle f_c = \\frac{f_1+f_0}{2} = \\frac{1600Hz+2200Hz}{2} = \\frac{3800Hz}{2} = 1900Hz$\n",
    "\n",
    "La desviación de la frecuencia de portadora se calcula como:\n",
    "\n",
    "$\\displaystyle {\\Delta}F = \\frac{f_0-f_1}{2} = \\frac{2200Hz-1600Hz}{2} = \\frac{600Hz}{2} = 300Hz$"
   ]
  },
  {
   "cell_type": "markdown",
   "metadata": {},
   "source": [
    "## b)\n",
    "\n",
    "El ancho de banda de transmisión mínimo se calcula como:\n",
    "\n",
    "${B_T}_{min} = 2.{\\Delta}F + 2.B_{min}$\n",
    "\n",
    "Donde:\n",
    "\n",
    "* ${B_T}_{min}$ es el ancho de banda de transmisión mínimo.\n",
    "* $B_{min}$ es el ancho de banda mínimo de la señal modulante.\n",
    "\n",
    "$\\displaystyle {B_T}_{min} = 2.{\\Delta}F + 2.B_{min} = 2.{\\Delta}F + 2.\\frac{D}{2}$\n",
    "\n",
    "En FSK la tasa de símbolos es igual a la tasa de información:\n",
    "\n",
    "$D=R=300bauds=300Hz$\n",
    "\n",
    "Entonces:\n",
    "\n",
    "$\\displaystyle {B_T}_{min} = 2.{\\Delta}F + R = 2.300Hz+300Hz = 900Hz$"
   ]
  },
  {
   "cell_type": "markdown",
   "metadata": {},
   "source": [
    "## c)\n",
    "\n",
    "Para que las señales sean ortogonales:\n",
    "\n",
    "* $s_{1(t)} = A_c . \\cos{(\\omega_1.t+\\theta_c)}$\n",
    "* $s_{2(t)} = A_c . \\cos{(\\omega_2.t+\\theta_c)}$\n",
    "\n",
    "$(f_0-f_1).(f_0+f_1)>>R$\n",
    "\n",
    "$600Hz.3800Hz>>R$\n",
    "\n",
    "$2280000>>300bps$\n",
    "\n",
    "Esta condición se cumple.\n",
    "\n",
    "El valor de $n$ debe ser un número entero.\n",
    "\n",
    "$\\displaystyle 2.{\\Delta}F = f_0-f_1 = \\frac{n}{2.T_b} = \\frac{n.R}{2}$\n",
    "\n",
    "$\\displaystyle n = \\frac{4.{\\Delta}F}{R} = \\frac{4.300Hz}{300Hz} = 4$\n",
    "\n",
    "Esta condición también se cumple.\n"
   ]
  },
  {
   "cell_type": "markdown",
   "metadata": {},
   "source": [
    "## d)\n",
    "\n",
    "La potencia de ruido se calcula como:\n",
    "\n",
    "$\\displaystyle \\langle n_0^2 \\rangle = \\langle n_1^2 \\rangle + \\langle n_2^2 \\rangle$\n",
    "\n",
    "Considerando que la densidad espectral de ruido es igual para ambas señales:\n",
    "\n",
    "$\\displaystyle \\langle n_0^2 \\rangle = 2. \\langle n_1^2 \\rangle = 2.(\\eta.B_{eq-n}).2$\n",
    "\n",
    "$\\displaystyle \\langle n_1^2 \\rangle = (\\eta.B_{eq-n}).2$\n",
    "\n",
    "De la consigna, se calcula el ancho de banda equivalente de ruido como:\n",
    "\n",
    "$\\displaystyle B_{eq-n} = 1,5 . B_{min} = 1,5 . \\frac{D}{2} = 1,5 . \\frac{300Hz}{2} = 225Hz$\n",
    "\n",
    "Entonces:\n",
    "\n",
    "$\\displaystyle \\langle n_0^2 \\rangle = 4.\\eta.B_{eq-n} = 4.10^{-17}.225 = 9.10^{-15}W$\n",
    "\n",
    "La relación señal a ruido se puede expresar como:\n",
    "\n",
    "$\\displaystyle S/N = 7,093[dB] = 5,12[veces]$\n",
    "\n",
    "Por lo tanto, se puede calcular la potencia de señal a la entrada como:\n",
    "\n",
    "$\\displaystyle S = 5,12 . \\langle n_0^2 \\rangle = 4,608.10^{-14}W$"
   ]
  },
  {
   "cell_type": "markdown",
   "metadata": {},
   "source": [
    "## e)\n",
    "\n",
    "En el espectro, las frecuencias de portadora y las correspondientes a las señales de señalización, para el sistema full duplex, serían:\n",
    "\n",
    "![frecuencias](img/ej6_e_frecuencias.JPG)\n",
    "\n",
    "El diagrama en bloques del sistema full duplex se ve de la siguiente forma:\n",
    "\n",
    "![diagrama](img/ej6_e_diagrama_full_duplex.JPG)"
   ]
  },
  {
   "cell_type": "markdown",
   "metadata": {},
   "source": [
    "## f)\n",
    "\n",
    "Considerando una modulación 16-QAM, la cantidad de dígitos binarios es:\n",
    "\n",
    "$16 = 2^l \\to l = 4$\n",
    "\n",
    "Teniendo en cuenta que:\n",
    "\n",
    "$\\displaystyle {B_T}_{min} = 900Hz$\n",
    "\n",
    "Entonces se puede calcular la tasa de transmisión máxima como:\n",
    "\n",
    "$\\displaystyle R = \\frac{{B_T}_{min} . l}{2} = \\frac{900Hz . 4}{2} = 1800bps$\n"
   ]
  }
 ],
 "metadata": {
  "language_info": {
   "name": "python"
  }
 },
 "nbformat": 4,
 "nbformat_minor": 2
}
