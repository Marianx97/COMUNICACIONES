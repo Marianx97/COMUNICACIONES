{
 "cells": [
  {
   "attachments": {},
   "cell_type": "markdown",
   "metadata": {},
   "source": [
    "# Ejercicio 5\n",
    "\n",
    "![Consigna](img/ej5_consigna.JPG)"
   ]
  },
  {
   "attachments": {},
   "cell_type": "markdown",
   "metadata": {},
   "source": [
    "## a)\n",
    "\n",
    "$\\displaystyle g(t) = 0,6.\\cos(2\\pi.2,3KHz.t)$\n",
    "\n",
    "$\\displaystyle m(t) = \\cos(2\\pi.710KHz.t)$\n",
    "\n",
    "$\\displaystyle v_1(t) = a . v_i(t) + b . v_i^2(t)$\n",
    "\n",
    "$\\displaystyle v_i(t) = g(t)+m(t) = 0,6.\\cos(2\\pi.2,3KHz.t) + \\cos(2\\pi.710KHz.t)$\n",
    "\n",
    "$\\displaystyle v_i^2(t) = (g(t)+m(t))^2=g^2(t)+2.m(t).g(t)+m^2(t)$\n",
    "\n",
    "Considerando las identidades:\n",
    "\n",
    "- $\\displaystyle \\cos^2(x) = \\frac{1}{2} . (1 + \\cos(2.x))$\n",
    "- $\\displaystyle \\cos(a) . \\cos(b) = \\frac{\\cos(a-b)+\\cos(a+b)}{2}$\n",
    "\n",
    "Entonces:\n",
    "\n",
    "$\\displaystyle g^2(t) = (0,6.\\cos(2\\pi.2,3KHz.t))^2 = 0,36.\\frac{1}{2}.(1+\\cos(2\\pi.4,6KHz.t)) = 0,18 + 0,18.\\cos(2\\pi.4,6KHz.t)$\n",
    "\n",
    "$\\displaystyle m^2(t) = (\\cos(2\\pi.710KHz.t))^2 = \\frac{1}{2}.(1+\\cos(2\\pi.1420KHz.t)) = 0,5 + 0,5.\\cos(2\\pi.1420KHz.t)$\n",
    "\n",
    "$\\displaystyle m(t).g(t) = \\frac{0,6(\\cos(2\\pi.(710KHz-2,3KHz).t)+\\cos(2\\pi.(710KHz+2,3KHz).t))}{2}$\n",
    "\n",
    "$\\displaystyle m(t).g(t) = \\frac{0,6(\\cos(2\\pi.707,7KHz.t)+\\cos(2\\pi.712,3KHz.t))}{2}$\n",
    "\n",
    "Por ende:\n",
    "\n",
    "$\\displaystyle v_i^2(t) = 0,18+0,18.\\cos(2\\pi.4,6KHz.t)+0,6.\\cos(2\\pi.707,7KHz.t)+0,6.\\cos(2\\pi.712,3KHz.t)+0,5+0,5.\\cos(2\\pi.1420KHz.t)$\n",
    "\n",
    "$\\displaystyle v_i^2(t) = 0,68+0,18.\\cos(2\\pi.4,6KHz.t)+0,6.\\cos(2\\pi.707,7KHz.t)+0,6.\\cos(2\\pi.712,3KHz.t)+0,5.\\cos(2\\pi.1420KHz.t)$\n",
    "\n",
    "Finalmente, a la salida del dispositivo de ley cuadrática, se encontrarán componentes espectrales en:\n",
    "* Continua\n",
    "* $f=2,3KHz$\n",
    "* $f=4,6KHz$\n",
    "* $f=707,7KHz$\n",
    "* $f=710KHz$\n",
    "* $f=712,3KHz$\n",
    "* $f=1420KHz$"
   ]
  },
  {
   "attachments": {},
   "cell_type": "markdown",
   "metadata": {},
   "source": [
    "## b)\n",
    "\n",
    "Para obtener a la salida del filtro solamente AM, la banda de paso debe admitir solamente las bandas laterales y la portadora, y suprimir todas las demás componentes frecuenciales.\n",
    "\n",
    "- Frecuencia central: $710KHz$\n",
    "- Ancho de banda: $10KHz (f_{ci} = 705KHz - f_{cs} = 715KHz)$\n",
    "- Atenuación dentro de la banda de paso: $0dB$\n",
    "- Atenuación en los extremos de la banda de paso: $3dB$\n",
    "- Atenuación fuera de la banda de paso: la mayor posible para suprimir las componentes no deseadas.\n"
   ]
  },
  {
   "attachments": {},
   "cell_type": "markdown",
   "metadata": {},
   "source": [
    "## c)\n",
    "\n",
    "La señal en AM puede expresarse como:\n",
    "\n",
    "$\\displaystyle s(t) = A_c.(1+m(t)).\\cos(2\\pi.f_c.t)$\n",
    "\n",
    "$\\displaystyle s(t) = A_c.(1+m.\\cos(2\\pi.f_m.t)).\\cos(2\\pi.f_c.t)$\n",
    "\n",
    "$\\displaystyle s(t) = A_c.\\cos(2\\pi.f_c.t)+A_c.m.\\cos(2\\pi.f_m.t).\\cos(2\\pi.f_c.t)$\n",
    "\n",
    "$\\displaystyle s(t) = A_c.\\cos(2\\pi.f_c.t)+\\frac{A_c.m}{2}.\\cos(2\\pi.(f_c-f_m).t)+\\frac{A_c.m}{2}.\\cos(2\\pi.(f_c+f_m).t)$\n",
    "\n",
    "La señal obtenida luego del filtro será:\n",
    "\n",
    "$\\displaystyle s(t) = a.\\cos(2\\pi.710KHz.t)+b.0,6.\\cos(2\\pi.707,7KHz.t)+b.0,6.\\cos(2\\pi.712,3KHz.t)$\n",
    "\n",
    "De estas expresiones:\n",
    "\n",
    "- $\\displaystyle A_c = a$\n",
    "- $\\displaystyle \\frac{A_c.m}{2} = b.0,6$\n",
    "\n",
    "De la segunda expresión se puede despejar $b$:\n",
    "\n",
    "$b = \\frac{30V.0,92}{2.0,6} = 23$\n",
    "\n",
    "Finalmente:\n",
    "\n",
    "- $a = 30V$\n",
    "- $b = 23V$\n"
   ]
  }
 ],
 "metadata": {
  "kernelspec": {
   "display_name": "Python 3",
   "language": "python",
   "name": "python3"
  },
  "language_info": {
   "codemirror_mode": {
    "name": "ipython",
    "version": 3
   },
   "file_extension": ".py",
   "mimetype": "text/x-python",
   "name": "python",
   "nbconvert_exporter": "python",
   "pygments_lexer": "ipython3",
   "version": "3.10.6"
  },
  "orig_nbformat": 4
 },
 "nbformat": 4,
 "nbformat_minor": 2
}
