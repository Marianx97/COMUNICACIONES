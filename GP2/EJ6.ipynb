{
 "cells": [
  {
   "attachments": {},
   "cell_type": "markdown",
   "metadata": {},
   "source": [
    "# Ejercicio 6\n",
    "\n",
    "![Consigna_1](img/ej6_consigna_1.JPG)\n",
    "\n",
    "![Consigna_2](img/ej6_consigna_2.JPG)\n"
   ]
  },
  {
   "attachments": {},
   "cell_type": "markdown",
   "metadata": {},
   "source": [
    "## a)\n",
    "\n",
    "La frecuencia de la señal que se desea recibir, considerando el centro de la banda de paso del filtro RF, es $f=110MHz$.\n",
    "\n",
    "Para saber la diferencia entre la señal y las interferencias, podemos plantear los siguiente:\n",
    "\n",
    "La a la entrada del receptor:\n",
    "\n",
    "![Entrada](img/ej6_entrada.JPG)\n",
    "\n",
    "Luego de la etapa de RF:\n",
    "\n",
    "![Post_RF](img/ej6_post_rf.JPG)\n",
    "\n",
    "Luego del primer filtro FI:\n",
    "\n",
    "![Post_Fi1](img/ej6_post_fi1.JPG)\n",
    "\n",
    "Luego del segundo filtro FI:\n",
    "\n",
    "![Post_Fi2](img/ej6_post_fi2.JPG)\n",
    "\n",
    "Se puede observar que la menor diferencia entre la señal y la interferencia en $20KHz$ ($109,98MHz$ en la entrada) es de $35dB$. Por lo tanto, no se puede recibir la señal $40dB$ por encima de las interferencias.\n"
   ]
  },
  {
   "attachments": {},
   "cell_type": "markdown",
   "metadata": {},
   "source": [
    "## b)\n",
    "\n",
    "Analizando la salida del detector, la principal fuente de interferencia se encuentra en $20Hz$ con una amplitud de $-25dB$. Esta señal de interferencia, en la entrada se corresponde a la frecuencia $f=109,98MHz$ y en relación a la portadora, se encuentra a una diferencia de $10dB$."
   ]
  },
  {
   "attachments": {},
   "cell_type": "markdown",
   "metadata": {},
   "source": [
    "## c)\n",
    "\n",
    "Analizando la salida del detector, la segunda fuente de interferencia se encuentra en $-910KHz$ con una amplitud de $-35dB$. Esta señal de interferencia, en la entrada se corresponde a la frecuencia $f=110,91MHz$ y en relación a la portadora, se encuentra a una diferencia de $30dB$."
   ]
  },
  {
   "attachments": {},
   "cell_type": "markdown",
   "metadata": {},
   "source": [
    "## d)\n",
    "\n",
    "Analizando la salida del detector, la tercera fuente de interferencia se encuentra en $-20,4MHz$ con una amplitud de $-55dB$. Esta señal de interferencia, en la entrada se corresponde a la frecuencia $f=130,49MHz$ y en relación a la portadora, se encuentra a una diferencia de $40dB$."
   ]
  }
 ],
 "metadata": {
  "language_info": {
   "name": "python"
  },
  "orig_nbformat": 4
 },
 "nbformat": 4,
 "nbformat_minor": 2
}
