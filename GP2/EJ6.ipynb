{
 "cells": [
  {
   "attachments": {},
   "cell_type": "markdown",
   "metadata": {},
   "source": [
    "# Ejercicio 6\n",
    "\n",
    "![Consigna_1](img/ej6_consigna_1.JPG)\n",
    "\n",
    "![Consigna_2](img/ej6_consigna_2.JPG)\n"
   ]
  },
  {
   "attachments": {},
   "cell_type": "markdown",
   "metadata": {},
   "source": [
    "## a)\n",
    "\n",
    "La frecuencia de la señal que se desea recibir, considerando el centro de la banda de paso del filtro RF, es $f=110MHz$.\n",
    "\n",
    "Para saber la diferencia entre la señal y las interferencias, podemos plantear los siguiente:\n",
    "\n",
    "La a la entrada del receptor:\n",
    "\n",
    "![Entrada](img/ej6_entrada.JPG)\n",
    "\n",
    "Luego de la etapa de RF:\n",
    "\n",
    "![Post_RF](img/ej6_post_rf.JPG)\n",
    "\n",
    "La señal que se encontraba en $131,4MHz$ se atenua $30dB$ quedando con una potencia de $0dB$ y queda \"solapada\" con la que se encontraba en $110MHz$, ambas transportadas hacia $10,7MHz$.\n",
    "Lo mismo ocurre con la señal en $130,49MHz$ que pasa a tener una amplitud de $20dB$ y queda solapada junto con la señal de $110,91MHz$, ambas transportadas a $9,79MHz$.\n",
    "\n",
    "Luego del primer filtro FI:\n",
    "\n",
    "![Post_Fi1](img/ej6_post_fi1.JPG)\n",
    "\n",
    "Las señales que se encontraban en $9,79MHz$ ($110,91MHz$ y $130,49MHz$) se ven atenuadas $30dB$ y transportadas hacia $455KHz$, por lo cual quedan solapadas con las señales que se encontraban en $10,7MHz$ ($131,4MHz$ y $110MHz$), que también son transportadas hacia $455KHz$.\n",
    "\n",
    "Luego del segundo filtro FI:\n",
    "\n",
    "![Post_Fi2](img/ej6_post_fi2.JPG)\n",
    "\n",
    "Se puede observar que existe una señal de interferencia con el mismo nivel de potencia que la propia señal deseada. Por lo tanto, no se puede recibir la señal $40dB$ por encima de las interferencias.\n"
   ]
  },
  {
   "attachments": {},
   "cell_type": "markdown",
   "metadata": {},
   "source": [
    "## b)\n",
    "\n",
    "Analizando la salida del detector, la principal fuente de interferencia se encuentra en la misma frecuencia que la señal deseada y con la misma potencia. Esta señal de interferencia, en la entrada se corresponde a la frecuencia $f=110,91MHz$."
   ]
  },
  {
   "attachments": {},
   "cell_type": "markdown",
   "metadata": {},
   "source": [
    "## c)\n",
    "\n",
    "Analizando la salida del detector, la segunda fuente de interferencia también se encuentra en la misma frecuencia que la señal deseada, $10dB$ por debajo de esta. Esta señal de interferencia, en la entrada se corresponde a la frecuencia $f=131,4MHz$."
   ]
  },
  {
   "attachments": {},
   "cell_type": "markdown",
   "metadata": {},
   "source": [
    "## d)\n",
    "\n",
    "Analizando la salida del detector, la tercera fuente de interferencia también se encuentra en la misma frecuencia que la señal deseada, $20dB$ por debajo de esta. Esta señal de interferencia, en la entrada se corresponde a la frecuencia $f=130,49MHz$.\n",
    "\n",
    "También se puede mencionar una cuarta fuente de interferencia cercana, que se encuentra en la frecuencia de $20Hz$ a la salida y con una potencia $35dB$ por debajo de la de la señal deseada. Esta señal de interferencia, en la entrada se corresponde a la frecuencia $f=109,98MHz$."
   ]
  }
 ],
 "metadata": {
  "language_info": {
   "name": "python"
  },
  "orig_nbformat": 4
 },
 "nbformat": 4,
 "nbformat_minor": 2
}
