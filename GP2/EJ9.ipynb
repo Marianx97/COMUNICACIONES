{
 "cells": [
  {
   "cell_type": "markdown",
   "metadata": {},
   "source": [
    "# Ejercicio 9\n",
    "\n",
    "![Consigna](img/ej9_consigna.JPG)"
   ]
  },
  {
   "cell_type": "markdown",
   "metadata": {},
   "source": [
    "## a)\n",
    "\n",
    "Considerando las señales resultantes como se las identifica en el siguiente gráfico:\n",
    "\n",
    "![Grafico_a](img/ej9_a.JPG)\n",
    "\n",
    "Se puede hallar la expresión matemática de $x_c(t)$ de la siguiente forma:\n",
    "\n",
    "$\\displaystyle x(t) = A_m.\\cos(2\\pi.f_m.t)$\n",
    "\n",
    "$\\displaystyle x_1(t) = x(t).2.\\cos(2\\pi.\\frac{w}{2}.t) = A_m.\\cos(2\\pi.f_m.t).2.\\cos(2\\pi.\\frac{w}{2}.t)$\n",
    "\n",
    "$\\displaystyle x_1(t) = A_m.2.\\frac{1}{2}.\\left[\\cos\\left(2\\pi.\\left(\\frac{w}{2}-f_m\\right).t\\right)+\\cos\\left(2\\pi.\\left(\\frac{w}{2}+f_m\\right).t\\right)\\right]$\n",
    "\n",
    "$\\displaystyle x_1(t) = A_m.\\left[\\cos\\left(2\\pi.\\left(\\frac{w}{2}-f_m\\right).t\\right)+\\cos\\left(2\\pi.\\left(\\frac{w}{2}+f_m\\right).t\\right)\\right]$\n",
    "\n",
    "$\\displaystyle x_1'(t) = A_m.\\cos\\left(2\\pi.\\left(\\frac{w}{2}-f_m\\right).t\\right)$\n",
    "\n",
    "$\\displaystyle x_1''(t) = x_1'(t).A_c.\\cos\\left(2\\pi.\\left(f_c+\\frac{w}{2}\\right).t\\right) = A_m.\\cos\\left(2\\pi.\\left(\\frac{w}{2}-f_m\\right).t\\right).A_c.\\cos\\left(2\\pi.\\left(f_c+\\frac{w}{2}\\right).t\\right)$\n",
    "\n",
    "$\\displaystyle x_1''(t) = \\frac{A_m.A_c}{2}.\\left[\\cos\\left(2\\pi.\\left(\\frac{w}{2}-f_m+f_c+\\frac{w}{2}\\right).t\\right)+\\cos\\left(2\\pi.\\left(\\frac{w}{2}-f_m-f_c-\\frac{w}{2}\\right).t\\right)\\right]$\n",
    "\n",
    "$\\displaystyle x_1''(t) = \\frac{A_m.A_c}{2}.[\\cos(2\\pi.(w+f_c-f_m).t)+\\cos(2\\pi.(-f_m-f_c).t)]$\n",
    "\n",
    "$\\displaystyle x_2(t) = x(t).2.\\sin(2\\pi.\\frac{w}{2}.t) = A_m.\\cos(2\\pi.f_m.t).2.\\sin(2\\pi.\\frac{w}{2}.t)$\n",
    "\n",
    "$\\displaystyle x_2(t) = A_m.2.\\frac{1}{2}.\\left[\\sin\\left(2\\pi.\\left(\\frac{w}{2}-f_m\\right).t\\right)+\\sin\\left(2\\pi.\\left(\\frac{w}{2}+f_m\\right).t\\right)\\right]$\n",
    "\n",
    "$\\displaystyle x_2(t) = A_m.\\left[\\sin\\left(2\\pi.\\left(\\frac{w}{2}-f_m\\right).t\\right)+\\sin\\left(2\\pi.\\left(\\frac{w}{2}+f_m\\right).t\\right)\\right]$\n",
    "\n",
    "$\\displaystyle x_2'(t) = A_m.\\sin\\left(2\\pi.\\left(\\frac{w}{2}-f_m\\right).t\\right)$\n",
    "\n",
    "$\\displaystyle x_2''(t) = x_2'(t).A_c.\\sin\\left(2\\pi.\\left(f_c+\\frac{w}{2}\\right).t\\right) = A_m.\\sin\\left(2\\pi.\\left(\\frac{w}{2}-f_m\\right).t\\right).A_c.\\sin\\left(2\\pi.\\left(f_c+\\frac{w}{2}\\right).t\\right)$\n",
    "\n",
    "$\\displaystyle x_2''(t) = -\\frac{A_m.A_c}{2}.\\left[\\cos\\left(2\\pi.\\left(\\frac{w}{2}-f_m+f_c+\\frac{w}{2}\\right).t\\right)-\\cos\\left(2\\pi.\\left(\\frac{w}{2}-f_m-f_c-\\frac{w}{2}\\right).t\\right)\\right]$\n",
    "\n",
    "$\\displaystyle x_2''(t) = -\\frac{A_m.A_c}{2}.[\\cos(2\\pi.(w+f_c-f_m).t)-\\cos(2\\pi.(-f_m-f_c).t)]$\n",
    "\n",
    "Finalmente:\n",
    "\n",
    "$\\displaystyle x_c(t) = x_1''(t) - x_2''(t)$\n",
    "\n",
    "$\\displaystyle x_c(t) = \\frac{A_m.A_c}{2}.[\\cos(2\\pi.(w+f_c-f_m).t)+\\cos(2\\pi.(-f_m-f_c).t)] - \\left(-\\frac{A_m.A_c}{2}.[\\cos(2\\pi.(w+f_c-f_m).t)-\\cos(2\\pi.(-f_m-f_c).t)]\\right)$\n",
    "\n",
    "$\\displaystyle x_c(t) = \\frac{A_m.A_c}{2}.[\\cos(2\\pi.(w+f_c-f_m).t)+\\cos(2\\pi.(-f_m-f_c).t)+\\cos(2\\pi.(w+f_c-f_m).t)-\\cos(2\\pi.(-f_m-f_c).t)]$\n",
    "\n",
    "$\\displaystyle x_c(t) = \\frac{A_m.A_c}{2}.[2.\\cos(2\\pi.(w+f_c-f_m).t)]$\n",
    "\n",
    "$\\displaystyle x_c(t) = A_m.A_c.\\cos(2\\pi.(w+f_c-f_m).t)$"
   ]
  },
  {
   "cell_type": "markdown",
   "metadata": {},
   "source": [
    "## b)\n",
    "\n",
    "Si el primer oscilador trabaja a una frecuencia de $W$, es factible generar una señal de BLU. Para esto, es necesario que el filtro pasa bajos tenga un mayor ancho de banda, lo cual es una desventaja, ya que aumenta el ruido y el segundo oscilador debe tener una frecuencia menor, lo cual es una ventaja."
   ]
  }
 ],
 "metadata": {
  "language_info": {
   "name": "python"
  },
  "orig_nbformat": 4
 },
 "nbformat": 4,
 "nbformat_minor": 2
}
