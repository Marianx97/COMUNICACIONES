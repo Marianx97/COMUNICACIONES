{
 "cells": [
  {
   "cell_type": "markdown",
   "metadata": {},
   "source": [
    "# Ejercicio 2\n",
    "\n",
    "![Consigna](img/ej2_consigna.JPG)"
   ]
  },
  {
   "cell_type": "markdown",
   "metadata": {},
   "source": [
    "## a)\n",
    "\n",
    "Potencia normalizada de la portadora:\n",
    "\n",
    "$\\displaystyle {P_p}_{[W]} = \\frac{({V_p}_p)^2}{2} = \\frac{(156V)^2}{2} = 12168W $\n",
    "\n",
    "$\\displaystyle {P_p}_{[dBW]} = 10.\\log{({P_p}_{[W]})} = 40,85dBW$"
   ]
  },
  {
   "cell_type": "markdown",
   "metadata": {},
   "source": [
    "## b)\n",
    "\n",
    "Amplitud pico de las componentes espectrales (excluida la portadora):\n",
    "\n",
    "$\\displaystyle A_1 = A_2 = A_3 = A$\n",
    "\n",
    "$\\displaystyle A_1 + A_2 + A_3 = 3 . A = 0,95 . {V_p}_p$\n",
    "\n",
    "$\\displaystyle A = \\frac{0,95 . {V_p}_p}{3} = \\frac{0,95.156V}{3} = 49,4V$"
   ]
  },
  {
   "cell_type": "markdown",
   "metadata": {},
   "source": [
    "## c)\n",
    "\n",
    "Potencia normalizada emitida en banda lateral superior:\n",
    "\n",
    "$\\displaystyle {P_{SSB}}_{[W]} = \\frac{1}{2} . \\left(\\frac{A_1}{2}\\right)^2 + \\frac{1}{2} . \\left(\\frac{A_2}{2}\\right)^2 + \\frac{1}{2} . \\left(\\frac{A_3}{2}\\right)^2 = \\frac{3}{2} . \\left(\\frac{A}{2}\\right)^2$\n",
    "\n",
    "$\\displaystyle {P_{SSB}}_{[W]} = \\frac{3}{2} . \\left(\\frac{49,4V}{2}\\right)^2 = 915,135W$\n",
    "\n",
    "$\\displaystyle {P_{SSB}}_{[dBW]} = 10.\\log{({P_{SSB}}_{[W]})} = 29,61dBW$"
   ]
  },
  {
   "cell_type": "markdown",
   "metadata": {},
   "source": [
    "## d)\n",
    "\n",
    "Potencia normalizada de $s(t)$:\n",
    "\n",
    "$\\displaystyle {P_T}_{[W]} = {P_p}_{[W]} + 2 . {P_{SSB}}_{[W]} = 12168W + 2.915,135W = 13998,27W$\n",
    "\n",
    "$\\displaystyle {P_T}_{[dBW]} = 10.\\log{({P_T}_{[W]})} = 41,46dBW$\n",
    "\n",
    "Potencia desnormalizada con una carga de $50\\Omega$:\n",
    "\n",
    "$\\displaystyle {P_T}_{[W]} = \\frac{1}{50\\Omega} . ({P_p}_{[W]} + 2 . {P_{SSB}}_{[W]}) = \\frac{12168W + 2.915,135W}{50\\Omega} = 279,96W$\n",
    "\n",
    "$\\displaystyle {P_T}_{[dBW]} = 10.\\log{({P_T}_{[W]})} = 24,47dBW$"
   ]
  },
  {
   "cell_type": "markdown",
   "metadata": {},
   "source": [
    "## e)\n",
    "\n",
    "Potencia pico de envolvente (normalizada):\n",
    "\n",
    "$\\displaystyle {P_{PEP}}_{[W]} = \\frac{1}{2} . [V_p+\\max{[m(t)]}]^2 = \\frac{1}{2} . [V_p+V_p.0,95]^2 = \\frac{(V_p)^2}{2} . [1+0,95]^2 = \\frac{(156V)^2}{2} . (1,95)^2 = 46268,82W$\n",
    "\n",
    "$\\displaystyle {P_{PEP}}_{[dBW]} = 10.\\log{({P_{PEP}}_{[W]})} = 46,65dBW$"
   ]
  }
 ],
 "metadata": {
  "language_info": {
   "name": "python"
  },
  "orig_nbformat": 4
 },
 "nbformat": 4,
 "nbformat_minor": 2
}
