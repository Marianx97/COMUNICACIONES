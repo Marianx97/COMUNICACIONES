{
 "cells": [
  {
   "cell_type": "markdown",
   "metadata": {},
   "source": [
    "# Ejercicio 10\n",
    "\n",
    "![Consigna](img/ej10_consigna.JPG)"
   ]
  },
  {
   "cell_type": "markdown",
   "metadata": {},
   "source": [
    "## a)\n",
    "\n",
    "Diagrama en bloques del grupo primario:\n",
    "\n",
    "![grupo_primario](img/ej10_a_1.JPG)\n",
    "\n",
    "Diagrama en bloques del grupo secundario:\n",
    "\n",
    "![grupo_secundario](img/ej10_a_2.JPG)"
   ]
  },
  {
   "cell_type": "markdown",
   "metadata": {},
   "source": [
    "## b)\n",
    "\n",
    "Se tienen que utilizar 12 osciladores en los grupos primarios y 5 osciladores para generar el super grupo. En total son 17 osciladores. Si se multiplexa en forma directa, son 60 osciladores."
   ]
  },
  {
   "cell_type": "markdown",
   "metadata": {},
   "source": [
    "## c)\n",
    "\n",
    "Las tensiones dentro del cable se suman en función a la cantidad de canales.\n",
    "- Amplitud máxima en el grupo primario: $12V$\n",
    "- Amplitud máxima en el grupo secundario: $60V$"
   ]
  }
 ],
 "metadata": {
  "language_info": {
   "name": "python"
  },
  "orig_nbformat": 4
 },
 "nbformat": 4,
 "nbformat_minor": 2
}
