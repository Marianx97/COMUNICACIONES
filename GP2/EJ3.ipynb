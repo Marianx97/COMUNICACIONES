{
 "cells": [
  {
   "attachments": {},
   "cell_type": "markdown",
   "metadata": {},
   "source": [
    "## Ejercicio 3\n",
    "\n",
    "![Consigna_1](img/ej3_consigna_1.JPG)\n",
    "\n",
    "![Consigna_2](img/ej3_consigna_2.JPG)"
   ]
  },
  {
   "attachments": {},
   "cell_type": "markdown",
   "metadata": {},
   "source": [
    "## a)\n",
    "\n",
    "* Filtro RF y Amplificador RF: este bloque se encarga de anular/atenuar el espectro de la frecuencia imagen y luego se amplifica la señal recibida.\n",
    "* Mezclador en conjunto con oscilador local: este bloque se encarga de trasladar el espectro de la señal recibida a $f_i$.\n",
    "* Filtro de FI y Amplificador de FI: este bloque se encarga de anular/atenuar el espectro de las frecuencias vecinas al espectro de la señal modulada y luego amplifica la salida del filtro.\n",
    "* Detector: este bloque detecta la señal moduladora que posee el mensaje."
   ]
  },
  {
   "attachments": {},
   "cell_type": "markdown",
   "metadata": {},
   "source": [
    "## b)\n",
    "$\\displaystyle P_{in(W)} = \\frac{A_C^2}{2.50\\Omega}.(1+\\langle m^2(t)\\rangle)$\n",
    "\n",
    "Potencia de portadora:\n",
    "\n",
    "$\\displaystyle P_{in-C(W)} = \\frac{A_C^2}{100\\Omega}$\n",
    "\n",
    "Potencia de bandas laterales:\n",
    "\n",
    "$\\displaystyle 2.P_{in-SSB(W)} = \\frac{A_C^2}{100\\Omega}.\\langle m^2(t)\\rangle$\n",
    "\n",
    "Proceso:\n",
    "\n",
    "* Etapa RF: $+15dB$\n",
    "* Mezclador: $-3dB$\n",
    "* Etapa FI: $+60dB$\n",
    "* Detección: $-1dB$ en bandas laterales y suprime la portadora\n",
    "* Etapa de baja frecuencia: $+40dB$\n",
    "\n",
    "Como la etapa de detección suprime la portadora, la potencia a la salida del parlante dependerá de la potencia de las bandas laterales.\n",
    "\n",
    "$\\displaystyle \\langle m^2(t)\\rangle = \\frac{m^2}{2} = \\frac{0,9^2}{2} = 0,405$\n",
    "\n",
    "$\\displaystyle V_p = \\sqrt{2} . V_{RMS} = \\sqrt{2} . 24{\\mu}V$\n",
    "\n",
    "$\\displaystyle 2.P_{in-SSB(W)} = \\frac{(\\sqrt{2} . 24{\\mu}V)^2}{2.50\\Omega}.0,405 = 4,66pW$\n",
    "\n",
    "$\\displaystyle 2.P_{in-SSB(dBm)} = 10.\\log{\\left(\\frac{4,66pW}{1mW}\\right)} = -83,32dBm$\n",
    "\n",
    "La potencia a la salida del parlante será:\n",
    "\n",
    "$P_{out(dBm)} = (2.P_{in-SSB(dBm)}) + 15dB - 3dB + 60dB - 1dB + 40dB = 27,68dBm$\n",
    "\n",
    "$\\displaystyle P_{out(W)} = 10^{\\frac{27,68}{10}}.1mW = 0,58W$"
   ]
  },
  {
   "attachments": {},
   "cell_type": "markdown",
   "metadata": {},
   "source": [
    "## c)\n",
    "\n",
    "La frecuencia de portadora en este caso es $1145KHz$ y la estación que se escucha corresponde a la frecuencia imagen superior.\n",
    "\n",
    "$1145KHz - 455KHz = 690KHz$\n",
    "\n",
    "La estación que se escucha es: $1145KHz + 455KHz = 1600KHz$"
   ]
  },
  {
   "attachments": {},
   "cell_type": "markdown",
   "metadata": {},
   "source": [
    "## d)\n",
    "\n",
    "Si consideramos que la frecuencia de portadora para este caso es $1145KHz$:\n",
    "\n",
    "$1145KHz - 455KHz = 690KHz$\n",
    "\n",
    "Podemos ver que las armónicas de la frecuencia del oscilador se encuentran en:\n",
    "\n",
    "* 2da armónica: $f_{osc} . 2 = 1145KHz . 2 = 2290KHz$\n",
    "* 3ra armónica: $f_{osc} . 3 = 1145KHz . 2 = 3435KHz$\n",
    "\n",
    "Si buscamos las bandas laterales correspondientes a la frecuencia de la 3ra armónica:\n",
    "\n",
    "* $3435KHz + 455KHz = 3890KHz$\n",
    "* $3435KHz - 455KHz = 2980KHz$\n",
    "\n",
    "Las estaciones que se están escuchando corresponden a las bandas laterales de la 3ra armónica. Esto se da ya que pueden aparecer interferencias en combinaciones lineales de $f_c$ y $f_i$."
   ]
  },
  {
   "attachments": {},
   "cell_type": "markdown",
   "metadata": {},
   "source": [
    "## e)\n",
    "La etapa de RF no afecta la frecuencia de $917,5KHz$ y el contenido espectral de esta frecuencia se ve amplificada por el amplificador RF.\n",
    "\n",
    "Entre el amplificador, el mezclador y el oscilador pueden generar armónicos que producen interferencias.\n",
    "\n",
    "Si buscamos el segundo armónico de la frecuencia $917,5KHz$:\n",
    "\n",
    "$917,5KHz . 2 = 1835KHz$\n",
    "\n",
    "Cuando se pasa por el mezclador, podemos operar con los valores de las 2das armónicas de manera que:\n",
    "\n",
    "$1835KHz - 2290KHz = -455KHz$\n",
    "\n",
    "De esta forma, el contenido espectral de $917,5Khz$ produce una interferencia en la frecuencia que se quizo sintonizar."
   ]
  },
  {
   "attachments": {},
   "cell_type": "markdown",
   "metadata": {},
   "source": [
    "## f)\n",
    "Se puede hacer operativo como un filtro de banda lateral única.\n",
    "\n",
    "Suponiendo que la frecuencia de portadora quedó dentro del espectro, el detector de envolvente podrá detectarlo aunque habría una distorsión debido a la falta de una de las bandas laterales.\n",
    "\n",
    "Suponiendo que la frecuencia de portadora no quedó dentro del espectro, el detector de envolvente no podrá detectarlo y deberá ser reemplazado por un detector de producto."
   ]
  },
  {
   "attachments": {},
   "cell_type": "markdown",
   "metadata": {},
   "source": [
    "## g)\n",
    "![EJ3_g_1](img/ej3_g_1.JPG)\n",
    "\n",
    "Detector sincrónico\n",
    "\n",
    "![EJ3_g_1](img/ej3_g_2.JPG)\n",
    "\n"
   ]
  }
 ],
 "metadata": {
  "language_info": {
   "name": "python"
  },
  "orig_nbformat": 4
 },
 "nbformat": 4,
 "nbformat_minor": 2
}
