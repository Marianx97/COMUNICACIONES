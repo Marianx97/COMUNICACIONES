{
 "cells": [
  {
   "cell_type": "markdown",
   "metadata": {},
   "source": [
    "# Ejercicio 7\n",
    "\n",
    "![Consigna](img/ej7_consigna.JPG)"
   ]
  },
  {
   "cell_type": "markdown",
   "metadata": {},
   "source": [
    "## Diagrama\n",
    "\n",
    "![Diagrama](img/ej7_diagrama.JPG)"
   ]
  },
  {
   "cell_type": "markdown",
   "metadata": {},
   "source": [
    "## a)\n",
    "\n",
    "El detector de producto podría recibir una banda lateral superior sin mayor inconveniente.\n",
    "\n",
    "![Gráfico_a](img/ej7_a.JPG)\n"
   ]
  },
  {
   "cell_type": "markdown",
   "metadata": {},
   "source": [
    "## b)\n",
    "\n",
    "Para recibir VSB debe tener una simetría impar en torno a $f_c$ y una respuesta de $\\frac{1}{2}$ en $f_c$. Su banda de paso se ensancha ligeramente, tomando una porción de la BLI en este caso.\n",
    "\n",
    "Con este cambio, al conformar el mensaje final, se evita que haya un realzamiento de las frecuencias bajas, impropio del mensaje original.\n",
    "\n",
    "![grafico_b](img/ej7_b.JPG)"
   ]
  },
  {
   "cell_type": "markdown",
   "metadata": {},
   "source": [
    "## c)\n",
    "\n",
    "Si hubiera un error en la frecuencia al momento de interpretar el mensaje, se obtendría el mensaje desplazado de sus frecuencias originales con un corrimiento equivalente a la diferencia que exista entre el oscilador y la frecuencia deseada (o en la que se esté transmitiendo, si es el transmisor el que está corrido en frecuencia).\n",
    "\n",
    "Si el mensaje fuera un tono audible, por ejemplo, podrían escucharse dos tonos de diferentes frecuencias superpuestos.\n",
    "\n",
    "![grafico_c](img/ej7_c.JPG)\n",
    "\n",
    "Si hubiera un error de fase, en DSB-SC se podría tomar la BLI como la BLS y viceversa. Si fuera información duplicada en ambas bandas, no sería un problema."
   ]
  },
  {
   "cell_type": "markdown",
   "metadata": {},
   "source": [
    "## d)\n",
    "\n",
    "Si el mensaje viene en BLU en la BLS, el corrimiento de fase tendría un efecto similar al del item **c)**. Se puede tener interferencia en la banda inferior o en la estación vecina. Si hubiera un error de fase, se estaría tomando la BLI, mensaje que no es de interés."
   ]
  }
 ],
 "metadata": {
  "language_info": {
   "name": "python"
  },
  "orig_nbformat": 4
 },
 "nbformat": 4,
 "nbformat_minor": 2
}
