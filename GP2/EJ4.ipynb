{
 "cells": [
  {
   "attachments": {},
   "cell_type": "markdown",
   "metadata": {},
   "source": [
    "# Ejercicio 4\n",
    "\n",
    "![Consigna](img/ej4_consigna.JPG)"
   ]
  },
  {
   "attachments": {},
   "cell_type": "markdown",
   "metadata": {},
   "source": [
    "## a)\n",
    "\n",
    "Un receptor superheterodino de doble conversión ofrece varias ventajas en comparación con uno de simple conversión. Entre estas se encuentran:\n",
    "\n",
    "* Selectividad mejorada: como se utilizan dos etapas de conversión de frecuencia, se obtiene una mayor selectividad en la recepción de señales. La primera etapa convierte la señal de entrada a una frecuencia intermedia más baja, y la segunda etapa la convierte a una frecuencia aún más baja o a la frecuencia base. Esto ayuda a filtrar mejor las señales no deseadas y reduce la interferencia de frecuencias cercanas, mejorando así la calidad de la señal recibida.\n",
    "\n",
    "* Rechazo de imagen mejorado: El receptor superheterodino de doble conversión supera el problema de las frecuencias imagen al utilizar una frecuencia intermedia diferente para cada etapa de conversión, lo que mejora significativamente el rechazo de señales de imagen.\n",
    "\n",
    "* Sensibilidad mejorada: La utilización de dos etapas de conversión de frecuencia permite una mayor ganancia y amplificación de la señal en comparación con un receptor de simple conversión. Esto resulta en una sensibilidad mejorada, lo que significa que el receptor puede captar señales más débiles y distantes con mayor claridad.\n",
    "\n",
    "* Mayor rechazo a interferencias: El diseño de doble conversión proporciona una mayor capacidad de rechazo a las interferencias de radiofrecuencia. Al filtrar las señales no deseadas en la primera etapa de conversión de frecuencia, el receptor superheterodino de doble conversión reduce la probabilidad de que esas señales lleguen a la segunda etapa y afecten negativamente la calidad de la señal deseada.\n",
    "\n",
    "* Flexibilidad en la elección de frecuencias intermedias: Al utilizar dos etapas de conversión, permite la elección de frecuencias intermedias diferentes en cada etapa. Esto proporciona flexibilidad en el diseño y permite adaptarse a diferentes aplicaciones y rangos de frecuencia.\n"
   ]
  },
  {
   "attachments": {},
   "cell_type": "markdown",
   "metadata": {},
   "source": [
    "## b)\n",
    "\n",
    "Para sintonizar una señal de $131,1MHz$ se pueden dar los siguientes casos:\n",
    "\n",
    "$f_{osc1_1} = f_s - f_{i1} = 131,1MHz - 10,7MHz = 120,4MHz$\n",
    "\n",
    "$f_{osc1_2} = f_s + f_{i1} = 131,1MHz + 10,7MHz = 141,8MHz$\n",
    "\n",
    "$f_{osc2_1} = f_{i1} - f_{i2} = 10,7MHz - 455KHz = 10,245MHz$\n",
    "\n",
    "$f_{osc2_2} = f_{i1} + f_{i2} = 10,7MHz + 455KHz = 11,155MHz$"
   ]
  },
  {
   "attachments": {},
   "cell_type": "markdown",
   "metadata": {},
   "source": [
    "## c)\n",
    "\n",
    "Caso 1: Ambos osciladores locales por arriba de la frecuencia deseada en cada etapa.\n",
    "\n",
    "$f_{osc1} = 141,8MHz$ y $f_{osc2} = 11,155Hz$\n",
    "\n",
    "![caso_1](img/ej4_fi1_arriba_fi2_arriba.JPG)\n",
    "\n",
    "* Frecuencia imagen: $120,4MHz$\n",
    "* Frecuencias inter-imagen: $119,49MHz$ y $142,71MHz$\n",
    "\n",
    "Caso 2: Ambos osciladores locales por debajo de la frecuencia deseada en cada etapa.\n",
    "\n",
    "$f_{osc1} = 120,4MHz$ y $f_{osc2} = 10,245Hz$\n",
    "\n",
    "![caso_2](img/ej4_fi1_abajo_fi2_abajo.JPG)\n",
    "\n",
    "* Frecuencia imagen: $141,8MHz$\n",
    "* Frecuencias inter-imagen: $121,31MHz$ y $140,89MHz$\n",
    "\n",
    "Caso 3: El primer oscilador por encima de la frecuencia deseada y el segundo por debajo.\n",
    "\n",
    "$f_{osc1} = 141,8MHz$ y $f_{osc2} = 10,245Hz$\n",
    "\n",
    "![caso_3](img/ej4_fi1_arriba_fi2_abajo.JPG)\n",
    "\n",
    "* Frecuencia imagen: $120,4MHz$\n",
    "* Frecuencias inter-imagen: $121,31MHz$ y $140,89MHz$\n",
    "\n",
    "Caso 4: El primer oscilador por debajo de la frecuencia deseada y el segundo por arriba.\n",
    "\n",
    "$f_{osc1} = 120,4MHz$ y $f_{osc2} = 11,155Hz$\n",
    "\n",
    "![caso_4](img/ej4_fi1_abajo_fi2_arriba.JPG)\n",
    "\n",
    "* Frecuencia imagen: $141,8MHz$\n",
    "* Frecuencias inter-imagen: $119,49MHz$ y $142,71MHz$\n"
   ]
  }
 ],
 "metadata": {
  "language_info": {
   "name": "python"
  },
  "orig_nbformat": 4
 },
 "nbformat": 4,
 "nbformat_minor": 2
}
