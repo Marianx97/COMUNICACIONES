{
 "cells": [
  {
   "attachments": {},
   "cell_type": "markdown",
   "metadata": {},
   "source": [
    "# Ejercicio 1\n",
    "\n",
    "![Consigna](img/ej1_consigna.JPG)"
   ]
  },
  {
   "attachments": {},
   "cell_type": "markdown",
   "metadata": {},
   "source": [
    "## a)\n",
    "\n",
    "La amplitud de la portadora ($A_C$) se puede calcular como la semisuma entre los valores $A_{MAX}$ y $A_{MIN}$:\n",
    "\n",
    "$\\displaystyle A_C = \\frac{A_{MAX}+A_{MIN}}{2} = \\frac{18V+7V}{2} = \\frac{25V}{2} = 12,5V$\n",
    "\n",
    "La señal modulada realiza una excursión de $5,5V$ pico hacia arriba y hacia abajo respecto de $A_C$. Esta excursión se corresponde con la amplitud pico de la señal $V_m(t)$. La amplitud de las bandas laterales se calcula como:\n",
    "\n",
    "$\\displaystyle A_{BL} = \\frac{V_{mp}}{2} = \\frac{5,5V}{2}=2,75V$\n",
    "\n",
    "El índice de modulación se puede calcular como:\n",
    "\n",
    "$\\displaystyle m = \\frac{A_{MAX}-A_{MIN}}{2.A_C} = \\frac{18V-7V}{2.12,5V} = 0,44$\n"
   ]
  },
  {
   "attachments": {},
   "cell_type": "markdown",
   "metadata": {},
   "source": [
    "## b)\n",
    "\n",
    "$\\displaystyle s(t) = A_C . [1+V_m(t)] . \\cos{(\\omega_c.t)}$\n",
    "\n",
    "$\\displaystyle s(t) = A_C . [1+m.\\cos{(\\omega_m.t)}] . \\cos{(\\omega_c.t)}$\n",
    "\n",
    "$\\displaystyle s(t) = A_C . \\cos{(\\omega_c.t)} + A_C . m . \\cos{(\\omega_m.t)} . \\cos{(\\omega_c.t)}$\n",
    "\n",
    "$\\displaystyle s(t) = A_C . \\cos{(\\omega_c.t)} + \\frac{A_C . m}{2} . [\\cos{((\\omega_c+\\omega_m).t)} + \\cos{((\\omega_c-\\omega_m).t)}]$\n",
    "\n",
    "Recoradando que:\n",
    "\n",
    "* $A_C = 12,5V$\n",
    "* $m = 0,44$\n",
    "* $\\omega_c = 2.\\pi.f_c = 2.\\pi.980KHz$\n",
    "* $\\omega_m = 2.\\pi.f_m = 2.\\pi.3,4KHz$\n",
    "\n",
    "$\\displaystyle s(t) = 12,5V . \\cos{(2.\\pi.(980KHz).t)} + \\frac{12,5V . 0,44}{2} . [\\cos{(2.\\pi.(980KHz+3,4KHz).t)} + \\cos{(2.\\pi.(980KHz-3,4KHz).t)}]$\n",
    "\n",
    "$\\displaystyle s(t) = 12,5V . \\cos{(2.\\pi.(980KHz).t)} + 2,75V . [\\cos{(2.\\pi.(983,4KHz).t)} + \\cos{(2.\\pi.(976,6KHz).t)}]$"
   ]
  },
  {
   "attachments": {},
   "cell_type": "markdown",
   "metadata": {},
   "source": [
    "## c)\n",
    "\n",
    "La potencia media se puede calcular a partir de la expresión:\n",
    "\n",
    "$\\displaystyle P_{(W)} = \\langle s^2(t)\\rangle = \\frac{1}{2.50\\Omega}.A_C^2+\\frac{1}{2.50\\Omega}.A_C^2\\langle m^2(t)\\rangle$\n",
    "\n",
    "$\\displaystyle P_{(W)} = \\frac{A_C^2}{2.50\\Omega} (1+\\langle m^2(t)\\rangle)$\n",
    "\n",
    "$\\displaystyle \\langle m^2(t)\\rangle = \\frac{1}{2} . m^2 = \\frac{1}{2} . (0,44)^2 = 0,0968$\n",
    "\n",
    "$\\displaystyle P_{(W)} = \\frac{(12,5V)^2}{2.50\\Omega} (1+0,0968) = 1,71375W$\n",
    "\n",
    "$\\displaystyle P_{(dBm)} = 10.\\log{(\\frac{P_{(W)}}{1mW})} = 10.\\log{(\\frac{1,71375}{1mW})} = 32,34dBm$\n",
    "\n",
    "$\\displaystyle P_{(dBW)} = 10.\\log{(\\frac{P_{(W)}}{1W})} = 10.\\log{(\\frac{1,71375}{1W})} = 2,34dBW$\n"
   ]
  },
  {
   "attachments": {},
   "cell_type": "markdown",
   "metadata": {},
   "source": [
    "## d)\n",
    "\n",
    "La potencia media en la portadora y en las bandas laterales se puede deducir de la expresión:\n",
    "\n",
    "$\\displaystyle P_{(W)} = \\langle s^2(t)\\rangle = \\frac{1}{2.50\\Omega}.A_c^2+\\frac{1}{2.50\\Omega}.A_c^2\\langle m^2(t)\\rangle$\n",
    "\n",
    "$\\displaystyle P_{(W)} = P_C + 2.P_{SSB}$\n",
    "\n",
    "Donde se corresponde que:\n",
    "\n",
    "$\\displaystyle P_C = \\frac{1}{2.50\\Omega}.A_c^2 = 1,5625 W$\n",
    "\n",
    "$\\displaystyle 2.P_{SSB} = \\frac{1}{2.50\\Omega}.A_c^2\\langle m^2(t)\\rangle = 0,15125W$\n",
    "\n",
    "$\\displaystyle P_{SSB} = \\frac{0,15125W}{2} = 0,075625W$\n",
    "\n",
    "$\\displaystyle P_{C(dBm)} = 10.\\log{(\\frac{P_{C(W)}}{1mW})} = 10.\\log{(\\frac{1,5625W}{1mW})} = 31,93dBm$\n",
    "\n",
    "$\\displaystyle P_{C(dBW)} = 10.\\log{(\\frac{P_{C(W)}}{1W})} = 10.\\log{(\\frac{1,5625W}{1W})} = 1,93dBW$\n",
    "\n",
    "$\\displaystyle P_{SSB(dBm)} = 10.\\log{(\\frac{P_{SSB(W)}}{1mW})} = 10.\\log{(\\frac{0,075625W}{1mW})} = 18,78dBm$\n",
    "\n",
    "$\\displaystyle P_{SSB(dBW)} = 10.\\log{(\\frac{P_{SSB(W)}}{1W})} = 10.\\log{(\\frac{0,075625W}{1W})} = -11,21dBW$"
   ]
  },
  {
   "attachments": {},
   "cell_type": "markdown",
   "metadata": {},
   "source": [
    "## e)\n",
    "\n",
    "La potencia en la portadora se reduce $30dB$:\n",
    "\n",
    "$P_{C(dBm)}' = P_C - 30dB = 31,93dBm - 30dB = 1,93dBm$\n",
    "\n",
    "$P_{C(W)}' = 1,56mW$\n",
    "\n",
    "La potencia de transmición es:\n",
    "\n",
    "$P_{(W)} = P_{C(W)}' + P_{SSB(W)} = 77,18mW$\n",
    "\n",
    "![espectro_de_potencia](img/ej1_e.JPG)"
   ]
  },
  {
   "attachments": {},
   "cell_type": "markdown",
   "metadata": {},
   "source": [
    "## f)\n",
    "\n",
    "Para una amplitud de $2,4V_{pp}$ en $g(t)$, $V_m(t)$ tiene una amplitud de $11V_{pp}$, esto implica que el amplificador $A_v$ tiene una ganancia tal que:\n",
    "\n",
    "$\\displaystyle A_v = \\frac{11V_{pp}}{2,4V_{pp}} = 4,58$\n",
    "\n",
    "Suponiendo ahora que $g(t)$ tiene una amplitud de $4,5V_{pp}$ entonces $V_m(t)$ tendrá una amplitud tal que:\n",
    "\n",
    "$\\displaystyle A_{V_m(t)} = A_{g(t)} . A_v = 4,5V_{pp} . 4,58 = 20,61V_{pp}$\n",
    "\n",
    "Para esta condición, el índice de modulación se puede calcular como:\n",
    "\n",
    "$\\displaystyle m = \\frac{A_{MAX}-A_{MIN}}{2.A_C} = \\frac{A_{V_m(t)}}{2.A_C} = \\frac{20,61V}{2.12,5V} = 0,82$"
   ]
  },
  {
   "attachments": {},
   "cell_type": "markdown",
   "metadata": {},
   "source": [
    "## g)\n",
    "\n",
    "Para alcanzar un índice de modulación de $90\\%$, es decir, $m = 0,9$ se puede calcular la amplitud pico a pico de $g(t)$ de la siguiente manera:\n",
    "\n",
    "$\\displaystyle m = \\frac{A_{V_m(t)}}{2.A_C}$\n",
    "\n",
    "$\\displaystyle A_{V_m(t)} = m.2.A_C = 0,9.2.12,5V = 22,5V_{pp}$\n",
    "\n",
    "$\\displaystyle A_{g(t)} = \\frac{A_{V_m(t)}}{A_v} = \\frac{22,5Vpp}{4,58} = 4,91Vpp$\n",
    "\n"
   ]
  }
 ],
 "metadata": {
  "language_info": {
   "name": "python"
  },
  "orig_nbformat": 4
 },
 "nbformat": 4,
 "nbformat_minor": 2
}
