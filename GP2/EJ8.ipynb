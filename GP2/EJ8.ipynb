{
 "cells": [
  {
   "cell_type": "markdown",
   "metadata": {},
   "source": [
    "# Ejercicio 8\n",
    "\n",
    "![Consigna](img/ej8_consigna.JPG)"
   ]
  },
  {
   "cell_type": "markdown",
   "metadata": {},
   "source": [
    "## a)\n",
    "\n",
    "Demostración de que la solución directa no es posible:\n",
    "\n",
    "- $f_0 = 22000KHz$\n",
    "- $B_T = 3100Hz$\n",
    "\n",
    "Si se quisiera aplicar la solución directa:\n",
    "\n",
    "![Grafico_A](img/ej8_a.png)\n",
    "\n",
    "Se puede apreciar en el grafico que ambas bandas quedan dentro de la banda de paso del filtro."
   ]
  },
  {
   "cell_type": "markdown",
   "metadata": {},
   "source": [
    "## b) y c)\n",
    "\n",
    "![Gráfico_b_y_c](img/ej8_b_c.jpg)"
   ]
  },
  {
   "cell_type": "markdown",
   "metadata": {},
   "source": [
    "### 1ra Etapa\n",
    "\n",
    "$B_T = 3,1KHz$\n",
    "\n",
    "Puede determinarse la frecuencia máxima del oscilador resolviendo el sistema de 2 ecuaciones con 2 incógnitas:\n",
    "\n",
    "${f_0}_1-\\frac{B_T}{2} = {{f_{osc}}_1}_{max} + 300$\n",
    "\n",
    "$0,98.({f_0}_1-\\frac{B_T}{2}) = {{f_{osc}}_1}_{max} - 300$\n",
    "\n",
    "El cual queda:\n",
    "\n",
    "${f_0}_1 = 31,55KHz$\n",
    "\n",
    "${{f_{osc}}_1}_{max} = 29,7KHz$\n",
    "\n",
    "### 2da Etapa\n",
    "\n",
    "Nuevamente se busca la frecuencia máxima del oscilador:\n",
    "\n",
    "${f_0}_2-\\frac{B_T}{2} = {{f_{osc}}_2}_{max} + 30KHz$\n",
    "\n",
    "$0,98.({f_0}_2-\\frac{B_T}{2}) = {{f_{osc}}_2}_{max} - 30KHz$\n",
    "\n",
    "${f_0}_2 = 3,00155MHz$\n",
    "\n",
    "${{f_{osc}}_2}_{max} = 2,97MHz$\n",
    "\n",
    "### 3ra Etapa\n",
    "\n",
    "Nuevamente se busca la frecuencia máxima del oscilador:\n",
    "\n",
    "${f_0}_3-\\frac{B_T}{2} = {{f_{osc}}_3}_{max} + 3MHz$\n",
    "\n",
    "$0,98.({f_0}_3-\\frac{B_T}{2}) = {{f_{osc}}_3}_{max} - 3MHz$\n",
    "\n",
    "${f_0}_3 = 300,00155MHz$\n",
    "\n",
    "${{f_{osc}}_3}_{max} = 294MHz$\n",
    "\n",
    "A partir de este punto, se puede generar una señal de USB con portadora $f_c = 22MHz$ y banda base $300-3400 [Hz]$.\n",
    "\n",
    "$f_c + 300Hz = 3MHz + {f_{osc}}_3$\n",
    "\n",
    "${f_{osc}}_3 = 19,0003MHz$\n",
    "\n",
    "${f_0}_3 = f_c + 1,85KHz = 22,00185MHz$"
   ]
  },
  {
   "cell_type": "markdown",
   "metadata": {},
   "source": [
    "## d)\n",
    "\n",
    "La solución más simple consiste en cambiar la frecuencia central del último filtro, tal que se suprima la BLS y se admita la BLI."
   ]
  }
 ],
 "metadata": {
  "language_info": {
   "name": "python"
  },
  "orig_nbformat": 4
 },
 "nbformat": 4,
 "nbformat_minor": 2
}
