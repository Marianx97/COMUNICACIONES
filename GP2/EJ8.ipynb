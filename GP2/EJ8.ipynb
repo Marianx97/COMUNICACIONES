{
 "cells": [
  {
   "cell_type": "markdown",
   "metadata": {},
   "source": [
    "# Ejercicio 8\n",
    "\n",
    "![Consigna](img/ej8_consigna.JPG)"
   ]
  },
  {
   "cell_type": "markdown",
   "metadata": {},
   "source": [
    "## a)\n",
    "\n",
    "Demostración de que la solución directa no es posible:\n",
    "\n",
    "- $f_0 = 22000KHz$\n",
    "- $B_T = 3100Hz$\n",
    "\n",
    "Si se quisiera aplicar la solución directa:\n",
    "\n",
    "![Grafico_A](img/ej8_a.png)\n",
    "\n",
    "Se puede apreciar en el grafico que ambas bandas quedan dentro de la banda de paso del filtro."
   ]
  },
  {
   "cell_type": "markdown",
   "metadata": {},
   "source": [
    "## b) y c)\n",
    "\n",
    "![Gráfico_b_y_c](img/ej8_b_c.jpg)"
   ]
  },
  {
   "cell_type": "markdown",
   "metadata": {},
   "source": [
    "## d)\n",
    "\n",
    "La solución más simple consiste en cambiar la frecuencia central del último filtro, tal que se suprima la BLS y se admita la BLI."
   ]
  }
 ],
 "metadata": {
  "language_info": {
   "name": "python"
  },
  "orig_nbformat": 4
 },
 "nbformat": 4,
 "nbformat_minor": 2
}
