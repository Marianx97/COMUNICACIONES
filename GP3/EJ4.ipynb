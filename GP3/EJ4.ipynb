{
 "cells": [
  {
   "attachments": {},
   "cell_type": "markdown",
   "metadata": {},
   "source": [
    "# Ejercicio 4\n",
    "\n",
    "![consigna_1](img/ej4_consigna_1.JPG)\n",
    "\n",
    "![consigna_2](img/ej4_consigna_2.JPG)"
   ]
  },
  {
   "attachments": {},
   "cell_type": "markdown",
   "metadata": {},
   "source": [
    "## a)\n",
    "\n",
    "$\\displaystyle {f_m}_1$ se puede deducir de la figura 1, considerando la separación entre la frecuencia de portadora y el primer pico y el valor de frecuencia por división.\n",
    "\n",
    "Siendo el span de $45KHz$, cada celda corresponde a $4,5KHz$. Como el primer pico lateral se encuentra a 2 divisiones de distancia: ${f_m}_1 = 9KHz$.\n",
    "\n",
    "Del mismo modo, de la figura 2, siendo el span de $150KHz$ y con el primer pico lateral a una división de distancia: ${f_m}_2 = 15KHz$.\n",
    "\n",
    "El valor de $\\beta$ se puede calcular como:\n",
    "\n",
    "$\\displaystyle \\beta_1 = \\frac{A_m.k_f}{{f_m}_1} = \\frac{0,3V.20\\frac{KHz}{V}}{9KHz} = \\frac{2}{3}$\n",
    "\n",
    "Se puede observar que la potencia de cada componente espectral es la misma en ambos gráficos, por lo cual se puede afirmar que tienen los mismos coeficientes de Bessel y, por lo tanto, $\\beta_1=\\beta_2$."
   ]
  },
  {
   "attachments": {},
   "cell_type": "markdown",
   "metadata": {},
   "source": [
    "## b)\n",
    "\n",
    "El valor de **$f_m$** varió de ${f_m}_1 = 9KHz$ a ${f_m}_2 = 15KHz$, por lo tanto: ${\\Delta}f_m = 6KHz$\n",
    "\n",
    "$\\displaystyle \\beta_1 = \\beta_2$\n",
    "\n",
    "$\\displaystyle \\frac{{A_m}_1.k_f}{{f_m}_1} = \\frac{{A_m}_2.k_f}{{f_m}_2}$\n",
    "\n",
    "$\\displaystyle \\frac{{A_m}_1}{{f_m}_1} = \\frac{{A_m}_2}{{f_m}_2}$\n",
    "\n",
    "$\\displaystyle {A_m}_2 = \\frac{{A_m}_1.{f_m}_2}{{f_m}_1} = \\frac{0,3V.15KHz}{9KHz} = 0,5V$\n",
    "\n",
    "El valor de **$A_m$** varió de ${A_m}_1 = 0,3V$ a ${A_m}_2 = 0,5V$, por lo tanto: ${\\Delta}A_m = 0,2V$\n"
   ]
  },
  {
   "attachments": {},
   "cell_type": "markdown",
   "metadata": {},
   "source": [
    "## c)\n",
    "\n",
    "En la figura 2:\n",
    "\n",
    "El nuevo valor de la máxima desviación de la frecuencia instantánea alrededor de $f_c$ es:\n",
    "\n",
    "$\\displaystyle {\\Delta}{f_m}_2 = \\beta . {f_m}_2 = \\frac{2}{3} . 15KHz = 10KHz$\n",
    "\n",
    "El nuevo ancho de banda de la señal modulada es:\n",
    "\n",
    "$\\displaystyle B_{T_2} = 2.(\\beta+1).{f_m}_2 = 2.\\left(\\frac{2}{3}+1\\right) . 15KHz = 50KHz$"
   ]
  },
  {
   "attachments": {},
   "cell_type": "markdown",
   "metadata": {},
   "source": [
    "### d)\n",
    "\n",
    "Considerando la constante del modulador de fase como:\n",
    "\n",
    "$\\displaystyle k_p = 4\\frac{rad}{V}$\n",
    "\n",
    "Entonces:\n",
    "\n",
    "$\\displaystyle \\beta_1 = {A_m}_1 . k_p = 0,3V.4\\frac{rad}{V} = 1,2rad$\n",
    "\n",
    "$\\displaystyle \\beta_1  = \\beta_2 \\to {A_m}_1 = {A_m}_2 = 0,3V$\n",
    "\n",
    "$\\displaystyle {A_m}_1 = {A_m}_2 \\to {\\Delta}A_m = {A_m}_2 - {A_m}_1 = 0V$\n",
    "\n",
    "Los valores de las frecuencias no varían, por lo tanto: ${\\Delta}F = 6KHz$\n",
    "\n",
    "$\\displaystyle {BW}_1 = 2.(\\beta + 1).{f_m}_1 = 2.(1,2 + 1).9KHz = 39,6KHz$\n",
    "$\\displaystyle {BW}_2 = 2.(\\beta + 1).{f_m}_2 = 2.(1,2 + 1).15KHz = 66KHz$\n",
    "\n",
    "Para el modulador de fase, la variación de frecuencia instantánea se calcula como:\n",
    "\n",
    "$\\displaystyle {\\Delta}f = \\max{\\left[\\frac{1}{2\\pi}.\\frac{\\delta\\theta_{(t)}}{{\\delta}t}\\right]}$\n",
    "\n",
    "$\\displaystyle {\\Delta}f_1 = \\max{\\left[\\frac{1}{2\\pi}.\\frac{\\delta(1,2rad.\\cos{(2\\pi.9KHz.t)})}{{\\delta}t}\\right]} = \\max{\\left[\\frac{1}{2\\pi}.2\\pi.9KHz.1,2rad.\\sin{(2\\pi.9KHz.t)}\\right]} = 9KHz.1,2rad = 10,8KHz$\n",
    "\n",
    "$\\displaystyle {\\Delta}f_2 = \\max{\\left[\\frac{1}{2\\pi}.\\frac{\\delta(1,2rad.\\cos{(2\\pi.15KHz.t)})}{{\\delta}t}\\right]} = \\max{\\left[\\frac{1}{2\\pi}.2\\pi.15KHz.1,2rad.\\sin{(2\\pi.15KHz.t)}\\right]} = 15KHz.1,2rad = 18KHz$\n"
   ]
  }
 ],
 "metadata": {
  "language_info": {
   "name": "python"
  },
  "orig_nbformat": 4
 },
 "nbformat": 4,
 "nbformat_minor": 2
}
