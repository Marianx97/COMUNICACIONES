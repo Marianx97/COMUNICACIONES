{
 "cells": [
  {
   "cell_type": "markdown",
   "metadata": {},
   "source": [
    "# Ejercicio 5\n",
    "\n",
    "![consigna](img/ej5_consigna.JPG)"
   ]
  },
  {
   "cell_type": "markdown",
   "metadata": {},
   "source": [
    "## a)\n",
    "\n",
    "Se cumple que:\n",
    "\n",
    "$\\displaystyle T_c + {\\Delta}T_c = 250nS \\to f_c - {\\Delta}f_c = 4MHz$\n",
    "\n",
    "$\\displaystyle T_c - {\\Delta}T_c = 200nS \\to f_c + {\\Delta}f_c = 5MHz$\n",
    "\n",
    "Sumando ambas ecuaciones miembro a miembro:\n",
    "\n",
    "$\\displaystyle f_c - {\\Delta}f_c + f_c + {\\Delta}f_c = 4MHz + 5MHz$\n",
    "\n",
    "$\\displaystyle 2.f_c = 9MHz \\to f_c = 4,5MHz$"
   ]
  },
  {
   "cell_type": "markdown",
   "metadata": {},
   "source": [
    "## b)\n",
    "\n",
    "Se puede calcular la máxima desviación de frecuencia como:\n",
    "\n",
    "$\\displaystyle {\\Delta}F = {f_c}_{max} - f_c = 5MHz - 4,5MHz = 0,5MHz$\n",
    "\n",
    "A partir de este valor se calcula el índice de modulación como:\n",
    "\n",
    "$\\displaystyle \\beta = \\frac{{\\Delta}F}{{f_m}_{max}} = \\frac{500KHz}{250KHz} = 2$"
   ]
  },
  {
   "cell_type": "markdown",
   "metadata": {},
   "source": [
    "## c)\n",
    "\n",
    "El ancho de banda de la señal se calcula como:\n",
    "\n",
    "$\\displaystyle BW = 2.{\\Delta}f = 2.500KHz = 1MHz$\n",
    "\n",
    "Considerando una impedancia normalizada $Z=1\\Omega$, se puede calcular la potencia como:\n",
    "\n",
    "$\\displaystyle P = \\frac{A_c^2}{2}$\n",
    "\n",
    "Antes del limitador:\n",
    "\n",
    "$\\displaystyle P = \\frac{10^2}{2} = 50W$\n",
    "\n",
    "Después del limitador:\n",
    "\n",
    "$\\displaystyle P = \\frac{2^2}{2} = 2W$\n"
   ]
  },
  {
   "cell_type": "markdown",
   "metadata": {},
   "source": [
    "## d)\n",
    "\n",
    "Si la frecuencia es triplicada, el valor de $f_c$ se transporta a $13,5MHz$ y su $BW$ alcanza los $1,5MHz$"
   ]
  }
 ],
 "metadata": {
  "language_info": {
   "name": "python"
  }
 },
 "nbformat": 4,
 "nbformat_minor": 2
}
