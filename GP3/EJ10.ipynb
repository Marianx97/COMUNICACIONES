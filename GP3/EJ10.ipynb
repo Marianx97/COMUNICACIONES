{
 "cells": [
  {
   "cell_type": "markdown",
   "metadata": {},
   "source": [
    "# Ejercicio 10\n",
    "\n",
    "![consigna](img/ej10_consigna.JPG)"
   ]
  },
  {
   "cell_type": "markdown",
   "metadata": {},
   "source": [
    "## a)\n",
    "\n",
    "Suponiendo sin modulación:\n",
    "\n",
    "$\\displaystyle P_{FM} = 5W$\n",
    "\n",
    "$\\displaystyle P_{FM} = \\frac{V_c^2}{2.R}$\n",
    "\n",
    "$\\displaystyle V_c = \\sqrt{2.R.P_{FM}}$\n",
    "\n",
    "$\\displaystyle V_c = \\sqrt{2.1\\Omega.5W} = 3,16V$\n",
    "\n",
    "$\\displaystyle P_{DSB} = \\frac{\\frac{m^2}{2}.V_c^2}{2.R} = 0,9W$\n",
    "\n",
    "$\\displaystyle m = \\frac{\\sqrt{0,9W.4.R}}{V_c} = \\frac{\\sqrt{0,9W.4.1\\Omega}}{3,16V} = 0,6$"
   ]
  },
  {
   "cell_type": "markdown",
   "metadata": {},
   "source": [
    "## b)\n",
    "\n",
    "Anchos de banda\n",
    "\n",
    "### FM\n",
    "\n",
    "$\\displaystyle \\beta = \\frac{{\\Delta}F_{max}}{{F_{max}}_{mod}} = \\frac{25KHz}{4KHz} = 6,25$\n",
    "\n",
    "$\\displaystyle {B_T}_{FM} = (\\beta+1).2.B = (6,25+1).2.4KHz = 58KHz$\n",
    "\n",
    "### AM\n",
    "\n",
    "![ancho_de_banda_am](img/ej10_b.JPG)\n",
    "\n",
    "$\\displaystyle {B_T}_{AM} = 258KHz$\n"
   ]
  },
  {
   "cell_type": "markdown",
   "metadata": {},
   "source": [
    "## c)\n",
    "\n",
    "Si aumenta la amplitud de $z_1$:\n",
    "\n",
    "Para FM:\n",
    "\n",
    "$\\displaystyle {\\Delta}f'_{max} = {\\Delta}f_{max} . 1,1 = 25KHz . 1,1 = 27,5KHz$\n",
    "\n",
    "$\\displaystyle \\beta'= \\frac{27,5KHz}{4KHz} = 6,875$\n",
    "\n",
    "$\\displaystyle {B'_T}_{FM} = (\\beta'+1).2.B = (6,875+1).2.4KHz = 63KHz$\n",
    "\n",
    "Para AM:\n",
    "\n",
    "$\\displaystyle {B'_T}_{AM} = 263KHz$\n"
   ]
  },
  {
   "cell_type": "markdown",
   "metadata": {},
   "source": [
    "## d)\n",
    "\n",
    "Diagrama en bloques del receptor para recuperar ambas señales:\n",
    "\n",
    "![diagrama](img/ej10_d.JPG)\n",
    "\n",
    "Para recibir FM se debe utilizar un filtro con ancho de banda $58KHz$.\n",
    "\n",
    "Para recibir AM se debe utilizar un filtro con ancho de banda $258KHz$ para poder detectar todo el mensaje."
   ]
  }
 ],
 "metadata": {
  "language_info": {
   "name": "python"
  },
  "orig_nbformat": 4
 },
 "nbformat": 4,
 "nbformat_minor": 2
}
