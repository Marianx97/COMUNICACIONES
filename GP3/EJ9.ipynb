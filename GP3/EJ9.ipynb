{
 "cells": [
  {
   "cell_type": "markdown",
   "metadata": {},
   "source": [
    "# Ejercicio 9\n",
    "\n",
    "![consigna](img/ej9_consigna.JPG)"
   ]
  },
  {
   "cell_type": "markdown",
   "metadata": {},
   "source": [
    "## a)\n",
    "\n",
    "* Limitador pasabandas\n",
    "* Circuito diferenciador $\\frac{\\delta}{{\\delta}t}$\n",
    "* Detector de envolvente\n",
    "* DC Block\n",
    "\n",
    "![diagrama](img/ej9_diagrama_a.jpg)"
   ]
  },
  {
   "cell_type": "markdown",
   "metadata": {},
   "source": [
    "## b)\n",
    "\n",
    "La señal a la entrada del diferenciador es:\n",
    "\n",
    "$\\displaystyle v_{in-dif}(t) = A_c . \\cos{\\left(\\omega_i.t+2.\\pi.K_f.\\int{x(t).dt}\\right)}$\n",
    "\n",
    "A la salida del diferenciador es:\n",
    "\n",
    "$\\displaystyle v_{out-dif}(t) = A_c . \\sin{\\left(\\omega_i.t+2.\\pi.K_f.\\int{x(t).dt}\\right)} . \\left(\\omega_i+2.\\pi.K_f.x(t)\\right)$\n",
    "\n",
    "Multiplicando y dividiendo por $\\omega_i$:\n",
    "\n",
    "$\\displaystyle v_{out-dif}(t) = A_c . \\sin{\\left(\\omega_i.t+2.\\pi.K_f.\\int{x(t).dt}\\right)} . \\omega_i . \\frac{\\left(\\omega_i+2.\\pi.K_f.x(t)\\right)}{\\omega_i}$\n",
    "\n",
    "$\\displaystyle v_{out-dif}(t) = A_c . \\sin{\\left(\\omega_i.t+2.\\pi.K_f.\\int{x(t).dt}\\right)} . \\omega_i . \\left(1+\\frac{2.\\pi.K_f.x(t)}{\\omega_i}\\right)$\n",
    "\n",
    "Factor que actua como portadora:\n",
    "\n",
    "$\\displaystyle A_c . \\sin{\\left(\\omega_i.t+2.\\pi.K_f.\\int{x(t).dt}\\right)} . \\omega_i$\n",
    "\n",
    "Factor que actua como envolvente:\n",
    "\n",
    "$\\displaystyle \\left(1+\\frac{2.\\pi.K_f.x(t)}{\\omega_i}\\right)$\n",
    "\n",
    "A partir del factor de envolvente, reemplazando con $x(t)$:\n",
    "\n",
    "$\\displaystyle \\left(1+\\frac{2.\\pi.K_f.A_m}{2.\\pi.f_i}.\\cos{(2.\\pi.5KHz.t)}\\right)$\n",
    "\n",
    "$\\displaystyle \\left(1+\\frac{K_f.A_m}{f_i}.\\cos{(2.\\pi.5KHz.t)}\\right)$\n",
    "\n",
    "$\\displaystyle {\\Delta}F = K_f.A_m$\n",
    "\n",
    "$\\displaystyle m = \\frac{{\\Delta}F}{f_i} = \\frac{A_{max}-A_{min}}{A_{max}+A_{min}} = \\frac{11,6V-8,4V}{11,6V+8,4V} = 0,16$\n",
    "\n",
    "$\\displaystyle {\\Delta}F = 0,16.f_i = 0,16.455KHz = 72,8KHz$\n",
    "\n",
    "\n",
    "<!-- $\\displaystyle x(t) = A_m . \\cos{(2.\\pi.5KHz.t)}$\n",
    "\n",
    "$\\displaystyle {\\Delta}F = \\max{\\left[\\frac{1}{2.\\pi}.\\frac{d(x(t))}{dt}\\right]}$\n",
    "\n",
    "$\\displaystyle {\\Delta}F = \\max{\\left[\\frac{1}{2.\\pi}.\\frac{d}{dt} . \\left[A_m . \\cos{(2.\\pi.5KHz.t)}\\right]\\right]}$\n",
    "\n",
    "$\\displaystyle {\\Delta}F = \\max{\\left[\\frac{1}{2.\\pi}. \\left[- A_m . \\sin{(2.\\pi.5KHz.t)} . 2.\\pi.5KHz\\right]\\right]}$\n",
    "\n",
    "$\\displaystyle {\\Delta}F = A_m.5KHz = 1,6 . 5KHz = 8KHz$ -->"
   ]
  },
  {
   "cell_type": "markdown",
   "metadata": {},
   "source": [
    "## c)\n",
    "\n",
    "Se calcula la amplitud del tono recibido como:\n",
    "\n",
    "$\\displaystyle A_m = \\frac{A_{max}-A_{min}}{2} = \\frac{11,6V-8,4V}{2} = 1,6V$"
   ]
  }
 ],
 "metadata": {
  "language_info": {
   "name": "python"
  },
  "orig_nbformat": 4
 },
 "nbformat": 4,
 "nbformat_minor": 2
}
