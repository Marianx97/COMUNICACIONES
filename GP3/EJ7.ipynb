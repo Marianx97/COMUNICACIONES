{
 "cells": [
  {
   "attachments": {},
   "cell_type": "markdown",
   "metadata": {},
   "source": [
    "# Ejercicio 7\n",
    "\n",
    "![consigna_1](img/ej7_consigna_1.JPG)\n",
    "![consigna_2](img/ej7_consigna_2.JPG)\n"
   ]
  },
  {
   "cell_type": "markdown",
   "metadata": {},
   "source": [
    "## a)\n",
    "\n",
    "$\\displaystyle 2.P_{SSB} = -47dB = 20nW$\n",
    "\n",
    "$\\displaystyle P_{SSB} = 10nW$\n",
    "\n",
    "$\\displaystyle P_{SSB} = \\frac{\\left(\\frac{A_c.\\beta}{2}\\right)^2}{2.R}$\n",
    "\n",
    "$\\displaystyle A_c.\\beta = 2.\\sqrt{P_{SSB}.2.R}$\n",
    "\n",
    "$\\displaystyle A_c.\\beta = 2.\\sqrt{10nW.2.50\\Omega} = 2mV$\n",
    "\n",
    "![triangulo](img/ej7_a.JPG)\n",
    "\n",
    "$\\displaystyle \\sin{(10º)} = \\frac{\\beta.A_c}{A_t}$\n",
    "\n",
    "$\\displaystyle A_t = \\frac{\\beta.A_c}{\\sin{(10º)}} = 11,52mV$\n",
    "\n",
    "$\\displaystyle A_c = A_t . \\cos{(10º)} = 11,34mV$\n",
    "\n",
    "Finalmente:\n",
    "\n",
    "$\\displaystyle P_c = \\frac{A_c^2}{2.R} = \\frac{(11,34mV)^2}{2.50\\Omega} = 1,28{\\mu}W$"
   ]
  },
  {
   "cell_type": "markdown",
   "metadata": {},
   "source": [
    "## b)\n",
    "\n",
    "$\\displaystyle A_{min} = A_c = 11,34mV$\n",
    "\n",
    "$\\displaystyle A_{max} = A_t = 11,52mV$\n",
    "\n",
    "$\\displaystyle m_{AM} = \\frac{A_{max}-A_{min}}{A_{max}+A_{min}} = \\frac{11,52mV-11,34mv}{11,52mV+11,34mv} = 0,0078$"
   ]
  },
  {
   "cell_type": "markdown",
   "metadata": {},
   "source": [
    "## c)\n",
    "\n",
    "Al quitar el desfasaje de $90º$, las bandas laterales dejan de estar en cuadratura para estar en fase. Para este caso, el índice de modulacion coincide con el valor de $\\beta$, por lo tanto:\n",
    "\n",
    "$\\displaystyle m_{AM} = \\frac{A_c.\\beta}{A_c} = \\frac{2mV}{11,34mV} = 0,1763 = 17,63\\%$"
   ]
  },
  {
   "cell_type": "markdown",
   "metadata": {},
   "source": [
    "## d)\n",
    "\n",
    "Se escucharía un tono de $6KHz$."
   ]
  },
  {
   "cell_type": "markdown",
   "metadata": {},
   "source": [
    "## e)\n",
    "\n",
    "Se escucharía un tono de $12KHz$."
   ]
  }
 ],
 "metadata": {
  "language_info": {
   "name": "python"
  },
  "orig_nbformat": 4
 },
 "nbformat": 4,
 "nbformat_minor": 2
}
