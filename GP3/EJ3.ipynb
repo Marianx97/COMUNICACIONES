{
 "cells": [
  {
   "cell_type": "markdown",
   "metadata": {},
   "source": [
    "# Ejercicio 3\n",
    "\n",
    "![consigna](img/ej3_consigna.JPG)"
   ]
  },
  {
   "cell_type": "markdown",
   "metadata": {},
   "source": [
    "## a)\n",
    "\n",
    "Potencia de la señal modulada sobre una impedancia de $1\\Omega$:\n",
    "\n",
    "$\\displaystyle \\langle S_{(t)} \\rangle = \\frac{A_c^2}{2} = \\frac{15^2}{2} = 112,5 W$"
   ]
  },
  {
   "cell_type": "markdown",
   "metadata": {},
   "source": [
    "## b)\n",
    "\n",
    "Ancho de banda de la señal modulada en FM:\n",
    "\n",
    "$\\displaystyle BW = 2.(\\beta+1).f_m$\n",
    "\n",
    "$\\displaystyle BW_1 = 2.(\\beta_1+1).{f_m}_1 = 2.(2+1).2KHz = 12KHz$\n",
    "\n",
    "$\\displaystyle BW_2 = 2.(\\beta_2+1).{f_m}_2 = 2.(4+1).11KHz = 110KHz$\n",
    "\n",
    "$\\displaystyle BW \\gtrapprox BW_2 = 110KHz$\n",
    "\n"
   ]
  },
  {
   "cell_type": "markdown",
   "metadata": {},
   "source": [
    "## c)\n",
    "\n",
    "Expresión matemática del mensaje con sus respectivos valores:\n",
    "\n",
    "$\\displaystyle \\theta_i = 2\\pi.f_c.t + 2.\\sin{(2\\pi.2000.t)} + 4.\\sin{(2\\pi.11000.t+\\phi)}$\n",
    "\n",
    "$\\displaystyle \\omega_i = 2\\pi.f_c.t + 2.2\\pi.2000Hz.\\cos{(2\\pi.2000.t)}+ 4.2\\pi.11000.\\cos{(2\\pi.11000.t+\\phi)}$\n",
    "\n",
    "$\\displaystyle f_i = f_c.t + 2.2000Hz.\\cos{(2\\pi.2000.t)}+ 4.11000.\\cos{(2\\pi.11000.t+\\phi)}$\n",
    "\n",
    "$\\displaystyle f_i = f_c.t + 4000Hz.\\cos{(2\\pi.2000.t)}+ 44000.\\cos{(2\\pi.11000.t+\\phi)}$\n",
    "\n",
    "$\\displaystyle m_{(t)} = 0,2V.\\cos{(2\\pi.2000.t)}+2,2V.\\cos{(2\\pi.11000.t+\\phi)}$"
   ]
  },
  {
   "cell_type": "markdown",
   "metadata": {},
   "source": [
    "## d)\n",
    "\n",
    "Si a la expresión del mensaje calculada en **c)** se le suma una continua de valor $2V$, la nueva $s_{(t)}$ será:\n",
    "\n",
    "$\\displaystyle m_{(t)} = 2V + 0,2V.\\cos{(2\\pi.2000.t)}+2,2V.\\cos{(2\\pi.11000.t+\\phi)}$\n",
    "\n",
    "$\\displaystyle s_{(t)} = A_c . \\cos{\\left(2\\pi.f_c+2\\pi.k_f\\int{m_{(t)}.dt}\\right)}$\n",
    "\n",
    "$\\displaystyle s_{(t)} = 15V .\\cos{\\left(2\\pi.f_c+2\\pi.k_f.\\left(2V+\\frac{0,2V.\\sin{(2\\pi.2000.t)}}{2\\pi.2000Hz}+\\frac{2,2V.\\sin{(2\\pi.11000.t+\\phi)}}{2\\pi.11000Hz}\\right)\\right)}$\n",
    "\n",
    "$\\displaystyle s_{(t)} = 15V .\\cos{\\left(2\\pi.f_c+2\\pi.k_f.2V+2\\pi.k_f.\\frac{0,2V.\\sin{(2\\pi.2000.t)}}{2\\pi.2000Hz}+2\\pi.k_f.\\frac{2,2V.\\sin{(2\\pi.11000.t+\\phi)}}{2\\pi.11000Hz}\\right)}$\n",
    "\n",
    "$\\displaystyle s_{(t)} = 15V .\\cos{\\left(2\\pi.f_c+2\\pi.k_f.2V+\\frac{k_f.0,2V}{2000Hz}.\\sin{(2\\pi.2000.t)}+\\frac{k_f.2,2V}{11000Hz}.\\sin{(2\\pi.11000.t+\\phi)}\\right)}$\n",
    "\n",
    "$\\displaystyle s_{(t)} = 15V .\\cos{\\left(2\\pi.\\left(f_c+k_f.2V\\right)+\\frac{k_f.0,2V}{2000Hz}.\\sin{(2\\pi.2000.t)}+\\frac{k_f.2,2V}{11000Hz}.\\sin{(2\\pi.11000.t+\\phi)}\\right)}$\n",
    "\n",
    "$\\displaystyle s_{(t)} = 15V .\\cos{\\left(2\\pi.\\left(95x10^6Hz+20x10^3\\frac{Hz}{V}.2V\\right)+2.\\sin{(2\\pi.2000.t)}+4.\\sin{(2\\pi.11000.t+\\phi)}\\right)}$\n",
    "\n",
    "$\\displaystyle s_{(t)} = 15V .\\cos{\\left(2\\pi.95,04MHz+2.\\sin{(2\\pi.2000.t)}+4.\\sin{(2\\pi.11000.t+\\phi)}\\right)}$\n",
    "\n",
    "Sumarle una componente de continua de $2V$ al mensaje provoca un corrimiento de la frecuencia de portadora de $40KHz$ que, en términos porcentuales, representa un $27,5%$ de la frecuencia máxima del mensaje.\n"
   ]
  },
  {
   "cell_type": "markdown",
   "metadata": {},
   "source": [
    "## e)\n",
    "\n",
    "La máxima desviación de frecuencia $({\\Delta}F)$ es:\n",
    "\n",
    "$\\displaystyle {\\Delta}F = \\max{\\left[\\frac{1}{2\\pi}.\\frac{d\\theta_{(t)}}{dt}\\right]} = k_f.(A_{m_1}+A_{m_2}) = 48KHz$\n",
    "\n",
    "La máxima desviación de fase $({\\Delta}\\phi)$ es:\n",
    "\n",
    "$\\displaystyle {\\Delta}\\phi = \\max[\\theta_{(t)}] = \\beta_1 + \\beta_2 = 4 + 2 = 6rad$\n"
   ]
  },
  {
   "cell_type": "markdown",
   "metadata": {},
   "source": [
    "## f)\n",
    "\n",
    "Expresión matemática del módulo de $S_{(f)}$:\n",
    "\n",
    "$\\displaystyle S_{(f)} = \\frac{A_c}{2}. \\left(\\left[\\delta_{(f-f_c)}+\\delta_{(f+f_c)}\\right]+j\\left[\\Phi_{(f-f_c)}+\\Phi_{(f+f_c)}\\right]\\right)$\n",
    "\n",
    "\n",
    "$\\displaystyle S_{(f)} = \\frac{A_c}{2}. \\left(\\left[\\delta_{(f-f_c)}+\\delta_{(f+f_c)}\\right]+j\\left[\\frac{k_f}{j.f}.M_{(f-f_c)}+\\frac{k_f}{j.f}.M_{(f+f_c)}\\right]\\right)$\n",
    "\n",
    "\n",
    "$\\displaystyle S_{(f)} = \\frac{A_c}{2}. \\left(\\delta_{(f-f_c)}+\\delta_{(f+f_c)}+\\frac{k_f}{f}.M_{(f-f_c)}+\\frac{k_f}{f}.M_{(f+f_c)}\\right)$\n",
    "\n",
    "$\\displaystyle S_{(f)} = \\frac{A_c}{2}. \\left(\\delta_{(f-f_c)}+\\delta_{(f+f_c)}+\\frac{k_f}{f}.(A_{m_1}.\\cos{(2\\pi.(f_1-f_c).t)}+A_{m_2}.\\cos{(2\\pi.(f_2-f_c).t+\\phi)})+\\frac{k_f}{f}.(A_{m_1}.\\cos{(2\\pi.(f_1+f_c).t)}+A_{m_2}.\\cos{(2\\pi.(f_2+f_c).t+\\phi)})\\right)$\n",
    "\n",
    "$\\displaystyle S_{(f)} = \\frac{A_c}{2}. \\left(\\delta_{(f-f_c)}+\\delta_{(f+f_c)}+\\frac{k_f}{f}.A_{m_1}.\\cos{(2\\pi.(f_1-f_c).t)}+\\frac{k_f}{f}.A_{m_2}.\\cos{(2\\pi.(f_2-f_c).t+\\phi)}+\\frac{k_f}{f}.A_{m_1}.\\cos{(2\\pi.(f_1+f_c).t)}+\\frac{k_f}{f}.A_{m_2}.\\cos{(2\\pi.(f_2+f_c).t+\\phi)}\\right)$\n",
    "\n",
    "Considerando que:\n",
    "\n",
    "$\\displaystyle s_{(t)} = 15V .\\cos{\\left(2\\pi.f_c.t+2.\\sin{(2\\pi.2000.t)}+4.\\sin{(2\\pi.11000.t+\\phi)}\\right)}$\n",
    "\n",
    "$\\displaystyle \\beta_1 = 2$ y $\\displaystyle f_1 = 2KHz$\n",
    "\n",
    "$\\displaystyle \\beta_2 = 4$ y $\\displaystyle f_2 = 11KHz$\n",
    "\n",
    "Si:\n",
    "\n",
    "$\\displaystyle \\beta = \\frac{{\\Delta}f}{f_m} = \\frac{k_f.A_m}{f_m} \\to A_m = \\frac{\\beta.f_m}{k_f}$\n",
    "\n",
    "$\\displaystyle \\beta_1 = \\frac{k_f.A_{m_1}}{{f_{max}}_1} = \\frac{20\\frac{KHz}{V}.2V}{2KHz} = 20$\n",
    "\n",
    "$\\displaystyle \\beta_2 = \\frac{k_f.A_{m_2}}{{f_{max}}_2} = \\frac{20\\frac{KHz}{V}.4V}{11KHz} = 7,27$\n",
    "\n",
    "$\\displaystyle {\\Delta}F_1 = 2.(\\beta_1+1).{f_max}_1 = 2.(20+1).2000Hz = 84KHz$\n",
    "\n",
    "$\\displaystyle {\\Delta}F_2 = 2.(\\beta_2+1).{f_max}_2 = 2.(7,27+1).11000Hz = 181,94KHz$\n",
    "\n",
    "$\\displaystyle {\\Delta}F_1 < {\\Delta}F_2 \\to {\\Delta}F \\approx {\\Delta}F_2$"
   ]
  }
 ],
 "metadata": {
  "language_info": {
   "name": "python"
  }
 },
 "nbformat": 4,
 "nbformat_minor": 2
}
