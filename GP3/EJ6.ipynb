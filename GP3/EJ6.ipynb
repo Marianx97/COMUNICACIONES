{
 "cells": [
  {
   "cell_type": "markdown",
   "metadata": {},
   "source": [
    "# Ejercicio 6\n",
    "\n",
    "![consigna](img/ej6_consigna.JPG)"
   ]
  },
  {
   "cell_type": "markdown",
   "metadata": {},
   "source": [
    "## a)\n",
    "\n",
    "$\\displaystyle 40dBm = 10W \\to J_0 = \\frac{10W}{250W} = 0,004$\n",
    "\n",
    "En función del gráfico provisto y marcando el valor hallado, se podrían aproximar valores de $\\beta$ mayores a $2,405$ para los cuales se cumple con la condición. Estos valores serían: $2,5$, $5,48$ y $5,52$.\n",
    "\n",
    "![ej6_a](img/ej6_a.JPG)"
   ]
  },
  {
   "cell_type": "markdown",
   "metadata": {},
   "source": [
    "## b)\n",
    "\n",
    "$\\displaystyle -20dB = 0,01W \\to \\beta = \\frac{0,01W}{250W} = 0,00004$\n",
    "\n",
    "- $J_0 = 0,004$\n",
    "- $J_1 = 0,502$\n",
    "- $J_2 = 0,402$\n",
    "- $J_3 = 0,185$\n",
    "- $J_4 = 0,08$\n",
    "- $J_5 = 0,002$\n",
    "\n",
    "$\\displaystyle \\sum_{j=0}^5 = 0,004 + 0,502 + 0,402 + 0,185 + 0,08 + 0,002 = 1,175$\n",
    "\n",
    "(debería ser 1, la diferencia se debe a las aproximaciones por el gráfico)\n",
    "\n",
    "![ej6_b](img/ej6_b.JPG)"
   ]
  },
  {
   "cell_type": "markdown",
   "metadata": {},
   "source": [
    "## c)\n",
    "\n",
    "Considerando que $J_0 = J_1$:\n",
    "\n",
    "$\\displaystyle \\beta \\approx 1,45$\n",
    "\n",
    "$\\displaystyle \\beta = \\frac{{\\Delta}f}{F_{max}} \\to {\\Delta}f = \\beta . F_{max} = 1,45 . 10KHz = 14,5KHz$\n",
    "\n",
    "$\\displaystyle BW = 2.(\\beta+1).F_{max} = 2.(1,45+1).10KHz = 49KHz$\n",
    "\n",
    "![ej6_c](img/ej6_c.JPG)\n"
   ]
  }
 ],
 "metadata": {
  "language_info": {
   "name": "python"
  }
 },
 "nbformat": 4,
 "nbformat_minor": 2
}
