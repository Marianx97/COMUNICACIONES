{
 "cells": [
  {
   "cell_type": "markdown",
   "metadata": {},
   "source": [
    "# Ejercicio 1\n",
    "\n",
    "![consigna](img/ej1_consigna.JPG)"
   ]
  },
  {
   "cell_type": "markdown",
   "metadata": {},
   "source": [
    "## a)\n",
    "\n",
    "Según la aproximación de Carson, el ancho de banda aproximado de una señal modulada está dada por la ecuación:\n",
    "\n",
    "$\\displaystyle BW = 2.(\\beta+1).B$\n",
    "\n",
    "Teniendo en cuenta que:\n",
    "\n",
    "$\\displaystyle k_f = 3\\frac{KHz}{V}$\n",
    "\n",
    "$\\displaystyle f_{m_{(t)}} = 5KHz$\n",
    "\n",
    "$\\displaystyle \\beta = \\frac{k_f.A_m}{F_{max}} = \\frac{3\\frac{KHz}{V}.1V}{5KHz} = 0,6$\n",
    "\n",
    "Aplicando Carson, se obtiene:\n",
    "\n",
    "$\\displaystyle BW = 2.(0,6+1).5KHz = 16KHz \\neq 6KHz$\n",
    "\n",
    "Por lo tanto, teniendo en cuenta la demostración, la afirmación no es acertada."
   ]
  },
  {
   "cell_type": "markdown",
   "metadata": {},
   "source": [
    "## b)\n",
    "\n",
    "Si se considera que:\n",
    "\n",
    "$\\displaystyle k_f = 1\\frac{MHz}{V}$\n",
    "\n",
    "$\\displaystyle B = 5KHz$\n",
    "\n",
    "$\\displaystyle \\beta = \\frac{k_f.A_m}{F_{max}} = \\frac{1\\frac{MHz}{V}.1V}{5KHz} = 200$\n",
    "\n",
    "Aplicando Carson, se obtiene:\n",
    "\n",
    "$\\displaystyle BW = (200+1)+5KHz = 2,01MHz \\approx 2MHz$\n",
    "\n",
    "Al haber aumentado la desviación de frecuencia , aumenta también el y aparecen nuevas componentes frecuenciales múltiplos de la frecuencia del mensaje y escaladas segúns la función de Bessel.\n"
   ]
  },
  {
   "cell_type": "markdown",
   "metadata": {},
   "source": [
    "## c)\n",
    "\n",
    "Los anchos de banda en cada ítem son:\n",
    "\n",
    "$\\displaystyle {BW}_a = 16KHz$\n",
    "\n",
    "$\\displaystyle {BW}_b \\approx 2MHz$\n"
   ]
  }
 ],
 "metadata": {
  "language_info": {
   "name": "python"
  }
 },
 "nbformat": 4,
 "nbformat_minor": 2
}
