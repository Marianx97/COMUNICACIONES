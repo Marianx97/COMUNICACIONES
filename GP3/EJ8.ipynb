{
 "cells": [
  {
   "cell_type": "markdown",
   "metadata": {},
   "source": [
    "# Ejercicio 8\n",
    "\n",
    "![consigna_1](img/ej8_consigna_1.JPG)\n",
    "\n",
    "![consigna_2](img/ej8_consigna_2.JPG)"
   ]
  },
  {
   "cell_type": "markdown",
   "metadata": {},
   "source": [
    "## a)\n",
    "\n",
    "Diagrama del transmisor:\n",
    "\n",
    "![ej8_a](img/ej8_a.JPG)"
   ]
  },
  {
   "cell_type": "markdown",
   "metadata": {},
   "source": [
    "## b)\n",
    "\n",
    "$\\displaystyle \\beta = 90.\\frac{A_m.k_f}{f_{max}} = 90.\\frac{0,052V.1600\\frac{Hz}{V}}{15000Hz} = 0,4992$\n",
    "\n",
    "Para ese valor de $\\beta$ corresponden:\n",
    "\n",
    "- $J_0 = 0,94$\n",
    "- $J_1 = 0,24$\n",
    "- $J_2 = 0,03$\n",
    "\n",
    "![ej8_b](img/ej8_b.JPG)"
   ]
  },
  {
   "cell_type": "markdown",
   "metadata": {},
   "source": [
    "## c)\n",
    "\n",
    "Para que el transmisor module en PM, se lo debe modificar de la siguiente forma:\n",
    "\n",
    "![ej8_c](img/ej8_c.JPG)"
   ]
  }
 ],
 "metadata": {
  "language_info": {
   "name": "python"
  }
 },
 "nbformat": 4,
 "nbformat_minor": 2
}
