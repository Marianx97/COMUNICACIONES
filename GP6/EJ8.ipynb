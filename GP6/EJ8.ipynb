{
 "cells": [
  {
   "cell_type": "markdown",
   "metadata": {},
   "source": [
    "# Ejercicio 8\n",
    "\n",
    "![consigna](img/ej8_consigna.JPG)\n",
    "\n",
    "$\\displaystyle \\#{\\:}px = 400.300=120000{\\:}px$\n",
    "\n",
    "$\\displaystyle l=32 \\to n=5{\\:}bits$\n",
    "\n",
    "$\\displaystyle I = \\#{\\:}px{\\:}.{\\:}n = 600000{\\:}bits$\n",
    "\n",
    "$\\displaystyle P_t = 31W = 14,91dB$\n",
    "\n",
    "Velocidad de transmisión: $\\displaystyle 10{\\:}\\frac{img}{s}$\n",
    "\n",
    "$\\displaystyle G_t = 22dB$\n",
    "\n",
    "$\\displaystyle G_r = 58dB$\n",
    "\n",
    "$\\displaystyle L_c = 268dB$\n",
    "\n",
    "$\\displaystyle T_i = 58ºK$\n",
    "\n",
    "La capacidad del canal se calcula como:\n",
    "\n",
    "$\\displaystyle C = B.\\log_2{(1+SNR)}$\n",
    "\n",
    "$\\displaystyle C = 1,44.\\frac{S}{N_0}$\n",
    "\n",
    "$\\displaystyle S = {P_t}_{dB} + {G_t}_{dB} + {G_r}_{dB} - {L_c}_{dB} = 14,91dB + 22dB + 58dB - 268dB = -173,09dB = 4,909x10^{-18}W$\n",
    "\n",
    "$\\displaystyle N_0 = k.T_i = 1,38x10^{-23}.58ºK = 8x10^{-22}W$\n",
    "\n",
    "Entonces:\n",
    "\n",
    "$\\displaystyle C = 1,44 . \\frac{4,909x10^{-18}W}{8x10^{-22}W} = 8827,76Hz$\n"
   ]
  },
  {
   "cell_type": "markdown",
   "metadata": {},
   "source": [
    "## a)\n",
    "\n",
    "**Con $B=500KHz$**\n",
    "\n",
    "$\\displaystyle C = 500KHz.\\log_2{\\left(1+\\frac{4,909x10^{-18}W}{8x10^{-22}\\frac{W}{Hz}{\\:}.500KHz}\\right)} = 8798,8Hz$\n",
    "\n",
    "$\\displaystyle T_{min} = \\frac{600000 \\frac{bits}{img}}{8798,8Hz} = 68,19\\frac{s}{img}|_{B=500KHz}$"
   ]
  },
  {
   "cell_type": "markdown",
   "metadata": {},
   "source": [
    "## b)\n",
    "\n",
    "**Con $B=1MHz$**\n",
    "\n",
    "$\\displaystyle C = 1MHz.\\log_2{\\left(1+\\frac{4,909x10^{-18}W}{8x10^{-22}\\frac{W}{Hz}{\\:}.1MHz}\\right)} = 8825,68Hz$\n",
    "\n",
    "$\\displaystyle {T_b}|_{B=1MHz} = \\frac{600000 \\frac{bits}{img}}{8825,68Hz} = 67,98\\frac{s}{img}\\neq\\frac{{T_b}_{B=500KHz}}{2}$\n"
   ]
  },
  {
   "cell_type": "markdown",
   "metadata": {},
   "source": [
    "## c)\n",
    "\n",
    "Con $T=0,1s \\to C=6MHz$ ^ $C|_{B\\to\\infty}=8827,76$\n",
    "\n",
    "Entonces:\n",
    "\n",
    "$\\displaystyle \\nexists B/C=6MHz$\n",
    "\n",
    "Es decir, no s epuede transmitir en tiempo real con codificación binaria.\n",
    "\n",
    "Considerando:\n",
    "\n",
    "$\\displaystyle B_{max} = 8827,76 Hz = \\frac{R}{N} = \\frac{600000}{N} \\to N = 67,96 \\to n_{min} = 6,08 \\approx 7 $\n",
    "\n",
    "Se necesita una señalización multinivel de $128$ niveles para que $D<C|_{B\\to\\infty}$"
   ]
  }
 ],
 "metadata": {
  "language_info": {
   "name": "python"
  }
 },
 "nbformat": 4,
 "nbformat_minor": 2
}
