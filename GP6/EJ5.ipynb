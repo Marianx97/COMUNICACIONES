{
 "cells": [
  {
   "cell_type": "markdown",
   "metadata": {},
   "source": [
    "# Ejercicio 5\n",
    "\n",
    "![consigna](img/ej5_consigna.JPG)\n"
   ]
  },
  {
   "cell_type": "markdown",
   "metadata": {},
   "source": [
    "## a)\n",
    "\n",
    "- $60$ imagenes por segundo\n",
    "- $1080$ líneas por imagen\n",
    "- $1920$ punto por línea\n",
    "- $1024$ niveles $\\to 10$ bits por punto\n",
    "\n",
    "$\\displaystyle R = 60{\\:}\\frac{img}{s}{\\:}.1080{\\:}\\frac{ln}{img}{\\:}.1920{\\:}\\frac{pt}{ln}{\\:}.10{\\:}\\frac{bits}{pt}{\\:} = 1,24416x10^9{\\:}\\frac{bits}{s}{\\:}$\n"
   ]
  },
  {
   "cell_type": "markdown",
   "metadata": {},
   "source": [
    "## b)\n",
    "\n",
    "Para calcular la capacidad del canal se parte de:\n",
    "\n",
    "$\\displaystyle C = B.\\log_2{(1+SNR)}$\n",
    "\n",
    "Si $R=C$ entonces:\n",
    "\n",
    "$\\displaystyle R = B.\\log_2{(1+SNR)}$\n",
    "\n",
    "$\\displaystyle B = \\frac{R}{\\log_2{(1+SNR)}} = \\frac{1,24416x10^9}{\\log_2{(1+10^{50})}} = 7,5MHz$"
   ]
  },
  {
   "cell_type": "markdown",
   "metadata": {},
   "source": [
    "## c)\n",
    "\n",
    "Para almacenar $10$ minutos se requieren:\n",
    "\n",
    "$10$ min $= 600$ seg\n",
    "\n",
    "$\\displaystyle Mem = R . t = 1,24416x10^9{\\:}\\frac{bits}{s}{\\:}.{\\:}600{\\:}s=7,46496x10^{11}{\\:}bits$"
   ]
  }
 ],
 "metadata": {
  "language_info": {
   "name": "python"
  }
 },
 "nbformat": 4,
 "nbformat_minor": 2
}
