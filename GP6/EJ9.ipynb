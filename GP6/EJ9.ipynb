{
 "cells": [
  {
   "cell_type": "markdown",
   "metadata": {},
   "source": [
    "# Ejercicio 9\n",
    "\n",
    "![consigna](img/ej9_consigna.JPG)"
   ]
  },
  {
   "cell_type": "markdown",
   "metadata": {},
   "source": [
    "Primero calculamos la capacidad del canal:\n",
    "\n",
    "$\\displaystyle S_{(W)} = 10^{\\frac{S_{(dB)}}{10}} . 1mW$\n",
    "\n",
    "$\\displaystyle S_{(W)} = 10^{\\frac{-80}{10}} . 1mW = 1x10^{-11}$\n",
    "\n",
    "$\\displaystyle C_{B\\to\\infty} = 1,44 . (\\frac{S}{N_0}) = 1,44 . (\\frac{S}{K.T_0}) = 3,5965x10^9 [bps]$\n",
    "\n",
    "Ahora necesitamos la tasa de información, para lo cual calculamos primero la entropía y el tiempo promedio:\n",
    "\n",
    "Para el cálculo de la entropía:\n",
    "\n",
    "$P_A = 2.P_B$\n",
    "\n",
    "$P_A + P_B = 1$\n",
    "\n",
    "$\\displaystyle 2.P_B + P_B = 1 \\to 3.P_B = 1 \\to P_B = \\frac{1}{3}$\n",
    "\n",
    "$\\displaystyle P_A = \\frac{2}{3}$\n",
    "\n",
    "$\\displaystyle H = P_A . \\log_2{\\left(\\frac{1}{P_A}\\right)} + P_B . \\log_2{\\left(\\frac{1}{P_B}\\right)}$\n",
    "\n",
    "$\\displaystyle H = \\frac{2}{3} . \\log_2{\\left(\\frac{3}{2}\\right)} + \\frac{1}{3} . \\log_2{(3)} = 0,92 \\left[\\frac{bits}{simbolo}\\right]$\n",
    "\n",
    "Para el cálculo del tiempo promedio:\n",
    "\n",
    "$T_A = 0,25{\\mu}S$\n",
    "\n",
    "$T_B = 0,5{\\mu}S$\n",
    "\n",
    "$\\displaystyle T_{prom} = P_A.T_A+P_B.T_B$\n",
    "\n",
    "$\\displaystyle T_{prom} = \\frac{2}{3}.0,25{\\mu}S+\\frac{1}{3}.0,5{\\mu}S = 0,33\\left[\\frac{{\\mu}S}{simbolo}\\right]$\n",
    "\n",
    "La tasa de información se calcula como:\n",
    "\n",
    "$\\displaystyle R = \\frac{H}{T_{prom}} = \\frac{0,92\\left[\\frac{bits}{simbolo}\\right]}{0,33\\left[\\frac{{\\mu}S}{simbolo}\\right]} = 2,78[Mbps]$\n",
    "\n",
    "Finalmente, se calcula el número de fuentes como:\n",
    "\n",
    "$\\displaystyle \\# Fuentes = \\frac{C}{R} = \\frac{3,5965x10^9[bps]}{2,78x10^6[bps]} = 1293,7 \\approx 1293$"
   ]
  }
 ],
 "metadata": {
  "language_info": {
   "name": "python"
  },
  "orig_nbformat": 4
 },
 "nbformat": 4,
 "nbformat_minor": 2
}
