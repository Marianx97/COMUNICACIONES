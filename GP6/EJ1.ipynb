{
 "cells": [
  {
   "cell_type": "markdown",
   "metadata": {},
   "source": [
    "# Ejercicio 1\n",
    "\n",
    "![consigna](img/ej1_consigna.JPG)"
   ]
  },
  {
   "cell_type": "markdown",
   "metadata": {},
   "source": [
    "## a)\n",
    "\n",
    "Para cada dígito se utilizan $4$ binits. Hay $3$ tambores de $2$ dígitos cada uno.\n",
    "\n",
    "$\\displaystyle \\#binits = 3{\\:}tambores{\\:}.{\\:}2{\\:}\\frac{digitos}{tambor}{\\:}.{\\:}4{\\:}\\frac{binits}{dígito}{\\:} = 24{\\:}binits$\n",
    "\n"
   ]
  },
  {
   "cell_type": "markdown",
   "metadata": {},
   "source": [
    "## b)\n",
    "\n",
    "En cada tambor hay $100$ combinaciones, por lo tanto se utilizan $7$ binits.\n",
    "\n",
    "$\\displaystyle \\#binits = 3{\\:}tambores{\\:}.7{\\:}\\frac{binits}{tambor}{\\:}={\\:}21{\\:}binits$"
   ]
  },
  {
   "cell_type": "markdown",
   "metadata": {},
   "source": [
    "## c)\n",
    "\n",
    "Entre los $3$ tambores existen $1.000.000$ de combinaciones, por lo tanto, se necesitarían $20$ binits."
   ]
  },
  {
   "cell_type": "markdown",
   "metadata": {},
   "source": [
    "## d)\n",
    "\n",
    "$\\displaystyle I = \\log_2{\\frac{1}{P}}$\n",
    "\n",
    "**Caso a)**\n",
    "\n",
    "$\\displaystyle I_T = \\log_2{\\frac{1}{P_1}}+\\log_2{\\frac{1}{P_2}}+\\log_2{\\frac{1}{P_3}}+\\log_2{\\frac{1}{P_4}}+\\log_2{\\frac{1}{P_5}}+\\log_2{\\frac{1}{P_6}}$\n",
    "\n",
    "$\\displaystyle I_T = \\log_2{\\frac{1}{\\frac{1}{10}}}+\\log_2{\\frac{1}{\\frac{1}{10}}}+\\log_2{\\frac{1}{\\frac{1}{10}}}+\\log_2{\\frac{1}{\\frac{1}{10}}}+\\log_2{\\frac{1}{\\frac{1}{10}}}+\\log_2{\\frac{1}{\\frac{1}{10}}}$\n",
    "\n",
    "$\\displaystyle I_T = 10.\\log_2{10} = 19,93 bits$\n",
    "\n",
    "**Caso b)**\n",
    "\n",
    "$\\displaystyle I_T = \\log_2{\\frac{1}{P_1}}+\\log_2{\\frac{1}{P_2}}+\\log_2{\\frac{1}{P_3}}$\n",
    "\n",
    "$\\displaystyle I_T = \\log_2{\\frac{1}{\\frac{1}{100}}}+\\log_2{\\frac{1}{\\frac{1}{100}}}+\\log_2{\\frac{1}{\\frac{1}{100}}}$\n",
    "\n",
    "$\\displaystyle I_T = 3.\\log_2{100} = 19,93 bits$\n",
    "\n",
    "**Caso c)**\n",
    "\n",
    "$\\displaystyle I_T = \\log_2{\\frac{1}{10^{-6}}} = \\log_2{10^6} = 19,93 bits$\n"
   ]
  },
  {
   "cell_type": "markdown",
   "metadata": {},
   "source": [
    "## e)\n",
    "\n",
    "Para el código de línea NRZ, la tasa de binits es igual a la tasa de símbolos.\n",
    "\n",
    "$\\displaystyle Tasa{\\:}de{\\:}información{\\:}={\\:}Tasa{\\:}de{\\:}bits{\\:}.{\\:}\\frac{información{\\:}transmitida}{bits{\\:}de{\\:}códificación}$\n",
    "\n",
    "**Caso a)**\n",
    "\n",
    "$\\displaystyle R = 19200.\\frac{binits}{s}.\\frac{19,93{\\:}bits}{24{\\:}binits}=15944{\\:}bps$\n",
    "\n",
    "**Caso b)**\n",
    "\n",
    "$\\displaystyle R = 19200.\\frac{binits}{s}.\\frac{19,93{\\:}bits}{21{\\:}binits}=18221,7{\\:}bps$\n",
    "\n",
    "**Caso c)**\n",
    "\n",
    "$\\displaystyle R = 19200.\\frac{binits}{s}.\\frac{19,93{\\:}bits}{20{\\:}binits}=19132,8{\\:}bps$\n"
   ]
  },
  {
   "cell_type": "markdown",
   "metadata": {},
   "source": [
    "## f)\n",
    "\n",
    "Al ser 16QAM, se enviarán 4 veces más información con la misma tasa de símbolos. La tasa de baudios no cambia.\n",
    "\n",
    "**Caso a)**\n",
    "\n",
    "Tasa de información: $\\displaystyle R=4.15944{\\:}bps = 63776{\\:}bps$\n",
    "\n",
    "Tasa de binits: $\\displaystyle D=4{\\:}\\frac{binits}{baudio}.19200{\\:}\\frac{baudio}{s} = 76800{\\:}\\frac{binits}{s}$\n",
    "\n",
    "**Caso b)**\n",
    "\n",
    "Tasa de información: $\\displaystyle R=4.18221,7{\\:}bps = 72886,8{\\:}bps$\n",
    "\n",
    "Tasa de binits: $\\displaystyle D=4{\\:}\\frac{binits}{baudio}.19200{\\:}\\frac{baudio}{s} = 76800{\\:}\\frac{binits}{s}$\n",
    "\n",
    "**Caso c)**\n",
    "\n",
    "Tasa de información: $\\displaystyle R=4.19132,8{\\:}bps = 76531,2{\\:}bps$\n",
    "\n",
    "Tasa de binits: $\\displaystyle D=4{\\:}\\frac{binits}{baudio}.19200{\\:}\\frac{baudio}{s} = 76800{\\:}\\frac{binits}{s}$"
   ]
  }
 ],
 "metadata": {
  "language_info": {
   "name": "python"
  },
  "orig_nbformat": 4
 },
 "nbformat": 4,
 "nbformat_minor": 2
}
