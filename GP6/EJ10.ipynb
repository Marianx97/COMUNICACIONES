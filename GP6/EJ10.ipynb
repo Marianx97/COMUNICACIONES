{
 "cells": [
  {
   "cell_type": "markdown",
   "metadata": {},
   "source": [
    "# Ejercicio 10\n",
    "\n",
    "![consigna](img/ej10_consigna.JPG)"
   ]
  },
  {
   "cell_type": "markdown",
   "metadata": {},
   "source": [
    "$\\displaystyle B_i.\\log_2{\\left(1+SNR_i\\right)} = B_f.\\log_2{\\left(1+SNR_f\\right)}$\n",
    "\n",
    "$\\displaystyle B_i.\\log_2{\\left(1+SNR_i\\right)} = B_f.\\log_2{\\left(1+\\frac{S_f}{N_0.B_f}\\right)}$\n",
    "\n",
    "Dado que el ancho de banda se reduce un $25\\%$, debemos encontrar el factor $x$ para incrementar la potencia.\n",
    "\n",
    "$\\displaystyle B_f=0,75.B_i$\n",
    "\n",
    "$\\displaystyle S_f=x.S_i$\n",
    "\n",
    "Entonces:\n",
    "\n",
    "$\\displaystyle B_i.\\log_2{\\left(1+SNR_i\\right)} = 0,75.B_i.\\log_2{\\left(1+\\frac{x.S_i}{N_0.0,75.B_i}\\right)}$\n",
    "\n",
    "$\\displaystyle \\log_2{\\left(1+6\\right)} = 0,75.\\log_2{\\left(1+\\frac{x}{0,75}.\\frac{S_i}{N_0.B_i}\\right)}$\n",
    "\n",
    "$\\displaystyle \\frac{\\log_2{\\left(7\\right)}}{0,75} = \\log_2{\\left(1+\\frac{x}{0,75}.SNR_i\\right)}$\n",
    "\n",
    "$\\displaystyle 2^{3,7431} = 1+\\frac{x}{0,75}.6$\n",
    "\n",
    "$\\displaystyle (2^{3,7431}-1). \\frac{0,75}{6} = x$\n",
    "\n",
    "$\\displaystyle x = 1,5488$"
   ]
  }
 ],
 "metadata": {
  "language_info": {
   "name": "python"
  },
  "orig_nbformat": 4
 },
 "nbformat": 4,
 "nbformat_minor": 2
}
