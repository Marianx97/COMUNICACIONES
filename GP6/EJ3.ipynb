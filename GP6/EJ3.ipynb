{
 "cells": [
  {
   "cell_type": "markdown",
   "metadata": {},
   "source": [
    "# Ejercicio 3\n",
    "\n",
    "![consigna](img/ej3_consigna.JPG)"
   ]
  },
  {
   "cell_type": "markdown",
   "metadata": {},
   "source": [
    "## a)\n",
    "\n",
    "La velocidad de transmisión de caracteres se calcula como:\n",
    "\n",
    "$\\displaystyle V_{char} = \\frac{115200\\left[\\frac{binits}{s}\\right]}{10\\left[\\frac{binits}{char}\\right]} = 11520\\left[\\frac{char}{s}\\right]$"
   ]
  },
  {
   "cell_type": "markdown",
   "metadata": {},
   "source": [
    "## b)\n",
    "\n",
    "Para saber cuánto se tarda en transmitir una página es necesario utilizar la velocidad de transmisión calculada previamente y saber cuántos caracteres hay por página.\n",
    "\n",
    "$\\displaystyle \\# char\\_por\\_pag = \\# palabras\\_por\\_pag . (\\# char\\_por\\_palabra + espacio)$\n",
    "\n",
    "$\\displaystyle \\# char\\_por\\_pag = 500 . 7 = 3500$\n",
    "\n",
    "Entonces, el tiempo se calcula como:\n",
    "\n",
    "$\\displaystyle T = \\frac{\\# char\\_por\\_pag}{V_{char}} = \\frac{3500}{11520} = 0,3038 [s]$"
   ]
  },
  {
   "cell_type": "markdown",
   "metadata": {},
   "source": [
    "## c)\n",
    "\n",
    "Probabilidad del caracter espacio:\n",
    "\n",
    "$\\displaystyle P_{esp} = \\frac{1}{7}$\n",
    "\n",
    "Probabilidad de las vocales:\n",
    "\n",
    "$\\displaystyle P_{voc} = \\frac{3}{28}$\n",
    "\n",
    "Probabilidad de los demás caracteres:\n",
    "\n",
    "$\\displaystyle P_{resto} = \\frac{1 - \\frac{1}{7} - 5.\\frac{3}{28}}{54} = \\frac{1}{168}$\n",
    "\n",
    "Entonces se puede calcular la entropía como:\n",
    "\n",
    "$\\displaystyle H = \\sum{P_i . \\log_2{\\left(\\frac{1}{P_i}\\right)}} = \\frac{1}{7}.\\log_2{(7)} + 5.\\frac{3}{28}.\\log_2{\\left(\\frac{28}{3}\\right)} + 54.\\frac{1}{168}.\\log_2{(168)} = 4,5 \\left[\\frac{bits}{char}\\right]$"
   ]
  },
  {
   "cell_type": "markdown",
   "metadata": {},
   "source": [
    "## d)\n",
    "\n",
    "La tasa de información transmitida se calcula como:\n",
    "\n",
    "$\\displaystyle R = H.V_{char} = 4,5 \\left[\\frac{bits}{char}\\right].11520\\left[\\frac{char}{s}\\right] = 51840bps$"
   ]
  }
 ],
 "metadata": {
  "language_info": {
   "name": "python"
  },
  "orig_nbformat": 4
 },
 "nbformat": 4,
 "nbformat_minor": 2
}
