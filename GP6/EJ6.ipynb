{
 "cells": [
  {
   "cell_type": "markdown",
   "metadata": {},
   "source": [
    "# Ejercicio 6\n",
    "\n",
    "![consigna](img/ej6_consigna.JPG)"
   ]
  },
  {
   "cell_type": "markdown",
   "metadata": {},
   "source": [
    "## a)\n",
    "\n",
    "Como produce 5 símbolos diferentes, se necesitarán al menos 3 dígitos binarios.\n",
    "\n",
    "Primero se calcula la entropía como:\n",
    "\n",
    "$\\displaystyle H = \\sum{P_i . \\log_2{\\left(\\frac{1}{P_i}\\right)}}$\n",
    "\n",
    "$\\displaystyle H = 3 . \\frac{1}{4} . \\log_2{(4)} + 2 . \\frac{1}{8} . \\log_2{(8)} = \\frac{3}{4} . 2 + \\frac{1}{4} . 3 = \\frac{9}{4} = 2,25\\left[\\frac{bits}{msg}\\right]$\n",
    "\n",
    "La tasa de información de la fuente se calcula como:\n",
    "\n",
    "$\\displaystyle R = H . r = 2,25\\left[\\frac{bits}{msg}\\right] . 100\\left[\\frac{msg}{s}\\right] = 225bps$\n",
    "\n",
    "La fuente puede ser transmitida por el canal ya que tiene una tasa de información menor que la capacidad del canal."
   ]
  },
  {
   "cell_type": "markdown",
   "metadata": {},
   "source": [
    "## b)\n",
    "\n",
    "| Mensaje | Probabilidad | Codificación |\n",
    "|---------|--------------|--------------|\n",
    "| M1      | 1/4          |  00          |\n",
    "| M2      | 1/4          |  01          |\n",
    "| M3      | 1/4          |  10          |\n",
    "| M4      | 1/8          | 110          |\n",
    "| M5      | 1/8          | 111          |\n",
    "\n",
    "Esta codificación presenta una longitud variable, por lo cual, su longitud promedio será:\n",
    "\n",
    "$\\displaystyle \\bar{N} = \\sum{P_i . l_i} = 3.\\frac{1}{4}.2+2.\\frac{1}{8}.3 = \\frac{9}{4} = 2,25\\left[\\frac{binits}{msg}\\right]$\n"
   ]
  },
  {
   "cell_type": "markdown",
   "metadata": {},
   "source": [
    "## c)\n",
    "\n",
    "La tasa de dígitos binarios a la salida de la codificación (velocidad de codificación binaria) es:\n",
    "\n",
    "$\\displaystyle r_b = \\bar{N} . r = 2,25\\left[\\frac{binits}{msg}\\right] . 100\\left[\\frac{msg}{s}\\right] = 225\\left[\\frac{binits}{s}\\right]$\n",
    "\n",
    "Como la velocidad de codificación es menor a la capacidad del canal, es posible su transmisión utilizando esta codificación."
   ]
  },
  {
   "cell_type": "markdown",
   "metadata": {},
   "source": [
    "## d)\n",
    "\n",
    "La eficiciencia se calcula como:\n",
    "\n",
    "$\\displaystyle \\eta = \\frac{H}{\\bar{N}} = \\frac{2,25\\left[\\frac{bits}{msg}\\right]}{2,25\\left[\\frac{binits}{msg}\\right]} = 1$\n",
    "\n",
    "La eficiencia es un $100\\%$."
   ]
  }
 ],
 "metadata": {
  "language_info": {
   "name": "python"
  },
  "orig_nbformat": 4
 },
 "nbformat": 4,
 "nbformat_minor": 2
}
