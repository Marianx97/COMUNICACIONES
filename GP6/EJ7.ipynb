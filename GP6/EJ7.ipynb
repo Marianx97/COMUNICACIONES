{
 "cells": [
  {
   "cell_type": "markdown",
   "metadata": {},
   "source": [
    "# Ejercicio 7\n",
    "\n",
    "![consigna](img/ej7_consigna.JPG)\n"
   ]
  },
  {
   "cell_type": "markdown",
   "metadata": {},
   "source": [
    "## a)\n",
    "\n",
    "Considerando que:\n",
    "\n",
    "- $\\displaystyle C = B.\\log_2{(1+SNR)}$\n",
    "- $R \\leq C$\n",
    "\n",
    "Entonces:\n",
    "\n",
    "$\\displaystyle R = B.\\log_2{(1+SNR)}$\n",
    "\n",
    "$\\displaystyle SNR = 2^{\\frac{R}{B}}-1$\n",
    "\n",
    "La mínima SNR teórica requerida a la entrada del receptor es:\n",
    "\n",
    "$\\displaystyle SNR = 2^{\\frac{20{\\:}Mbps}{1{\\:}MHz}}-1 = 1,048575x10^6=60,2dB$"
   ]
  },
  {
   "cell_type": "markdown",
   "metadata": {},
   "source": [
    "## b)\n",
    "\n",
    "Si:\n",
    "\n",
    "$\\displaystyle R=H.r$\n",
    "\n",
    "$\\displaystyle r=\\frac{R}{H}$\n",
    "\n",
    "Entonces la tasa de símbolos que se puede transmitir será:\n",
    "\n",
    "$\\displaystyle r = \\frac{20{\\:}Mbps}{2,3{\\:}\\frac{bits}{sym}} = 8695,65{\\:}\\frac{sym}{s}$"
   ]
  }
 ],
 "metadata": {
  "language_info": {
   "name": "python"
  }
 },
 "nbformat": 4,
 "nbformat_minor": 2
}
