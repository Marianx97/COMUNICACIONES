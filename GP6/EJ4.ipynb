{
 "cells": [
  {
   "cell_type": "markdown",
   "metadata": {},
   "source": [
    "# Ejercicio 4\n",
    "\n",
    "![consigna](img/ej4_consigna.JPG)"
   ]
  },
  {
   "cell_type": "markdown",
   "metadata": {},
   "source": [
    "## a)\n",
    "\n",
    "Probabilidad por pixel:\n",
    "\n",
    "$\\displaystyle P_{px} = \\frac{1}{4096}$\n",
    "\n",
    "Información por pixel:\n",
    "\n",
    "$\\displaystyle I_{px} = \\log_2{\\frac{1}{P_{px}}} = \\log_2{4096} = 12$\n",
    "\n",
    "Entropía por pixel:\n",
    "\n",
    "$\\displaystyle H_{px} = \\sum P_{px}.I_{px} = 4096.\\frac{1}{4096}.12 = 12\\frac{bits}{px}$\n",
    "\n",
    "La información por imagen se calcula como:\n",
    "\n",
    "$\\displaystyle I_{img} = 2160{\\:}\\frac{ln}{img}{\\:}.{\\:}3840{\\:}\\frac{px}{ln}{\\:}.{\\:}12{\\:}\\frac{bits}{px}{\\:}= 99,5328{\\:}\\frac{Mbits}{img}$\n"
   ]
  },
  {
   "cell_type": "markdown",
   "metadata": {},
   "source": [
    "## b)\n",
    "\n",
    "El tiempo de transmisión se calcula como:\n",
    "\n",
    "$\\displaystyle T_{Tx} = \\frac{I_{img}}{cap.Tx} = \\frac{99,5328{\\:}\\frac{Mbits}{img}}{100{\\:}\\frac{Mbits}{s}} = 0,99{\\:}\\frac{s}{img}$"
   ]
  }
 ],
 "metadata": {
  "language_info": {
   "name": "python"
  }
 },
 "nbformat": 4,
 "nbformat_minor": 2
}
