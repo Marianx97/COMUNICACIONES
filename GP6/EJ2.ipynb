{
 "cells": [
  {
   "cell_type": "markdown",
   "metadata": {},
   "source": [
    "# Ejercicio 2\n",
    "\n",
    "![consigna](img/ej2_consigna.JPG)\n"
   ]
  },
  {
   "cell_type": "markdown",
   "metadata": {},
   "source": [
    "## a)\n",
    "\n",
    "La duración de cada pulso es:\n",
    "\n",
    "$\\displaystyle T_s = 0,25ms$\n",
    "\n",
    "Por lo tanto se envían:\n",
    "\n",
    "$\\displaystyle r=4000{\\:}\\frac{msg}{s}$\n",
    "\n",
    "La entropía se calcula como:\n",
    "\n",
    "$\\displaystyle H = 1.\\frac{1}{2}+2.\\frac{1}{4}+3.\\frac{1}{8}+3.\\frac{1}{8} = \\frac{7}{4} = 1,75{\\:}\\frac{bits}{msg}$\n",
    "\n",
    "La tasa de información se calcula como:\n",
    "\n",
    "$\\displaystyle R=H.r=r=4000{\\:}\\frac{msg}{s}{\\:}.{\\:}1,75{\\:}\\frac{bits}{msg} = 7000{\\:}bps$"
   ]
  },
  {
   "cell_type": "markdown",
   "metadata": {},
   "source": [
    "## b)\n",
    "\n",
    "La transmisión es multinivel ya que, por cada símbolo se envían dos bits. Es posible que esta señalización sea empleada en un canal binario. Al tener más de un bit representado en un símbolo, la eficiencia del canal aumenta tanto como niveles tenga la señalización."
   ]
  },
  {
   "cell_type": "markdown",
   "metadata": {},
   "source": [
    "## c)\n",
    "\n",
    "Considerando la codificación de pulsos propuesta en la consigna, la tasa de transmisión binaria se calcula como:\n",
    "\n",
    "$\\displaystyle r_b = \\bar{N}.r$\n",
    "\n",
    "Donde:\n",
    "\n",
    "$\\displaystyle \\bar{N} = 2.\\frac{1}{2}+2.\\frac{1}{4}+2.\\frac{1}{8}+2.\\frac{1}{8} = 2{\\:}\\frac{binits}{msg}$\n",
    "\n",
    "Entonces:\n",
    "\n",
    "$\\displaystyle r_b = \\bar{N}.r = 2{\\:}\\frac{binits}{msg}.4000{\\:}\\frac{msg}{s}=8000{\\:}\\frac{binits}{s}$\n"
   ]
  },
  {
   "cell_type": "markdown",
   "metadata": {},
   "source": [
    "## d)\n",
    "\n",
    "Eligiendo una codificación de longitud variable:\n",
    "\n",
    "![tabla](img/ej2_d.JPG)\n",
    "\n",
    "Entonces:\n",
    "\n",
    "$\\displaystyle \\bar{N} = 2.\\frac{1}{2}+2.\\frac{1}{4}+2.\\frac{1}{8}+2.\\frac{1}{8} = 2{\\:}\\frac{binits}{msg}$\n",
    "\n",
    "$\\displaystyle H = 1.\\frac{1}{2}+2.\\frac{1}{4}+3.\\frac{1}{8}+3.\\frac{1}{8} = \\frac{7}{4} = 1,75{\\:}\\frac{bits}{msg}$\n",
    "\n",
    "Como $h=\\bar{N}$, entonces:\n",
    "\n",
    "$\\displaystyle r_b = R = 2000{\\:}\\frac{binits}{msg}$\n",
    "\n",
    "En el punto C:\n",
    "\n",
    "$\\displaystyle \\frac{H}{\\bar{N}}[\\%]=\\frac{1,75}{2} = 87,5\\% $\n",
    "\n",
    "Mientras que con esta codificación:\n",
    "\n",
    "$\\displaystyle \\frac{H}{\\bar{N}}[\\%]=100\\% $\n"
   ]
  },
  {
   "cell_type": "markdown",
   "metadata": {},
   "source": [
    "## e)\n",
    "\n",
    "La eficiecia de la codificación elegída es máxima:\n",
    "\n",
    "$\\displaystyle \\frac{H}{\\bar{N}}[\\%]=100\\% $"
   ]
  }
 ],
 "metadata": {
  "language_info": {
   "name": "python"
  }
 },
 "nbformat": 4,
 "nbformat_minor": 2
}
