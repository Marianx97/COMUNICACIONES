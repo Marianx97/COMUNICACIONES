{
 "cells": [
  {
   "cell_type": "markdown",
   "metadata": {},
   "source": [
    "# Ejercicio 8\n",
    "\n",
    "![Consigna_1](img/ej8_consigna_1.JPG)\n",
    "\n",
    "![Consigna_2](img/ej8_consigna_2.JPG)"
   ]
  },
  {
   "cell_type": "markdown",
   "metadata": {},
   "source": [
    "## a)\n",
    "\n",
    "Espectro antes del filtro pasa bajos\n",
    "\n",
    "![Espectro_a](img/ej8_a.jpg)"
   ]
  },
  {
   "cell_type": "markdown",
   "metadata": {},
   "source": [
    "## b)\n",
    "\n",
    "Espectro a la salida del filtro pasa bajos\n",
    "\n",
    "![Espectro_b](img/ej8_b.jpg)"
   ]
  },
  {
   "cell_type": "markdown",
   "metadata": {},
   "source": [
    "## c)\n",
    "\n",
    "Espectro a la salida del filtro pasa bajos si $F_2 = 2402 KHz$\n",
    "\n",
    "![Espectro_c](img/ej8_c.jpg)"
   ]
  },
  {
   "cell_type": "markdown",
   "metadata": {},
   "source": [
    "## d)\n",
    "\n",
    "Espectro antes del filtro pasabajos si $F_2 = 2398 KHz$\n",
    "\n",
    "![Espectro_d](img/ej8_d.jpg)"
   ]
  }
 ],
 "metadata": {
  "language_info": {
   "name": "python"
  },
  "orig_nbformat": 4
 },
 "nbformat": 4,
 "nbformat_minor": 2
}
