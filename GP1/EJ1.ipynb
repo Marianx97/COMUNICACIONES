{
 "cells": [
  {
   "attachments": {},
   "cell_type": "markdown",
   "metadata": {},
   "source": [
    "# Ejercicio 1\n",
    "\n",
    "![Consigna](img/ej1_consigna.JPG)\n",
    "\n",
    "$\\displaystyle P = V . I = \\frac{V^2}{Z}$\n",
    "\n",
    "$\\displaystyle V = \\sqrt{P.Z}$\n",
    "\n",
    "$\\displaystyle P_{(dB)} = 10.\\log{\\frac{P_{(W)}}{1mW}}$\n",
    "\n",
    "$\\displaystyle P_{(W)} = 10^{\\frac{P_{(dB)}}{10}} . 1mW$\n",
    "\n",
    "![Resolución](img/EJ1.jpeg)\n",
    "\n"
   ]
  }
 ],
 "metadata": {
  "language_info": {
   "name": "python"
  },
  "orig_nbformat": 4
 },
 "nbformat": 4,
 "nbformat_minor": 2
}
