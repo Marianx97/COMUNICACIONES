{
 "cells": [
  {
   "attachments": {},
   "cell_type": "markdown",
   "metadata": {},
   "source": [
    "# Ejercicio 1\n",
    "\n",
    "![Consigna](img/ej1_consigna.JPG)\n",
    "\n",
    "$P = V . I = \\frac{V^2}{Z}$\n",
    "\n",
    "$V = \\sqrt{P.Z}$\n",
    "\n",
    "$P_{(dB)} = 10.\\log{\\frac{P_{(W)}}{1mW}}$\n",
    "\n",
    "$P_{(W)} = 10^{\\frac{P_{(dB)}}{10}} . 1mW$\n",
    "\n",
    "Como $Z_i = Z_o$ está en condición de máxima transferencia de energía y, por lo tanto:\n",
    "\n",
    "$P_l = \\%50 P_o$\n",
    "\n",
    "![Resolución](img/EJ1.jpeg)\n",
    "\n"
   ]
  }
 ],
 "metadata": {
  "language_info": {
   "name": "python"
  },
  "orig_nbformat": 4
 },
 "nbformat": 4,
 "nbformat_minor": 2
}
