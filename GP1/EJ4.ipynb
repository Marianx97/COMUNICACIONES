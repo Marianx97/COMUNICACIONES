{
 "cells": [
  {
   "attachments": {},
   "cell_type": "markdown",
   "metadata": {},
   "source": [
    "# Ejercicio 4 (Obligatorio)\n",
    "\n",
    "![Consigna](img/ej4_consigna.JPG)"
   ]
  },
  {
   "attachments": {},
   "cell_type": "markdown",
   "metadata": {},
   "source": [
    "Para una señal de tipo:\n",
    "\n",
    "$\\displaystyle f(x) = \\left\\{\\begin{array}{cc} A, t<\\left|\\frac{\\tau}{2}\\right| \\\\ 0, t>\\left|\\frac{\\tau}{2}\\right| \\end{array}\\right\\}$\n",
    "\n",
    "$\\tau = \\delta . T$\n",
    "\n",
    "Los coeficientes $C_n$ son:\n",
    "\n",
    "$\\displaystyle C_n = \\frac{1}{T} . \\int_{-\\frac{\\tau}{2}}^{\\frac{\\tau}{2}} A.e^{-j.n.\\frac{2\\pi}{T}.t}.dt$\n",
    "\n",
    "$\\displaystyle C_n = \\frac{A}{T} . \\left(\\frac{e^{-j.n.\\frac{2\\pi}{T}.t}}{-j.n.\\frac{2\\pi}{T}}\\right)^{t=\\frac{\\tau}{2}=\\frac{\\delta.T}{2}}_{t=-\\frac{\\tau}{2}=-\\frac{\\delta.T}{2}}$\n",
    "\n",
    "$\\displaystyle C_n = A.\\delta.\\frac{e^{-j.n.\\frac{2\\pi}{T}.\\frac{\\delta.T}{2}}-e^{-j.n.\\frac{2\\pi}{T}.(\\frac{-\\delta.T}{2})}}{-j.n.2\\pi.\\delta}$\n",
    "\n",
    "$\\displaystyle C_n = A.\\delta.\\frac{e^{j.n.\\pi.\\delta}-e^{-j.n.\\pi.\\delta}}{j.n.2\\pi.\\delta}$\n",
    "\n",
    "Considerando que:\n",
    "\n",
    "$\\displaystyle \\sin(x) = \\frac{e^{j.x}-e^{-j.x}}{2j}$\n",
    "\n",
    "Se puede reemplazar tal que:\n",
    "\n",
    "$\\displaystyle C_n = A.\\delta.\\frac{\\sin(n.\\pi.\\delta)}{n.\\pi.\\delta}$\n",
    "\n",
    "Considerando que:\n",
    "\n",
    "$\\displaystyle sinc(x) = \\frac{\\sin(x)}{x}$\n",
    "\n",
    "Finalmente, se puede reemplazar tal que:\n",
    "\n",
    "$\\displaystyle C_n = A.\\delta.sinc(n.\\pi.\\delta)$\n",
    "\n",
    "$\\displaystyle C_0 = \\frac{1}{T} . \\int_{\\frac{\\tau}{2}}^{\\frac{\\tau}{2}} A.dt = A.\\frac{1}{T} . (t)_{\\frac{\\tau}{2}}^{\\frac{\\tau}{2}} = \\frac{A}{T}.\\left(\\frac{\\delta.T}{2}-\\left(\\frac{-\\delta.T}{2}\\right)\\right) = \\frac{A}{T}.\\delta.T = A.\\delta$\n"
   ]
  },
  {
   "attachments": {},
   "cell_type": "markdown",
   "metadata": {},
   "source": [
    "## a)\n",
    "\n",
    "Calculando los coeficientes para los diferentes casos:\n",
    "\n",
    "![Tabla_coeficientes](img/ej4_tabla_coeficientes.JPG)\n",
    "\n",
    "Siendo el trazo en azul una guía de la forma de onda aproximada y el trazo en negro los componentes de la transformada de Fourier de las diferentes funciones, se graficó cada caso:\n",
    "\n",
    "### A1\n",
    "![Grafico_A1](img/ej4_a_1.JPG)\n",
    "\n",
    "### A2\n",
    "![Grafico_A2](img/ej4_a_2.JPG)\n",
    "\n",
    "### A3\n",
    "![Grafico_A3](img/ej4_a_3.JPG)\n",
    "\n",
    "### A4\n",
    "![Grafico_A4](img/ej4_a_4.JPG)"
   ]
  },
  {
   "attachments": {},
   "cell_type": "markdown",
   "metadata": {},
   "source": [
    "## b)\n",
    "\n",
    "### I.\n",
    "Para el caso en el que:\n",
    "\n",
    "$T \\to \\infty$\n",
    "\n",
    "$t = cte$\n",
    "\n",
    "$A = cte$\n",
    "\n",
    "El periodo tiende a infinito, la duración y la amplitud son constantes. En este caso, es un único escalon de duración $t$ y amplitud $A$.\n",
    "\n",
    "Su transformada de Fourier se corresponde con la función sync.\n",
    "\n",
    "### II.\n",
    "Para el caso en el que:\n",
    "\n",
    "$T = cte$\n",
    "\n",
    "$t \\to 0$\n",
    "\n",
    "$A = cte$\n",
    "\n",
    "El periodo y la amplitud son constantes y la duración tiende a cero. En este caso, sería un tren de deltas de amplitud $A$ distanciadas entre sí por un periodo $T$.\n",
    "\n",
    "### III.\n",
    "Para el caso en el que:\n",
    "\n",
    "$T = cte$\n",
    "\n",
    "$t \\to 0$\n",
    "\n",
    "$A \\to \\infty$ de manera que $A*t=cte$\n",
    "\n",
    "El periodo se mantiene constante y la amplitud tiende a infinito conforme la duración tiende a cero. En este caso también se trata de un tren de deltas distanciadas entre sí por un periodo $T$, pero a diferencia del caso anterior, la amplitud de cada delta tiende a infinito, de manera que la potencia en este tren de deltas se mantendrá constante mientras que en el caso anterior la potencia se reducía conforme la duración $t$ tendía a cero."
   ]
  },
  {
   "attachments": {},
   "cell_type": "markdown",
   "metadata": {},
   "source": [
    "## c)\n",
    "\n",
    "Calculamos la potencia normalizada total de la señal en el dominio temporal como:\n",
    "\n",
    "$\\displaystyle P = \\langle x_{(t)}^2 \\rangle = \\frac{1}{T} . \\int_{0}^{T} |x(t)|^2 .dt$\n",
    "\n",
    "$\\displaystyle P = \\frac{1}{T} . \\left(\\int_{0}^{t} A^2 .dt + \\int_{t}^{T} 0 .dt \\right)$\n",
    "\n",
    "$\\displaystyle P = \\frac{1}{T} . (A^2 . (t-0))$\n",
    "\n",
    "$\\displaystyle P = \\frac{A^2.t}{T}$\n",
    "\n",
    "$\\displaystyle P = \\frac{1^2.10.10^{-3}}{50.10^{-3}} = \\frac{1}{5} = 0.2$\n",
    "\n",
    "En el dominio de la frecuencia, podemos calcular la potencia como la integral de la densidad espectral de potencia (PSD). Se puede averiguar la PSD a partir de la transformada de fourier de la función autocorrelación de la señal.\n",
    "\n"
   ]
  }
 ],
 "metadata": {
  "kernelspec": {
   "display_name": "Python 3",
   "language": "python",
   "name": "python3"
  },
  "language_info": {
   "codemirror_mode": {
    "name": "ipython",
    "version": 3
   },
   "file_extension": ".py",
   "mimetype": "text/x-python",
   "name": "python",
   "nbconvert_exporter": "python",
   "pygments_lexer": "ipython3",
   "version": "3.10.6"
  },
  "orig_nbformat": 4
 },
 "nbformat": 4,
 "nbformat_minor": 2
}
