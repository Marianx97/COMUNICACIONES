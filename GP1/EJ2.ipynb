{
 "cells": [
  {
   "attachments": {},
   "cell_type": "markdown",
   "metadata": {},
   "source": [
    "# Ejercicio 2\n",
    "\n",
    "![Consigna](img/ej2_consigna.JPG)\n",
    "\n",
    "## a)\n",
    "\n",
    "Si $(S/R)_I = (S/R)_{II}$\n",
    "\n",
    "$(S/R)_I = -60dB \\to Ruido = 1nW$\n",
    "\n",
    "$(S/R)_{out} = (S/R)_I + (S/R)_{II} = 2nW \\approx -56,99dBm$\n",
    "\n",
    "## b)\n",
    "\n",
    "Si $(S/R)_{II}=-30dB \\to Ruido = 1{\\mu}W$\n",
    "\n",
    "$(S/R)_{out} = (S/R)_I + (S/R)_{II} = 1,001{\\mu}W \\approx -29,99dBm$"
   ]
  }
 ],
 "metadata": {
  "language_info": {
   "name": "python"
  },
  "orig_nbformat": 4
 },
 "nbformat": 4,
 "nbformat_minor": 2
}
