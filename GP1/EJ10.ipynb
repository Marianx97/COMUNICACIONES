{
 "cells": [
  {
   "cell_type": "markdown",
   "metadata": {},
   "source": [
    "# Ejercicio 10\n",
    "\n",
    "![Consigna_10](img/ej10_consigna.JPG)"
   ]
  },
  {
   "cell_type": "markdown",
   "metadata": {},
   "source": [
    "## c)\n",
    "\n",
    "Oscilando por debajo de $f_s$: $f_c = f_s - f_i$\n",
    "\n",
    "- $f_{cs} = f_{ss} - f_i = 108MHz - 10,7MHz = 97,3MHz$\n",
    "- $f_{ci} = f_{si} - f_i = 88MHz - 10,7MHz = 77,3MHz$\n",
    "\n",
    "Oscilando por encima de $f_s$: $f_c = f_s + f_i$\n",
    "\n",
    "- $f_{cs} = f_{ss} + f_i = 108MHz + 10,7MHz = 118,7MHz$\n",
    "- $f_{ci} = f_{si} + f_i = 88MHz + 10,7MHz = 98,7MHz$"
   ]
  },
  {
   "cell_type": "markdown",
   "metadata": {},
   "source": [
    "## d)\n",
    "\n",
    "Oscilando por debajo, las frecuencias imagen son:\n",
    "\n",
    "- $f_{ii} = f_{si} - 2.f_i = 88MHz - 2.10,7MHz = 66,6MHz$\n",
    "- $f_{is} = f_{ss} - 2.f_i = 108MHz - 2.10,7MHz = 86,6MHz$\n",
    "\n",
    "Oscilando por encima, las frecuencias imagen son:\n",
    "\n",
    "- $f_{ii} = f_{si} + 2.f_i = 88MHz + 2.10,7MHz = 109,4MHz$\n",
    "- $f_{is} = f_{ss} + 2.f_i = 108MHz + 2.10,7MHz = 129,4MHz$"
   ]
  },
  {
   "cell_type": "markdown",
   "metadata": {},
   "source": [
    "## a)\n",
    "\n",
    "Filtro RF\n",
    "\n",
    "Dado que $f_{is} < f_{si}$, el filtro de RF puede ser un filtro pasa banda entre $f_{si} = 88MHz$ y $f_{ss} = 108MHz$ o un pasa altos con $f_c = 88MHz$.\n",
    "\n",
    "Eligiendo un filtro pasa banda como el del gráfico para seleccionar únicamente el rango de frecuencias deseadas únicamente dejando pasar la banda lateral inferior de $f_{si}$ y la banda lateral superior de $f_{ss}$. Así, las frecuencias imágenes comprendidas entre $66,6MHz < f_i < 86,6MHz$ son completamente eliminadas sin tener que ligar la banda de paso del filtro al oscilador sintonizando $f_c$.\n",
    "\n",
    "![Gráfico_a](img/ej10_a.JPG)"
   ]
  },
  {
   "cell_type": "markdown",
   "metadata": {},
   "source": [
    "## b)\n",
    "\n",
    "Filtro FI\n",
    "\n",
    "Debe encargarse de la selectividad del sistema teniendo una banda de paso de $200KHz$ centrado en $f_i = 10,7MHz$\n",
    "\n",
    "![Gráfico_b](img/ej10_b.JPG)"
   ]
  },
  {
   "cell_type": "markdown",
   "metadata": {},
   "source": [
    "## e)\n",
    "\n",
    "Si $f_s = 102,3MHz$ las frecuencias del oscilador pueden ser:\n",
    "\n",
    "- $f_c = 102,3MHz - 10,7MHz = 91,6MHz$ con una frecuencia imagen de $80,9MHz$\n",
    "- $f_c = 102,3MHz + 10,7MHz = 113MHz$ con una frecuencia imagen de $123MHz$\n"
   ]
  }
 ],
 "metadata": {
  "language_info": {
   "name": "python"
  },
  "orig_nbformat": 4
 },
 "nbformat": 4,
 "nbformat_minor": 2
}
