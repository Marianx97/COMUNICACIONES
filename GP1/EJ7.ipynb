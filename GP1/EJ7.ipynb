{
 "cells": [
  {
   "attachments": {},
   "cell_type": "markdown",
   "metadata": {},
   "source": [
    "# Ejercicio 7\n",
    "\n",
    "![Consigna](img/ej7_consigna.JPG)\n",
    "\n",
    "Sea la función:\n",
    "\n",
    "$z(t) = 1+\\cos(\\frac{\\pi}{T_0}.t)$\n",
    "\n",
    "Se puede expresar la función $v(t)$ utilizando la serie de Fourier en formato exponencial como:\n",
    "\n",
    "$v(t) = \\displaystyle\\sum_{n=\\infty}^{n=-\\infty} C_n . e^{j.n.\\omega_0.t}$\n",
    "\n",
    "donde:\n",
    "\n",
    "$\\displaystyle C_n = \\frac{1}{T_0} . \\int_{-\\frac{T_0}{2}}^{\\frac{T_0}{2}} z(t).e^{-j.n.\\omega_0.t}.dt$\n",
    "\n",
    "$\\displaystyle C_n = \\frac{1}{T_0} . \\int_{-\\frac{T_0}{2}}^{\\frac{T_0}{2}} (1+\\cos(\\frac{\\pi}{T_0}.t)).e^{-j.n.\\omega_0.t}.dt$\n",
    "\n",
    "$\\displaystyle C_n = \\frac{1}{T_0} . (\\int_{-\\frac{T_0}{2}}^{\\frac{T_0}{2}} e^{-j.n.\\omega_0.t}.dt + \\int_{\\frac{T_0}{2}}^{-\\frac{T_0}{2}} \\cos(\\frac{\\pi}{T_0}.t).e^{-j.n.\\omega_0.t}.dt)$\n",
    "\n",
    "Reemplazando el coseno por su expresión de Euler:\n",
    "\n",
    "$\\displaystyle \\cos(\\frac{\\pi}{T_0}.t) = \\frac{e^{j.\\frac{\\pi}{T_0}.t}+e^{-j.\\frac{\\pi}{T_0}.t}}{2}$\n",
    "\n",
    "La expresión de $C_n$ queda:\n",
    "\n",
    "$\\displaystyle C_n = \\frac{1}{T_0} . (\\int_{-\\frac{T_0}{2}}^{\\frac{T_0}{2}} e^{-j.n.\\omega_0.t}.dt + \\int_{\\frac{T_0}{2}}^{-\\frac{T_0}{2}} (\\frac{e^{j.\\frac{\\pi}{T_0}.t}+e^{-j.\\frac{\\pi}{T_0}.t}}{2}).e^{-j.n.\\omega_0.t}.dt)$\n",
    "\n",
    "$\\displaystyle C_n = \\frac{1}{T_0} . (\\int_{-\\frac{T_0}{2}}^{\\frac{T_0}{2}} e^{-j.n.\\omega_0.t}.dt + \\frac{1}{2}. \\int_{\\frac{T_0}{2}}^{-\\frac{T_0}{2}} (e^{j.\\frac{\\pi}{T_0}.t}+e^{-j.\\frac{\\pi}{T_0}.t}).e^{-j.n.\\omega_0.t}.dt)$\n",
    "\n",
    "$\\displaystyle C_n = \\frac{1}{T_0} . (\\int_{-\\frac{T_0}{2}}^{\\frac{T_0}{2}} e^{-j.n.\\omega_0.t}.dt + \\frac{1}{2}. (\\int_{\\frac{T_0}{2}}^{-\\frac{T_0}{2}} e^{j.\\frac{\\pi}{T_0}.t}.e^{-j.n.\\omega_0.t}.dt + \\int_{\\frac{T_0}{2}}^{-\\frac{T_0}{2}}e^{-j.\\frac{\\pi}{T_0}.t}.e^{-j.n.\\omega_0.t}.dt))$\n",
    "\n",
    "$\\displaystyle C_n = \\frac{1}{T_0} . (\\int_{-\\frac{T_0}{2}}^{\\frac{T_0}{2}} e^{-j.n.\\omega_0.t}.dt + \\frac{1}{2}. (\\int_{\\frac{T_0}{2}}^{-\\frac{T_0}{2}} e^{-j.(n.\\omega_0-\\frac{\\pi}{T_0}).t}.dt + \\int_{\\frac{T_0}{2}}^{-\\frac{T_0}{2}}e^{-j.(\\frac{\\pi}{T_0}+n.\\omega_0).t}.dt))$\n",
    "\n",
    "Resolviendo la integral de forma genérica, se puede expresar que:\n",
    "\n",
    "$\\int_{\\frac{T_0}{2}}^{-\\frac{T_0}{2}}e^{-a.t}.dt = \\frac{e^{\\frac{a.T_0}{2}}-e^{-\\frac{a.T_0}{2}}}{a}$\n",
    "\n",
    "$\\displaystyle C_n = (-j) . \\frac{1}{T_0} . (\\frac{e^{\\frac{j.n.\\omega_0.T_0}{2}}-e^{-\\frac{j.n.\\omega_0.T_0}{2}}}{n.\\omega_0}+\\frac{1}{2}.(\\frac{e^{\\frac{j.(n.\\omega_0-\\frac{\\pi}{T_0}).T_0}{2}}-e^{-\\frac{j.(n.\\omega_0-\\frac{\\pi}{T_0}).T_0}{2}}}{(n.\\omega_0-\\frac{\\pi}{T_0})}+\\frac{e^{\\frac{j.(n.\\omega_0+\\frac{\\pi}{T_0}).T_0}{2}}-e^{-\\frac{j.(n.\\omega_0+\\frac{\\pi}{T_0}).T_0}{2}}}{(n.\\omega_0+\\frac{\\pi}{T_0})}))$\n",
    "\n",
    "Finalmente, la función $v(t)$ queda:\n",
    "\n",
    "$\\displaystyle v(t) = \\sum_{n=\\infty}^{n=-\\infty} (-j) . \\frac{1}{T_0} . (\\frac{e^{\\frac{j.n.\\omega_0.T_0}{2}}-e^{-\\frac{j.n.\\omega_0.T_0}{2}}}{n.\\omega_0}+\\frac{1}{2}.(\\frac{e^{\\frac{j.(n.\\omega_0-\\frac{\\pi}{T_0}).T_0}{2}}-e^{-\\frac{j.(n.\\omega_0-\\frac{\\pi}{T_0}).T_0}{2}}}{(n.\\omega_0-\\frac{\\pi}{T_0})}+\\frac{e^{\\frac{j.(n.\\omega_0+\\frac{\\pi}{T_0}).T_0}{2}}-e^{-\\frac{j.(n.\\omega_0+\\frac{\\pi}{T_0}).T_0}{2}}}{(n.\\omega_0+\\frac{\\pi}{T_0})})) . e^{j.n.\\omega_0.t}$\n"
   ]
  }
 ],
 "metadata": {
  "kernelspec": {
   "display_name": "Python 3",
   "language": "python",
   "name": "python3"
  },
  "language_info": {
   "codemirror_mode": {
    "name": "ipython",
    "version": 3
   },
   "file_extension": ".py",
   "mimetype": "text/x-python",
   "name": "python",
   "nbconvert_exporter": "python",
   "pygments_lexer": "ipython3",
   "version": "3.10.6"
  },
  "orig_nbformat": 4
 },
 "nbformat": 4,
 "nbformat_minor": 2
}
