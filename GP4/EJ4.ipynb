{
 "cells": [
  {
   "cell_type": "markdown",
   "metadata": {},
   "source": [
    "# Ejercicio 4\n",
    "\n",
    "![consigna](img/ej4_consigna.JPG)"
   ]
  },
  {
   "cell_type": "markdown",
   "metadata": {},
   "source": [
    "## a)\n",
    "\n",
    "Cantidad de bits por trama:\n",
    "\n",
    "$193$ bits $= 24$ canales . $8$ bits $+ 1 $ bit (alineación)\n",
    "\n",
    "$\\displaystyle $\n",
    "$\\displaystyle $\n",
    "$\\displaystyle $\n",
    "$\\displaystyle $\n",
    "$\\displaystyle $"
   ]
  },
  {
   "cell_type": "markdown",
   "metadata": {},
   "source": [
    "## b)\n",
    "\n",
    "La frecuencia de muestreo es de $8KHz$, por lo cual la duración de la trama sería:\n",
    "\n",
    "$\\displaystyle T= \\frac{1}{8KHz} = 125{\\mu}S$\n"
   ]
  },
  {
   "cell_type": "markdown",
   "metadata": {},
   "source": [
    "## c)\n",
    "\n",
    "Tasa de información de la trama T1:\n",
    "\n",
    "$\\displaystyle T_{I_T} = \\frac{193bits}{125{\\mu}S} = 1544Kbps$\n"
   ]
  },
  {
   "cell_type": "markdown",
   "metadata": {},
   "source": [
    "## d)\n",
    "\n",
    "La tasa de información de cada uno de los 24 canales:\n",
    "\n",
    "$\\displaystyle T_{I_{CC}} = \\frac{T_{I_T}}{24} = 64,33 Kbps$\n"
   ]
  },
  {
   "cell_type": "markdown",
   "metadata": {},
   "source": [
    "## e)\n",
    "\n",
    "Tasa de información de señalización de cada uno de los 24 canales. Se envía un bit de señalización cada 6 tramas. En cada canal:\n",
    "\n",
    "$\\displaystyle T_{I_S} = \\frac{1bit}{6.125{\\mu}S} = 1333 bps$"
   ]
  },
  {
   "cell_type": "markdown",
   "metadata": {},
   "source": [
    "## f)\n",
    "\n",
    "Ancho de banda mínimo para transmitir una señal:\n",
    "\n",
    "$\\displaystyle B_T = \\frac{R}{2} = \\frac{1544Kbps}{2} = 722KHz$\n"
   ]
  },
  {
   "cell_type": "markdown",
   "metadata": {},
   "source": [
    "## g)\n",
    "\n",
    "Considerando ahora un sistema PCM-E1 (30 canales):\n",
    "\n",
    "### a) Cantidad de bits por trama:\n",
    "\n",
    "Bits por trama: ($30$ líneas + $2$ de sincronización y señalización)$.8$ bits\n",
    "\n",
    "$\\displaystyle {Bits}_{trama} = 256bits$\n",
    "\n",
    "### b) Duración de la trama:\n",
    "\n",
    "$\\displaystyle T=\\frac{1}{8KHz} = 125{\\mu}S$\n",
    "\n",
    "### c) Tasa de información total expresada en bps\n",
    "\n",
    "$\\displaystyle  T_{I_T} = \\frac{256bits}{125{\\mu}S} = 2048Kbps$\n",
    "\n",
    "### d) Tasa de información de cada uno de los canales\n",
    "\n",
    "$\\displaystyle T_{I_C} = \\frac{T_{I_T}}{32} = \\frac{2048Kbps}{32} = 64Kbps$\n",
    "\n",
    "### e) Tasa de señalización\n",
    "\n",
    "Son $4$ bits de señalización cada $16$ tramas por canal.\n",
    "\n",
    "$\\displaystyle T_{I_S} = \\frac{4bits/trama}{16tramas.125{\\mu}S} = 2000bps$\n",
    "\n",
    "### f) Ancho de banda mínimo\n",
    "\n",
    "$\\displaystyle B_T = \\frac{2048}{2} = 1024KHz$\n"
   ]
  }
 ],
 "metadata": {
  "language_info": {
   "name": "python"
  }
 },
 "nbformat": 4,
 "nbformat_minor": 2
}
