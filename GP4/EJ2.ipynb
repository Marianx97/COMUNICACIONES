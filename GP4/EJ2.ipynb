{
 "cells": [
  {
   "cell_type": "markdown",
   "metadata": {},
   "source": [
    "# Ejercicio 2\n",
    "\n",
    "![consigna](img/ej2_consigna.JPG)\n"
   ]
  },
  {
   "cell_type": "markdown",
   "metadata": {},
   "source": [
    "## a)\n",
    "\n",
    "![espectro_a](img/ej2_diagrama_a.JPG)"
   ]
  },
  {
   "cell_type": "markdown",
   "metadata": {},
   "source": [
    "## b)\n",
    "\n",
    "![espectro_b](img/ej2_diagrama_b.JPG)"
   ]
  },
  {
   "cell_type": "markdown",
   "metadata": {},
   "source": [
    "## c)\n",
    "\n",
    "![espectro_c](img/ej2_diagrama_c.JPG)"
   ]
  },
  {
   "cell_type": "markdown",
   "metadata": {},
   "source": [
    "## d)\n",
    "\n",
    "* En el caso a) ocurre que $f_s < 2.B$, por lo tanto no cumple con Nyquist y habrá **aliasing**, entonces la señal no es recuperable.\n",
    "* En el caso b) se cumple que $f_s = 2.B$, por lo tanto, la señal es recuperable utilizando un filtro pasabajos de tipo \"Brick Wall\". Sin embargo, como este es un filtro ideal, no es realizable. Incluso en el filtro más cercano al \"Brick Wall\" se producirá un poco de **aliasing**.\n",
    "* En el caso c) se cumple que $f_s > 2.B$, por lo tanto, la señal es recuperable utilizando un filtro pasabajos que tenga un roll off realizable."
   ]
  },
  {
   "cell_type": "markdown",
   "metadata": {},
   "source": [
    "## e)\n",
    "\n",
    "Si se envía la señal a salida del multiplicador por un medio que tiene un delay de $1{\\mu}s$ uniforme para todo el espectro no es necesario modificar $f_s$ justamente porque el delay es **uniforme**. El espectro no se verá afectado en amplitud, aunque sí se verá afectado en fase, sin embargo, como el delay es uniforme, la fase se verá afectada linealmente y no se producirán distorciones."
   ]
  }
 ],
 "metadata": {
  "kernelspec": {
   "display_name": "Python 3",
   "language": "python",
   "name": "python3"
  },
  "language_info": {
   "codemirror_mode": {
    "name": "ipython",
    "version": 3
   },
   "file_extension": ".py",
   "mimetype": "text/x-python",
   "name": "python",
   "nbconvert_exporter": "python",
   "pygments_lexer": "ipython3",
   "version": "3.10.6"
  },
  "orig_nbformat": 4
 },
 "nbformat": 4,
 "nbformat_minor": 2
}
