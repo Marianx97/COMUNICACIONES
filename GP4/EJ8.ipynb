{
 "cells": [
  {
   "cell_type": "markdown",
   "metadata": {},
   "source": [
    "# Ejercicio 8\n",
    "\n",
    "![consigna](img/ej8_consigna.JPG)\n",
    "\n",
    "![tabla](img/ej8_tabla.JPG)\n"
   ]
  }
 ],
 "metadata": {
  "language_info": {
   "name": "python"
  }
 },
 "nbformat": 4,
 "nbformat_minor": 2
}
