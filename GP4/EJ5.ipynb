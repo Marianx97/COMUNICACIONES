{
 "cells": [
  {
   "cell_type": "markdown",
   "metadata": {},
   "source": [
    "# Ejercicio 5\n",
    "\n",
    "![consigna](img/ej5_consigna.jpg)"
   ]
  },
  {
   "cell_type": "markdown",
   "metadata": {},
   "source": [
    "## a)\n",
    "\n",
    "![diagrama_a](img/ej5_diagrama_a.JPG)\n",
    "\n",
    "$\\displaystyle {{B_T}_{min}|}_{NRZ} = \\frac{f_{sT}}{2} = \\frac{168KHz}{2} = 84KHz$"
   ]
  },
  {
   "cell_type": "markdown",
   "metadata": {},
   "source": [
    "## b)\n",
    "\n",
    "Si se cuantifica en $7 bits$:\n",
    "\n",
    "$\\displaystyle M=2^n=2^7=128 niveles$\n",
    "\n",
    "$\\displaystyle R=n.f_{sT}=7 bits . 168KHz = 1176 \\frac{Kbits}{s}$\n",
    "\n",
    "Por el teorema de la dimensionalidad, el ancho de banda mínimo es:\n",
    "\n",
    "$\\displaystyle B_{min} = \\frac{R}{2} = \\frac{1176\\frac{Kbits}{s}}{2} = 588\\frac{Kbits}{s}$"
   ]
  },
  {
   "cell_type": "markdown",
   "metadata": {},
   "source": [
    "## c)\n",
    "\n",
    "Considerando que se transmite con una señal digital con $M = 16$ niveles polar NRZ, entonces:\n",
    "\n",
    "$\\displaystyle l = 4$\n",
    "\n",
    "$\\displaystyle R = 168K\\frac{muestras}{s}$\n",
    "\n",
    "$\\displaystyle D=\\frac{R}{l}=42Kbauds$\n",
    "\n",
    "$\\displaystyle B_{min} = \\frac{D}{2} = 21KHz$"
   ]
  },
  {
   "cell_type": "markdown",
   "metadata": {},
   "source": [
    "## d)\n",
    "\n",
    "Diagrama del conmutador:\n",
    "\n",
    "![diagrama_d](img/ej5_diagrama_dJPG.JPG)\n",
    "\n",
    "$f_{sT} = 48KHz$\n",
    "\n",
    "### a)\n",
    "\n",
    "$\\displaystyle B_{min} = \\frac{f_{sT}}{2} = \\frac{48KHz}{2} = 24KHz$\n",
    "\n",
    "### b)\n",
    "\n",
    "Si se cuantifica en $7 bits$:\n",
    "\n",
    "$\\displaystyle M=2^n=2^7=128 niveles$\n",
    "\n",
    "$\\displaystyle R=n.f_{sT}=7 bits . 48KHz = 336 \\frac{Kbits}{s}$\n",
    "\n",
    "Por el teorema de la dimensionalidad, el ancho de banda mínimo es:\n",
    "\n",
    "$\\displaystyle B_{min} = \\frac{R}{2} = \\frac{336\\frac{Kbits}{s}}{2} = 168\\frac{Kbits}{s}$\n",
    "\n",
    "### c)\n",
    "\n",
    "Considerando que se transmite con una señal digital con $M = 16$ niveles polar NRZ, entonces:\n",
    "\n",
    "$\\displaystyle l = 4$\n",
    "\n",
    "$\\displaystyle R = 336K\\frac{muestras}{s}$\n",
    "\n",
    "$\\displaystyle D=\\frac{R}{l}=84Kbauds$\n",
    "\n",
    "$\\displaystyle B_{min} = \\frac{D}{2} = 42KHz$\n"
   ]
  },
  {
   "cell_type": "markdown",
   "metadata": {},
   "source": [
    "## d)\n",
    "\n",
    "Suponiendo que se utiliza un multiplex en frecuencia, el ancho de banda se calcula como:\n",
    "\n",
    "$\\displaystyle B_{min} = \\frac{N+1}{N.T_s} = \\frac{N+1}{N}.f_s = \\frac{7+1}{7}.24KHz = 27,43KHz$"
   ]
  },
  {
   "cell_type": "markdown",
   "metadata": {},
   "source": [
    "## e)\n",
    "\n",
    "Diagrama del sistema FDM:\n",
    "\n",
    "![diagrama_e](img/ej5_diagrama_e.JPG)"
   ]
  }
 ],
 "metadata": {
  "language_info": {
   "name": "python"
  },
  "orig_nbformat": 4
 },
 "nbformat": 4,
 "nbformat_minor": 2
}
