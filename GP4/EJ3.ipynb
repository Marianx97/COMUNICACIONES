{
 "cells": [
  {
   "cell_type": "markdown",
   "metadata": {},
   "source": [
    "# Ejercicio 3\n",
    "\n",
    "![consigna](img/ej3_consigna.JPG)\n"
   ]
  },
  {
   "cell_type": "markdown",
   "metadata": {},
   "source": [
    "## a)\n",
    "\n",
    "![ej3_a](img/ej3_a.JPG)\n",
    "\n",
    "$8$ niveles $\\to M=2^n \\to n = 3$ bits\n",
    "\n",
    "La frecuencia de muestreo:\n",
    "\n",
    "$f_s \\geq 2.f_c \\to f_s \\geq 2.500Hz \\to f_s \\geq 1KHz$"
   ]
  },
  {
   "cell_type": "markdown",
   "metadata": {},
   "source": [
    "## b)\n",
    "\n",
    "Para calcular la cantidad de bits mínima tal que el error de cuantificación sea menor que el $1,2%$ de la señal pico.\n",
    "\n",
    "Siendo el valor pico:\n",
    "\n",
    "$\\displaystyle V_p =1V$\n",
    "\n",
    "Entonces:\n",
    "\n",
    "$\\displaystyle \\varepsilon_q < 1V . 0,012 \\to \\varepsilon_q < 12mV$\n",
    "\n",
    "Cada nivel abarca $24mV$, cometiendo un ${\\varepsilon_q}_{max}$ de $12mV$\n",
    "\n",
    "La cantidad de niveles se obtiene como:\n",
    "\n",
    "$\\displaystyle \\varepsilon < \\frac{V_{pp}}{M}.\\frac{1}{2} \\to M >\\frac{V_{pp}}{\\varepsilon}.\\frac{1}{2} = \\frac{2V}{12x10^{-3}V}.\\frac{1}{2}$\n",
    "\n",
    "$\\displaystyle M > 100$\n",
    "\n",
    "Dado que $M = 2^n$ entonces, para $n=7 \\to M=128$\n",
    "\n",
    "Finalmente, con $M=128 \\to \\varepsilon =7,81mV$"
   ]
  },
  {
   "cell_type": "markdown",
   "metadata": {},
   "source": [
    "## c)\n",
    "\n",
    "Para el caso **a**:\n",
    "\n",
    "$\\displaystyle \\varepsilon_q = \\frac{V_{pp}}{M} . \\frac{1}{2} = \\frac{2V}{8} . \\frac{1}{2} = 125mV$\n",
    "\n",
    "$\\displaystyle N_q = \\frac{({\\Delta}V)^2}{12} = \\frac{(0,28V)^2}{12} = 6,53mW$\n",
    "\n",
    "$\\displaystyle {B_T}_{min} = 2.f_c.n = 500Hz.2.3=3KHz$\n",
    "\n",
    "Para el caso **b**:\n",
    "\n",
    "$\\displaystyle \\varepsilon_q = \\frac{V_{pp}}{M} . \\frac{1}{2} = \\frac{2V}{128} . \\frac{1}{2} = 7,81mV$\n",
    "\n",
    "$\\displaystyle N_q = \\frac{({\\Delta}V)^2}{12} = \\frac{(15x10^{-3}V)^2}{12} = 20,34{\\mu}W$\n",
    "\n",
    "Dado que la señalización es binaria unipolar: $D=R$\n",
    "\n",
    "$\\displaystyle D=R=f_c.2.n=500Hz.2.7=7KHz$\n",
    "\n",
    "$\\displaystyle {B_T}_{min} = \\frac{R}{2} = 350bps$\n"
   ]
  },
  {
   "cell_type": "markdown",
   "metadata": {},
   "source": [
    "## d)\n",
    "\n",
    "$\\displaystyle \\frac{R}{2.l} = \\frac{D}{2} = 1KHz$\n",
    "\n",
    "Donde $l$ es la cantidad de niveles.\n",
    "\n",
    "$\\displaystyle l = \\frac{R}{2.1KHz} = \\frac{7KHz}{2.1KHz} = 3,5$\n",
    "\n",
    "Por lo tanto $l=4 \\to M=2^l=16$ niveles.\n"
   ]
  },
  {
   "cell_type": "markdown",
   "metadata": {},
   "source": [
    "## e)\n",
    "\n",
    "Corresponden los mismos valores calculados en **c** ya que los niveles de cuantificación no cambiaron, sino que cambió la codificación para enviar los datos."
   ]
  }
 ],
 "metadata": {
  "language_info": {
   "name": "python"
  }
 },
 "nbformat": 4,
 "nbformat_minor": 2
}
