{
 "cells": [
  {
   "cell_type": "markdown",
   "metadata": {},
   "source": [
    "# Ejercicio 6\n",
    "\n",
    "![consigna](img/ej6_consigna.JPG)"
   ]
  },
  {
   "cell_type": "markdown",
   "metadata": {},
   "source": [
    "## a)\n",
    "\n",
    "- $\\displaystyle m_1 = 200Hz$\n",
    "- $\\displaystyle m_2 = 200Hz$\n",
    "- $\\displaystyle m_3 = 200Hz$\n",
    "- $\\displaystyle m_4 = 200Hz$\n",
    "- $\\displaystyle m_5 = 400Hz$\n",
    "- $\\displaystyle m_6 = 400Hz$\n",
    "- $\\displaystyle m_7 = 800Hz$\n",
    "\n",
    "![ej6_a_tx](img/ej6_a_tx.JPG)\n",
    "\n",
    "![ej6_a_rx](img/ej6_a_rx.JPG)\n"
   ]
  },
  {
   "cell_type": "markdown",
   "metadata": {},
   "source": [
    "## b)\n",
    "\n",
    "El ancho de banda mínimo se calcula como:\n",
    "\n",
    "$\\displaystyle {BW}_{min} = \\frac{R}{2} = 2400Hz$"
   ]
  },
  {
   "cell_type": "markdown",
   "metadata": {},
   "source": [
    "## c)\n",
    "\n",
    "Se cuantifica en 64 niveles con rango dinámico $\\pm 1V$.\n",
    "\n",
    "El error de cuantificación máximo se calcula como:\n",
    "\n",
    "$\\displaystyle LSB = \\frac{+V-(-V)}{n} = \\frac{1V-(-1V)}{64} = \\frac{2V}{64} = \\frac{1V}{32} = 31,25mV$\n",
    "\n",
    "$\\displaystyle e = \\pm\\frac{LSB}{2} = 15,625mV$\n",
    "\n",
    "La relación señal a ruido de cuantificación para un comportamiento estadístico uniforme se calcula como:\n",
    "\n",
    "$\\displaystyle SNR = M^2 = 64^2 = 4096 = 36,12dB$"
   ]
  },
  {
   "cell_type": "markdown",
   "metadata": {},
   "source": [
    "## d)\n",
    "\n",
    "Si $R_a=4800bps$ y $n=6bits$ entonces $R_{PCM}=n.R_a=28800bps$, entonces:\n",
    "\n",
    "$\\displaystyle 31200bps - 28800bps = 2400bps \\to \\frac{2400bps}{n} = {400bps}_{PAM}$\n",
    "\n",
    "La señal de sincronización tiene frecuencia de $200Hz$\n",
    "\n",
    "![ej6_d](img/ej6_d.JPG)"
   ]
  }
 ],
 "metadata": {
  "language_info": {
   "name": "python"
  }
 },
 "nbformat": 4,
 "nbformat_minor": 2
}
