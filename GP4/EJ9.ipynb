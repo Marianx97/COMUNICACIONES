{
 "cells": [
  {
   "cell_type": "markdown",
   "metadata": {},
   "source": [
    "# Ejercicio 9\n",
    "\n",
    "![consigna](img/ej9_consigna.JPG)\n",
    "\n",
    "Sabiendo que:\n",
    "\n",
    "$\\displaystyle R=64Kbits \\to 256KHz = x.R \\to x=4$\n"
   ]
  },
  {
   "cell_type": "markdown",
   "metadata": {},
   "source": [
    "## a) Unipolar NRZ de $4$ Volts de amplitud\n",
    "\n",
    "$\\displaystyle R_b[k] = \n",
    "\\left[\\begin{array}{cc} \n",
    "\\frac{A^2}{2} & k=0\\\\\n",
    "\\frac{A^2}{4} & k\\neq0\n",
    "\\end{array}\\right]$\n",
    "\n",
    "$T=T_b=15,625{\\mu}S$ ^ $A=4V$\n",
    "\n",
    "$\\displaystyle PSD = \\frac{T_b^2.sinc^2(\\pi.f.T_b)}{T_b}.\\left(\\frac{A^2}{2}.e^{j.2\\pi.0.f.T_b}+\\frac{A^2}{4}.\\sum_{k=-\\infty}^{\\infty}e^{j.2\\pi.k.f.T_b}\\right)$\n",
    "\n",
    "$\\displaystyle PSD = T_b.sinc^2(\\pi.f.T_b).\\left(\\frac{A^2}{2}+\\frac{A^2}{4}.\\sum_{k=-\\infty}^{\\infty}e^{j.2\\pi.k.f.T_b}\\right)$\n",
    "\n",
    "$\\displaystyle PSD = T_b.sinc^2(\\pi.f.T_b).\\frac{A^2}{2}+T_b.sinc^2(\\pi.f.T_b).\\frac{A^2}{4}.\\sum_{k=-\\infty}^{\\infty}e^{j.2\\pi.k.f.T_b}$\n",
    "\n",
    "$\\displaystyle PSD = \\frac{T_b.A^2}{2}.sinc^2(\\pi.f.T_b)+\\frac{T_b.A^2}{4}.sinc^2(\\pi.f.T_b).\\sum_{k=-\\infty}^{\\infty}\\delta\\left(f-\\frac{n}{T_b}\\right)$\n",
    "\n",
    "$\\displaystyle PSD = \\frac{T_b.A^2}{2}.sinc^2(\\pi.f.T_b)+\\frac{T_b.A^2}{4}.sinc^2(\\pi.f.T_b).\\delta\\left(f-\\frac{n}{T_b}\\right)$\n",
    "\n",
    "![ej9_a](img/ej9_a.JPG)"
   ]
  },
  {
   "cell_type": "markdown",
   "metadata": {},
   "source": [
    "## b) Polar RZ de $\\pm 2$ Volts de amplitud\n",
    "\n",
    "$\\displaystyle R_b[k] = \n",
    "\\left[\\begin{array}{cc} \n",
    "A^2 & k=0\\\\\n",
    "0 & k\\neq0\n",
    "\\end{array}\\right]$\n",
    "\n",
    "$\\displaystyle T=\\frac{T_b}{2}$ ^ $\\displaystyle A=2V$\n",
    "\n",
    "$\\displaystyle PSD=\\frac{T^2.sinc^2(\\pi.f.T)}{T}.\\sum_{k=-\\infty}^{\\infty}R_b[k].e^{j.2\\pi.f.k.T}$\n",
    "\n",
    "$\\displaystyle PSD = \\frac{T_b.A^2}{2}.sinc^2\\left(\\pi.f.\\frac{T_b}{2}\\right)$\n",
    "\n",
    "![ej9_b](img/ej9_b.JPG)"
   ]
  },
  {
   "cell_type": "markdown",
   "metadata": {},
   "source": [
    "## c) Bipolar NRZ de $\\pm 2$ Volts de amplitud\n",
    "\n",
    "$\\displaystyle R_b[k] = \n",
    "\\left[\\begin{array}{cc} \n",
    "\\frac{A^2}{2} & k=0 \\\\\n",
    "-\\frac{A^2}{4} & |k|<1 \\\\\n",
    "0 & |k|>1 \n",
    "\\end{array}\\right]$\n",
    "\n",
    "$\\displaystyle T=T_b$ ^ $\\displaystyle A=2V$\n",
    "\n",
    "$\\displaystyle PSD = \\frac{T^2.sinc^2(\\pi.f.T)}{T}.\\left(\\frac{A^2}{2}+\\left(-\\frac{A^2}{4}\\right).e^{j.2\\pi.f.T}+\\left(-\\frac{A^2}{4}\\right).e^{-j.2\\pi.f.T}\\right)$\n",
    "\n",
    "$\\displaystyle PSD = T_b.sinc^2(\\pi.f.T_b).\\left(\\frac{A^2}{2}+\\left(-\\frac{A^2}{4}\\right).2.\\left(\\frac{e^{j.2\\pi.f.T_b}+e^{-j.2\\pi.f.T_b}}{2}\\right)\\right)$\n",
    "\n",
    "$\\displaystyle PSD = \\frac{T_b.A^2}{2}.sinc^2(\\pi.f.T_b).\\left(1-\\left(\\frac{e^{j.2\\pi.f.T_b}+e^{-j.2\\pi.f.T_b}}{2}\\right)\\right)$\n",
    "\n",
    "$\\displaystyle PSD = \\frac{T_b.A^2}{2}.sinc^2(\\pi.f.T_b).\\left(1-\\cos{(2\\pi.f.T_b)}\\right)$\n",
    "\n",
    "![ej9_c](img/ej9_c.JPG)"
   ]
  },
  {
   "cell_type": "markdown",
   "metadata": {},
   "source": [
    "## d) 2B1Q $\\pm 3$ y $\\pm 1$ Volts de amplitud\n",
    "\n",
    "$\\displaystyle R_b[k] = \n",
    "\\left[\\begin{array}{cc} \n",
    "\\frac{5}{9}.A^2 & k=0\\\\\n",
    "0 & k\\neq0\n",
    "\\end{array}\\right]$\n",
    "\n",
    "$T=2.T_b$ ^ $A=3V$\n",
    "\n",
    "$\\displaystyle PSD = \\frac{T^2.sinc^2(\\pi.f.T)}{T}.\\frac{5}{9}.A^2$\n",
    "\n",
    "$\\displaystyle PSD = 2.T_b.\\frac{5}{9}.A^2.sinc^2(2\\pi.f.T_b)$\n",
    "\n",
    "$\\displaystyle PSD = \\frac{10.T_b.A^2}{9}.sinc^2(2\\pi.f.T_b)$\n",
    "\n",
    "![ej9_d](img/ej9_d.JPG)"
   ]
  }
 ],
 "metadata": {
  "kernelspec": {
   "display_name": "Python 3",
   "language": "python",
   "name": "python3"
  },
  "language_info": {
   "codemirror_mode": {
    "name": "ipython",
    "version": 3
   },
   "file_extension": ".py",
   "mimetype": "text/x-python",
   "name": "python",
   "nbconvert_exporter": "python",
   "pygments_lexer": "ipython3",
   "version": "3.10.6"
  },
  "orig_nbformat": 4
 },
 "nbformat": 4,
 "nbformat_minor": 2
}
