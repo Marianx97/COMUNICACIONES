{
 "cells": [
  {
   "cell_type": "markdown",
   "metadata": {},
   "source": [
    "# Ejercicio 7\n",
    "\n",
    "![Consigna](img/ej7_consigna.JPG)"
   ]
  },
  {
   "cell_type": "markdown",
   "metadata": {},
   "source": [
    "## a)\n",
    "\n",
    "Para calcular la energía de un bit en una señal digital codificada con señalización RZ, es necesario calcular la duración de un bit ($T_b$):\n",
    "\n",
    "$\\displaystyle 6. T_b = T_s \\to T_b = \\frac{1}{6.f_s} = \\frac{1}{6.20KHz} = 8,33{\\mu}S$\n",
    "\n",
    "### Para RZ unipolar:\n",
    "\n",
    "Un bit 1 se representa como una transición positiva seguida de un nivel bajo. La energía del bit 1 se calcula como:\n",
    "\n",
    "$\\displaystyle E_{B1} = A^2 . \\frac{T_b}{2} = (0,5V)^2 . \\frac{8,33{\\mu}S}{2} = 1,04125{\\mu}J$\n",
    "\n",
    "Un bit 0 se representa como un nivel bajo durante toda la duración del bit. La energía del bit 0 se calcula como:\n",
    "\n",
    "$\\displaystyle E_{B0} = A^2 . T_b = (0)^2 . \\frac{8,33{\\mu}S}{2} = 0J$\n",
    "\n",
    "### Para RZ polar:\n",
    "\n",
    "El bit 1 y el bit 0 como una transición de un nivel alto a un nivel bajo, pero se diferencian en la polaridad de ese nivel alto, siendo positiva para el bit 1 y negativa para el bit 0. Sin embargo, como en la expresión de la energía del bit, la amplitud está elevada al cuadrado, para el bit 1 o para el bit 0, el resultado será el mismo:\n",
    "\n",
    "$\\displaystyle E_{B1} = E_{B0} = ({\\pm}A)^2 . \\frac{T_b}{2} = ({\\pm}0,5V)^2 . \\frac{8,33{\\mu}S}{2} = 1,04125{\\mu}J$"
   ]
  },
  {
   "cell_type": "markdown",
   "metadata": {},
   "source": [
    "## b)\n",
    "\n",
    "Tasa de bits:\n",
    "- Cada muestra tiene 6 bits.\n",
    "- La frecuencia de muestreo es de 20KHz, lo que indica que se toman 20000 muestras por segundo.\n",
    "\n",
    "$\\displaystyle R = n.f_s = 6.20KHz = 120Kbps$\n",
    "\n",
    "Ancho de banda:\n",
    "\n",
    "$\\displaystyle B = \\frac{R}{2} = 60KHz$"
   ]
  },
  {
   "cell_type": "markdown",
   "metadata": {},
   "source": [
    "## c)\n",
    "\n",
    "La energía promedio por muestra se calcula como:\n",
    "\n",
    "$E_m = E_{B1} . P_{B1} + E_{B0} . P_{B0}$\n",
    "\n",
    "Donde:\n",
    "- $E_{B1}$: Energía del bit 1\n",
    "- $E_{B0}$: Energía del bit 0\n",
    "- $P_{B1}$: Probabilidad del bit 1\n",
    "- $P_{B0}$: Probabilidad del bit 0\n",
    "\n",
    "### Para RZ unipolar:\n",
    "\n",
    "$\\displaystyle E_m = 1,04125{\\mu}J . \\frac{2}{3} + 0J . \\frac{1}{3} = 694,44nJ$\n",
    "\n",
    "### Para RZ polar:\n",
    "\n",
    "$\\displaystyle E_m = 1,04125{\\mu}J . \\frac{2}{3} + 1,04125{\\mu}J . \\frac{1}{3} = 1,04125{\\mu}J$"
   ]
  },
  {
   "cell_type": "markdown",
   "metadata": {},
   "source": [
    "## d)\n",
    "\n",
    "![Gráfico](img/ej7_d.jpg)"
   ]
  }
 ],
 "metadata": {
  "language_info": {
   "name": "python"
  },
  "orig_nbformat": 4
 },
 "nbformat": 4,
 "nbformat_minor": 2
}
