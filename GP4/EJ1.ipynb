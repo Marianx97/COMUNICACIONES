{
 "cells": [
  {
   "cell_type": "markdown",
   "metadata": {},
   "source": [
    "# Ejercicio 1\n",
    "\n",
    "![consigna](img/ej1_consigna.JPG)\n"
   ]
  },
  {
   "cell_type": "markdown",
   "metadata": {},
   "source": [
    "## a)\n",
    "\n",
    "Espectro de amplitudes de la señal de salida:\n",
    "\n",
    "![ej1_a](img/ej1_a.JPG)"
   ]
  },
  {
   "cell_type": "markdown",
   "metadata": {},
   "source": [
    "## b)\n",
    "\n",
    "Espectro de amplitudes de la señal de salida del filtro pasabajos:\n",
    "\n",
    "![ej1_b](img/ej1_b.JPG)\n",
    "\n",
    "La señal no se puede recuperar debido a que no se cumple con la condición de Nyquist. La señal tiene componentes mayores a $f_s/2$, por lo ranto se superponen los espectros y se produce aliasing.\n"
   ]
  },
  {
   "cell_type": "markdown",
   "metadata": {},
   "source": [
    "## c)\n",
    "\n",
    "![ej1_c_1](img/ej1_c_1.JPG)\n",
    "\n",
    "![ej1_c_2](img/ej1_c_2.JPG)\n",
    "\n",
    "En este caso, la señal se muestrea correctamente. Para recuperarla se debería utilizar un filtro ideal con frecuencia de corte $300Hz$.\n",
    "\n",
    "Si se muestreara a $f_s=800Hz$ se podría recuperar perfectamente con el filtro de ancho de banda $350Hz$."
   ]
  },
  {
   "cell_type": "markdown",
   "metadata": {},
   "source": [
    "## d)\n",
    "\n",
    "Espectro de amplitudes para el tren de pulsos rectangulares de amplitud unitaria con ciclo de actividad del $50%$ y frecuencia $800Hz$:\n",
    "\n",
    "![ej1_d](img/ej1_d.JPG)\n",
    "\n",
    "En este caso, a diferencia de lo sucedido con el muestreo del tren de deltas, la señal muestreada resulta atenuada en sus frecuencias más altas. Se debería ecualizar la señal para mitigar el efecto."
   ]
  }
 ],
 "metadata": {
  "language_info": {
   "name": "python"
  }
 },
 "nbformat": 4,
 "nbformat_minor": 2
}
